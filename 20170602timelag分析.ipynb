{
 "cells": [
  {
   "cell_type": "code",
   "execution_count": 1,
   "metadata": {
    "collapsed": true
   },
   "outputs": [],
   "source": [
    "import pandas as pd\n",
    "import numpy as np\n",
    "import os\n",
    "import matplotlib.pyplot as plt\n",
    "\n",
    "#設定字體為標楷體'DFKai-sb':\n",
    "from pylab import *\n",
    "mpl.rcParams['font.sans-serif'] = ['DFKai-sb']"
   ]
  },
  {
   "cell_type": "code",
   "execution_count": 3,
   "metadata": {
    "collapsed": false
   },
   "outputs": [
    {
     "data": {
      "text/html": [
       "<div>\n",
       "<table border=\"1\" class=\"dataframe\">\n",
       "  <thead>\n",
       "    <tr style=\"text-align: right;\">\n",
       "      <th></th>\n",
       "      <th>月</th>\n",
       "      <th>年</th>\n",
       "      <th>區</th>\n",
       "      <th>里</th>\n",
       "      <th>PosHH</th>\n",
       "      <th>PosHHAeg</th>\n",
       "      <th>ConIn</th>\n",
       "      <th>ConOut</th>\n",
       "      <th>ConAll</th>\n",
       "      <th>PosConIn</th>\n",
       "      <th>...</th>\n",
       "      <th>HIAeg</th>\n",
       "      <th>HILv</th>\n",
       "      <th>HILvAeg</th>\n",
       "      <th>CI</th>\n",
       "      <th>CILv</th>\n",
       "      <th>LI</th>\n",
       "      <th>LILv</th>\n",
       "      <th>Pupa</th>\n",
       "      <th>AI</th>\n",
       "      <th>Con100HH</th>\n",
       "    </tr>\n",
       "  </thead>\n",
       "  <tbody>\n",
       "    <tr>\n",
       "      <th>0</th>\n",
       "      <td>2</td>\n",
       "      <td>2013</td>\n",
       "      <td>三民區</td>\n",
       "      <td>安生里</td>\n",
       "      <td>0</td>\n",
       "      <td>0</td>\n",
       "      <td>15</td>\n",
       "      <td>18</td>\n",
       "      <td>33</td>\n",
       "      <td>0</td>\n",
       "      <td>...</td>\n",
       "      <td>0</td>\n",
       "      <td>0</td>\n",
       "      <td>0</td>\n",
       "      <td>0</td>\n",
       "      <td>0</td>\n",
       "      <td>0</td>\n",
       "      <td>0</td>\n",
       "      <td>0</td>\n",
       "      <td>0</td>\n",
       "      <td>0</td>\n",
       "    </tr>\n",
       "    <tr>\n",
       "      <th>1</th>\n",
       "      <td>2</td>\n",
       "      <td>2013</td>\n",
       "      <td>三民區</td>\n",
       "      <td>安邦里</td>\n",
       "      <td>0</td>\n",
       "      <td>0</td>\n",
       "      <td>14</td>\n",
       "      <td>15</td>\n",
       "      <td>29</td>\n",
       "      <td>0</td>\n",
       "      <td>...</td>\n",
       "      <td>0</td>\n",
       "      <td>0</td>\n",
       "      <td>0</td>\n",
       "      <td>0</td>\n",
       "      <td>0</td>\n",
       "      <td>0</td>\n",
       "      <td>0</td>\n",
       "      <td>0</td>\n",
       "      <td>0</td>\n",
       "      <td>0</td>\n",
       "    </tr>\n",
       "    <tr>\n",
       "      <th>2</th>\n",
       "      <td>2</td>\n",
       "      <td>2013</td>\n",
       "      <td>三民區</td>\n",
       "      <td>安宜里</td>\n",
       "      <td>0</td>\n",
       "      <td>0</td>\n",
       "      <td>17</td>\n",
       "      <td>21</td>\n",
       "      <td>38</td>\n",
       "      <td>0</td>\n",
       "      <td>...</td>\n",
       "      <td>0</td>\n",
       "      <td>0</td>\n",
       "      <td>0</td>\n",
       "      <td>0</td>\n",
       "      <td>0</td>\n",
       "      <td>0</td>\n",
       "      <td>0</td>\n",
       "      <td>0</td>\n",
       "      <td>0</td>\n",
       "      <td>0</td>\n",
       "    </tr>\n",
       "    <tr>\n",
       "      <th>3</th>\n",
       "      <td>2</td>\n",
       "      <td>2013</td>\n",
       "      <td>三民區</td>\n",
       "      <td>安泰里</td>\n",
       "      <td>0</td>\n",
       "      <td>0</td>\n",
       "      <td>24</td>\n",
       "      <td>5</td>\n",
       "      <td>29</td>\n",
       "      <td>0</td>\n",
       "      <td>...</td>\n",
       "      <td>0</td>\n",
       "      <td>0</td>\n",
       "      <td>0</td>\n",
       "      <td>0</td>\n",
       "      <td>0</td>\n",
       "      <td>0</td>\n",
       "      <td>0</td>\n",
       "      <td>0</td>\n",
       "      <td>0</td>\n",
       "      <td>0</td>\n",
       "    </tr>\n",
       "    <tr>\n",
       "      <th>4</th>\n",
       "      <td>2</td>\n",
       "      <td>2013</td>\n",
       "      <td>三民區</td>\n",
       "      <td>安發里</td>\n",
       "      <td>0</td>\n",
       "      <td>0</td>\n",
       "      <td>12</td>\n",
       "      <td>15</td>\n",
       "      <td>27</td>\n",
       "      <td>0</td>\n",
       "      <td>...</td>\n",
       "      <td>0</td>\n",
       "      <td>0</td>\n",
       "      <td>0</td>\n",
       "      <td>0</td>\n",
       "      <td>0</td>\n",
       "      <td>0</td>\n",
       "      <td>0</td>\n",
       "      <td>0</td>\n",
       "      <td>0</td>\n",
       "      <td>0</td>\n",
       "    </tr>\n",
       "  </tbody>\n",
       "</table>\n",
       "<p>5 rows × 35 columns</p>\n",
       "</div>"
      ],
      "text/plain": [
       "   月     年    區    里 PosHH PosHHAeg ConIn ConOut ConAll PosConIn   ...     \\\n",
       "0  2  2013  三民區  安生里     0        0    15     18     33        0   ...      \n",
       "1  2  2013  三民區  安邦里     0        0    14     15     29        0   ...      \n",
       "2  2  2013  三民區  安宜里     0        0    17     21     38        0   ...      \n",
       "3  2  2013  三民區  安泰里     0        0    24      5     29        0   ...      \n",
       "4  2  2013  三民區  安發里     0        0    12     15     27        0   ...      \n",
       "\n",
       "  HIAeg HILv HILvAeg CI CILv LI LILv Pupa AI Con100HH  \n",
       "0     0    0       0  0    0  0    0    0  0        0  \n",
       "1     0    0       0  0    0  0    0    0  0        0  \n",
       "2     0    0       0  0    0  0    0    0  0        0  \n",
       "3     0    0       0  0    0  0    0    0  0        0  \n",
       "4     0    0       0  0    0  0    0    0  0        0  \n",
       "\n",
       "[5 rows x 35 columns]"
      ]
     },
     "execution_count": 3,
     "metadata": {},
     "output_type": "execute_result"
    }
   ],
   "source": [
    "f1 = open('H:\\\\LabData\\\\DATA\\\\蚊子資料(需要更新)\\\\2013-2015全區統整.csv','r')\n",
    "data_list = []\n",
    "for i in f1.readlines():\n",
    "    data = i.strip()\n",
    "    data = data.split(',')\n",
    "    data_list.append(data)\n",
    "f1.close()\n",
    "MosData = pd.DataFrame(data_list[1:],columns=data_list[0])\n",
    "MosData.head()"
   ]
  },
  {
   "cell_type": "code",
   "execution_count": 4,
   "metadata": {
    "collapsed": false
   },
   "outputs": [
    {
     "data": {
      "text/html": [
       "<div>\n",
       "<table border=\"1\" class=\"dataframe\">\n",
       "  <thead>\n",
       "    <tr style=\"text-align: right;\">\n",
       "      <th></th>\n",
       "      <th>縣市名稱</th>\n",
       "      <th>鄉鎮市區名稱</th>\n",
       "      <th>村里名稱</th>\n",
       "      <th>鄉鎮市區代碼</th>\n",
       "      <th>村里代碼</th>\n",
       "      <th>人口數</th>\n",
       "      <th>面積</th>\n",
       "      <th>人口密度</th>\n",
       "    </tr>\n",
       "  </thead>\n",
       "  <tbody>\n",
       "    <tr>\n",
       "      <th>0</th>\n",
       "      <td>金門縣</td>\n",
       "      <td>金湖鎮</td>\n",
       "      <td>新湖里</td>\n",
       "      <td>09020030</td>\n",
       "      <td>006</td>\n",
       "      <td>7143</td>\n",
       "      <td>0</td>\n",
       "      <td>0</td>\n",
       "    </tr>\n",
       "    <tr>\n",
       "      <th>1</th>\n",
       "      <td>金門縣</td>\n",
       "      <td>金湖鎮</td>\n",
       "      <td>溪湖里</td>\n",
       "      <td>09020030</td>\n",
       "      <td>007</td>\n",
       "      <td>1450</td>\n",
       "      <td>0</td>\n",
       "      <td>0</td>\n",
       "    </tr>\n",
       "    <tr>\n",
       "      <th>2</th>\n",
       "      <td>金門縣</td>\n",
       "      <td>金湖鎮</td>\n",
       "      <td>蓮庵里</td>\n",
       "      <td>09020030</td>\n",
       "      <td>008</td>\n",
       "      <td>1565</td>\n",
       "      <td>0</td>\n",
       "      <td>0</td>\n",
       "    </tr>\n",
       "    <tr>\n",
       "      <th>3</th>\n",
       "      <td>金門縣</td>\n",
       "      <td>金湖鎮</td>\n",
       "      <td>瓊林里</td>\n",
       "      <td>09020030</td>\n",
       "      <td>005</td>\n",
       "      <td>3139</td>\n",
       "      <td>0</td>\n",
       "      <td>0</td>\n",
       "    </tr>\n",
       "    <tr>\n",
       "      <th>4</th>\n",
       "      <td>金門縣</td>\n",
       "      <td>金寧鄉</td>\n",
       "      <td>古寧村</td>\n",
       "      <td>09020040</td>\n",
       "      <td>001</td>\n",
       "      <td>3108</td>\n",
       "      <td>0</td>\n",
       "      <td>0</td>\n",
       "    </tr>\n",
       "  </tbody>\n",
       "</table>\n",
       "</div>"
      ],
      "text/plain": [
       "  縣市名稱 鄉鎮市區名稱 村里名稱    鄉鎮市區代碼 村里代碼   人口數 面積 人口密度\n",
       "0  金門縣    金湖鎮  新湖里  09020030  006  7143  0    0\n",
       "1  金門縣    金湖鎮  溪湖里  09020030  007  1450  0    0\n",
       "2  金門縣    金湖鎮  蓮庵里  09020030  008  1565  0    0\n",
       "3  金門縣    金湖鎮  瓊林里  09020030  005  3139  0    0\n",
       "4  金門縣    金寧鄉  古寧村  09020040  001  3108  0    0"
      ]
     },
     "execution_count": 4,
     "metadata": {},
     "output_type": "execute_result"
    }
   ],
   "source": [
    "f1 = open('H:\\\\LabData\\\\DATA\\\\PopulationData\\\\各里人口密度.csv','r')\n",
    "data_list = []\n",
    "for i in f1.readlines():\n",
    "    data = i.strip()\n",
    "    data = data.split(',')\n",
    "    data_list.append(data)\n",
    "f1.close()\n",
    "popdata = pd.DataFrame(data_list[1:],columns=data_list[0])\n",
    "popdata.head()"
   ]
  },
  {
   "cell_type": "code",
   "execution_count": 50,
   "metadata": {
    "collapsed": false
   },
   "outputs": [
    {
     "data": {
      "text/html": [
       "<div>\n",
       "<table border=\"1\" class=\"dataframe\">\n",
       "  <thead>\n",
       "    <tr style=\"text-align: right;\">\n",
       "      <th></th>\n",
       "      <th>合併用</th>\n",
       "      <th>時間編號</th>\n",
       "      <th>區</th>\n",
       "      <th>里</th>\n",
       "      <th>年</th>\n",
       "      <th>月</th>\n",
       "      <th>個案數</th>\n",
       "      <th>人口數</th>\n",
       "      <th>發生率</th>\n",
       "    </tr>\n",
       "  </thead>\n",
       "  <tbody>\n",
       "    <tr>\n",
       "      <th>0</th>\n",
       "      <td>1320141三民區力行里</td>\n",
       "      <td>13</td>\n",
       "      <td>三民區</td>\n",
       "      <td>力行里</td>\n",
       "      <td>2014</td>\n",
       "      <td>1</td>\n",
       "      <td>0</td>\n",
       "      <td>1315</td>\n",
       "      <td>0</td>\n",
       "    </tr>\n",
       "    <tr>\n",
       "      <th>1</th>\n",
       "      <td>1420142三民區力行里</td>\n",
       "      <td>14</td>\n",
       "      <td>三民區</td>\n",
       "      <td>力行里</td>\n",
       "      <td>2014</td>\n",
       "      <td>2</td>\n",
       "      <td>0</td>\n",
       "      <td>1315</td>\n",
       "      <td>0</td>\n",
       "    </tr>\n",
       "    <tr>\n",
       "      <th>2</th>\n",
       "      <td>1520143三民區力行里</td>\n",
       "      <td>15</td>\n",
       "      <td>三民區</td>\n",
       "      <td>力行里</td>\n",
       "      <td>2014</td>\n",
       "      <td>3</td>\n",
       "      <td>0</td>\n",
       "      <td>1315</td>\n",
       "      <td>0</td>\n",
       "    </tr>\n",
       "    <tr>\n",
       "      <th>3</th>\n",
       "      <td>1620144三民區力行里</td>\n",
       "      <td>16</td>\n",
       "      <td>三民區</td>\n",
       "      <td>力行里</td>\n",
       "      <td>2014</td>\n",
       "      <td>4</td>\n",
       "      <td>0</td>\n",
       "      <td>1315</td>\n",
       "      <td>0</td>\n",
       "    </tr>\n",
       "    <tr>\n",
       "      <th>4</th>\n",
       "      <td>1720145三民區力行里</td>\n",
       "      <td>17</td>\n",
       "      <td>三民區</td>\n",
       "      <td>力行里</td>\n",
       "      <td>2014</td>\n",
       "      <td>5</td>\n",
       "      <td>0</td>\n",
       "      <td>1315</td>\n",
       "      <td>0</td>\n",
       "    </tr>\n",
       "  </tbody>\n",
       "</table>\n",
       "</div>"
      ],
      "text/plain": [
       "             合併用 時間編號    區    里     年  月 個案數   人口數 發生率\n",
       "0  1320141三民區力行里   13  三民區  力行里  2014  1   0  1315   0\n",
       "1  1420142三民區力行里   14  三民區  力行里  2014  2   0  1315   0\n",
       "2  1520143三民區力行里   15  三民區  力行里  2014  3   0  1315   0\n",
       "3  1620144三民區力行里   16  三民區  力行里  2014  4   0  1315   0\n",
       "4  1720145三民區力行里   17  三民區  力行里  2014  5   0  1315   0"
      ]
     },
     "execution_count": 50,
     "metadata": {},
     "output_type": "execute_result"
    }
   ],
   "source": [
    "f1 = open('H:\\\\LabData\\\\DATA\\\\登革熱個案\\\\2013-2014登革熱發生數(時間編號).csv','r')\n",
    "data_list = []\n",
    "for i in f1.readlines():\n",
    "    data = i.strip()\n",
    "    data = data.split(',')\n",
    "    data_list.append(data)\n",
    "f1.close()\n",
    "incidata = pd.DataFrame(data_list[1:],columns=data_list[0])\n",
    "incidata.head()"
   ]
  },
  {
   "cell_type": "code",
   "execution_count": 7,
   "metadata": {
    "collapsed": true
   },
   "outputs": [],
   "source": [
    "def SelectPopName(popdata,city,dist):\n",
    "    PopDataSelected = popdata.loc[(popdata.ix[:,0]==city)&(popdata.ix[:,1]==dist)]\n",
    "    LiName = PopDataSelected['村里名稱']\n",
    "    return LiName"
   ]
  },
  {
   "cell_type": "code",
   "execution_count": 10,
   "metadata": {
    "collapsed": false
   },
   "outputs": [
    {
     "name": "stdout",
     "output_type": "stream",
     "text": [
      "['力行里', '十全里', '十美里', '千北里', '千秋里', '千歲里', '川東里', '本上里', '本元里', '本文里', '本安里', '本和里', '本武里', '本揚里', '本館里', '正順里', '正興里', '民享里', '立業里', '立誠里', '立德里', '同德里', '安生里', '安吉里', '安邦里', '安和里', '安宜里', '安東里', '安泰里', '安康里', '安發里', '安寧里', '長明里', '建東里', '博惠里', '博愛里', '港西里', '港東里', '港新里', '裕民里', '達仁里', '達明里', '達勇里', '達德里', '鼎力里', '鼎中里', '鼎西里', '鼎金里', '鼎泰里', '鼎強里', '鼎盛里', '精華里', '鳳北里', '鳳南里', '德仁里', '德北里', '德行里', '德西里', '德東里', '德智里', '興德里', '豐裕里', '寶中里', '寶民里', '寶玉里', '寶安里', '寶泰里', '寶珠里', '寶國里', '寶盛里', '寶華里', '寶業里', '寶獅里', '寶德里', '寶慶里', '寶興里', '寶龍里', '灣子里', '灣中里', '灣成里', '灣利里', '灣勝里', '灣復里', '灣華里', '灣愛里', '灣興里']\n"
     ]
    }
   ],
   "source": [
    "LiNames = list(SelectPopName(popdata,'高雄市','三民區'))\n",
    "#print(LiNames)"
   ]
  },
  {
   "cell_type": "code",
   "execution_count": 49,
   "metadata": {
    "collapsed": false
   },
   "outputs": [],
   "source": [
    "DistNames = ['三民區','苓雅區','前鎮區','鳳山區']\n",
    "Months = ['1','2','3','4','5','6','7','8','9','10','11','12']\n",
    "Years = ['2014','2015']\n",
    "\n",
    "f1 = open('H:\\\\LabData\\\\DATA\\\\登革熱個案\\\\2013-2014登革熱發生數.csv','w')\n",
    "f1.write('區,里,年,月,個案數,人口數,發生率\\n')\n",
    "\n",
    "for i in DistNames:\n",
    "    LiNames = list(SelectPopName(popdata,'高雄市',i))\n",
    "    for ii in LiNames:\n",
    "        for iii in Months:\n",
    "            for iiii in Years:\n",
    "                FilteredData = incidata.loc[(incidata.ix[:,3]==i[0:2])&(incidata.ix[:,4]==ii[0:2])&(incidata.ix[:,5]==iii)&(incidata.ix[:,6]==iiii)]\n",
    "                FilteredPop = popdata.loc[(popdata.ix[:,0]=='高雄市')&(popdata.ix[:,1]==i)&(popdata.ix[:,2]==ii)]\n",
    "                CaseNumber = len(FilteredData)\n",
    "                Population = int(FilteredPop.ix[:,5])\n",
    "                Incidence = CaseNumber / Population\n",
    "                f1.write('%s,%s,%s,%s,%d,%d,%f\\n'%(i,ii,iiii,iii,CaseNumber,Population,Incidence))\n",
    "f1.close()"
   ]
  },
  {
   "cell_type": "code",
   "execution_count": 48,
   "metadata": {
    "collapsed": false
   },
   "outputs": [],
   "source": [
    "f1.close()"
   ]
  },
  {
   "cell_type": "code",
   "execution_count": 42,
   "metadata": {
    "collapsed": false
   },
   "outputs": [
    {
     "data": {
      "text/plain": [
       "1315"
      ]
     },
     "execution_count": 42,
     "metadata": {},
     "output_type": "execute_result"
    }
   ],
   "source": [
    "d = popdata.loc[(popdata.ix[:,0]=='高雄市')&(popdata.ix[:,1]=='三民區')&(popdata.ix[:,2]=='力行里')]\n",
    "int(d.ix[:,5])"
   ]
  },
  {
   "cell_type": "code",
   "execution_count": null,
   "metadata": {
    "collapsed": true
   },
   "outputs": [],
   "source": []
  }
 ],
 "metadata": {
  "kernelspec": {
   "display_name": "Python 3",
   "language": "python",
   "name": "python3"
  },
  "language_info": {
   "codemirror_mode": {
    "name": "ipython",
    "version": 3
   },
   "file_extension": ".py",
   "mimetype": "text/x-python",
   "name": "python",
   "nbconvert_exporter": "python",
   "pygments_lexer": "ipython3",
   "version": "3.6.0"
  }
 },
 "nbformat": 4,
 "nbformat_minor": 2
}
