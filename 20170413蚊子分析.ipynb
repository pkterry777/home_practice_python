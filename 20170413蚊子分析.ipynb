{
 "cells": [
  {
   "cell_type": "code",
   "execution_count": 42,
   "metadata": {
    "collapsed": true
   },
   "outputs": [],
   "source": [
    "import pandas as pd\n",
    "import numpy as np\n",
    "import os\n",
    "import matplotlib.pyplot as plt\n",
    "\n",
    "#設定字體為標楷體'DFKai-sb':\n",
    "from pylab import *\n",
    "mpl.rcParams['font.sans-serif'] = ['DFKai-sb']"
   ]
  },
  {
   "cell_type": "code",
   "execution_count": 2,
   "metadata": {
    "collapsed": false
   },
   "outputs": [
    {
     "data": {
      "text/html": [
       "<div>\n",
       "<table border=\"1\" class=\"dataframe\">\n",
       "  <thead>\n",
       "    <tr style=\"text-align: right;\">\n",
       "      <th></th>\n",
       "      <th>縣市名稱</th>\n",
       "      <th>鄉鎮市區名稱</th>\n",
       "      <th>村里名稱</th>\n",
       "      <th>鄉鎮市區代碼</th>\n",
       "      <th>村里代碼</th>\n",
       "      <th>人口數</th>\n",
       "      <th>面積</th>\n",
       "      <th>人口密度</th>\n",
       "    </tr>\n",
       "  </thead>\n",
       "  <tbody>\n",
       "    <tr>\n",
       "      <th>0</th>\n",
       "      <td>金門縣</td>\n",
       "      <td>金湖鎮</td>\n",
       "      <td>新湖里</td>\n",
       "      <td>09020030</td>\n",
       "      <td>006</td>\n",
       "      <td>7143</td>\n",
       "      <td>0</td>\n",
       "      <td>0</td>\n",
       "    </tr>\n",
       "    <tr>\n",
       "      <th>1</th>\n",
       "      <td>金門縣</td>\n",
       "      <td>金湖鎮</td>\n",
       "      <td>溪湖里</td>\n",
       "      <td>09020030</td>\n",
       "      <td>007</td>\n",
       "      <td>1450</td>\n",
       "      <td>0</td>\n",
       "      <td>0</td>\n",
       "    </tr>\n",
       "    <tr>\n",
       "      <th>2</th>\n",
       "      <td>金門縣</td>\n",
       "      <td>金湖鎮</td>\n",
       "      <td>蓮庵里</td>\n",
       "      <td>09020030</td>\n",
       "      <td>008</td>\n",
       "      <td>1565</td>\n",
       "      <td>0</td>\n",
       "      <td>0</td>\n",
       "    </tr>\n",
       "    <tr>\n",
       "      <th>3</th>\n",
       "      <td>金門縣</td>\n",
       "      <td>金湖鎮</td>\n",
       "      <td>瓊林里</td>\n",
       "      <td>09020030</td>\n",
       "      <td>005</td>\n",
       "      <td>3139</td>\n",
       "      <td>0</td>\n",
       "      <td>0</td>\n",
       "    </tr>\n",
       "    <tr>\n",
       "      <th>4</th>\n",
       "      <td>金門縣</td>\n",
       "      <td>金寧鄉</td>\n",
       "      <td>古寧村</td>\n",
       "      <td>09020040</td>\n",
       "      <td>001</td>\n",
       "      <td>3108</td>\n",
       "      <td>0</td>\n",
       "      <td>0</td>\n",
       "    </tr>\n",
       "  </tbody>\n",
       "</table>\n",
       "</div>"
      ],
      "text/plain": [
       "  縣市名稱 鄉鎮市區名稱 村里名稱    鄉鎮市區代碼 村里代碼   人口數 面積 人口密度\n",
       "0  金門縣    金湖鎮  新湖里  09020030  006  7143  0    0\n",
       "1  金門縣    金湖鎮  溪湖里  09020030  007  1450  0    0\n",
       "2  金門縣    金湖鎮  蓮庵里  09020030  008  1565  0    0\n",
       "3  金門縣    金湖鎮  瓊林里  09020030  005  3139  0    0\n",
       "4  金門縣    金寧鄉  古寧村  09020040  001  3108  0    0"
      ]
     },
     "execution_count": 2,
     "metadata": {},
     "output_type": "execute_result"
    }
   ],
   "source": [
    "f1 = open('H:\\\\LabData\\\\DATA\\\\PopulationData\\\\Li_population_density(English).csv','r')\n",
    "\n",
    "data_list = []\n",
    "for i in f1.readlines():\n",
    "    data = i.strip()\n",
    "    data = data.split(',')\n",
    "    data_list.append(data)\n",
    "f1.close()\n",
    "PopData = pd.DataFrame(data_list[1:],columns=data_list[0])\n",
    "PopData.head()"
   ]
  },
  {
   "cell_type": "code",
   "execution_count": 3,
   "metadata": {
    "collapsed": false
   },
   "outputs": [
    {
     "data": {
      "text/html": [
       "<div>\n",
       "<table border=\"1\" class=\"dataframe\">\n",
       "  <thead>\n",
       "    <tr style=\"text-align: right;\">\n",
       "      <th></th>\n",
       "      <th>Date</th>\n",
       "      <th>County</th>\n",
       "      <th>Town</th>\n",
       "      <th>Village</th>\n",
       "      <th>VillageID</th>\n",
       "      <th>VillageLon</th>\n",
       "      <th>VillageLat</th>\n",
       "      <th>AreaType</th>\n",
       "      <th>HouseHold</th>\n",
       "      <th>InspectType</th>\n",
       "      <th>...</th>\n",
       "      <th>HIAeg</th>\n",
       "      <th>HILv</th>\n",
       "      <th>HILvAeg</th>\n",
       "      <th>CI</th>\n",
       "      <th>CILv</th>\n",
       "      <th>LI</th>\n",
       "      <th>LILv</th>\n",
       "      <th>Pupa</th>\n",
       "      <th>AI</th>\n",
       "      <th>Con100HH</th>\n",
       "    </tr>\n",
       "  </thead>\n",
       "  <tbody>\n",
       "    <tr>\n",
       "      <th>0</th>\n",
       "      <td>2010/01/02</td>\n",
       "      <td>高雄市</td>\n",
       "      <td>鳳山區</td>\n",
       "      <td>生明里</td>\n",
       "      <td>6401200-045</td>\n",
       "      <td>120.3630515</td>\n",
       "      <td>22.61772672</td>\n",
       "      <td>住宅</td>\n",
       "      <td>60</td>\n",
       "      <td>監測</td>\n",
       "      <td>...</td>\n",
       "      <td>3.333</td>\n",
       "      <td>1</td>\n",
       "      <td>1</td>\n",
       "      <td>5.714</td>\n",
       "      <td>3</td>\n",
       "      <td>0</td>\n",
       "      <td>0</td>\n",
       "      <td>0</td>\n",
       "      <td>0.0333</td>\n",
       "      <td>3.33</td>\n",
       "    </tr>\n",
       "    <tr>\n",
       "      <th>1</th>\n",
       "      <td>2010/01/03</td>\n",
       "      <td>高雄市</td>\n",
       "      <td>鳳山區</td>\n",
       "      <td>福誠里</td>\n",
       "      <td>6401200-049</td>\n",
       "      <td>120.3242968</td>\n",
       "      <td>22.59462619</td>\n",
       "      <td>住宅</td>\n",
       "      <td>57</td>\n",
       "      <td>監測</td>\n",
       "      <td>...</td>\n",
       "      <td>0</td>\n",
       "      <td>0</td>\n",
       "      <td>0</td>\n",
       "      <td>0</td>\n",
       "      <td>0</td>\n",
       "      <td>0</td>\n",
       "      <td>0</td>\n",
       "      <td>0</td>\n",
       "      <td>0</td>\n",
       "      <td>0</td>\n",
       "    </tr>\n",
       "    <tr>\n",
       "      <th>2</th>\n",
       "      <td>2010/01/04</td>\n",
       "      <td>高雄市</td>\n",
       "      <td>鳳山區</td>\n",
       "      <td>福誠里</td>\n",
       "      <td>6401200-049</td>\n",
       "      <td>120.3242968</td>\n",
       "      <td>22.59462619</td>\n",
       "      <td>學校</td>\n",
       "      <td>50</td>\n",
       "      <td>監測</td>\n",
       "      <td>...</td>\n",
       "      <td>0</td>\n",
       "      <td>0</td>\n",
       "      <td>0</td>\n",
       "      <td>0</td>\n",
       "      <td>0</td>\n",
       "      <td>0</td>\n",
       "      <td>0</td>\n",
       "      <td>0</td>\n",
       "      <td>0</td>\n",
       "      <td>0</td>\n",
       "    </tr>\n",
       "    <tr>\n",
       "      <th>3</th>\n",
       "      <td>2010/01/04</td>\n",
       "      <td>高雄市</td>\n",
       "      <td>鳳山區</td>\n",
       "      <td>福祥里</td>\n",
       "      <td>6401200-077</td>\n",
       "      <td>120.3255063</td>\n",
       "      <td>22.59259588</td>\n",
       "      <td>住宅</td>\n",
       "      <td>50</td>\n",
       "      <td>監測</td>\n",
       "      <td>...</td>\n",
       "      <td>2</td>\n",
       "      <td>1</td>\n",
       "      <td>1</td>\n",
       "      <td>3.448</td>\n",
       "      <td>2</td>\n",
       "      <td>16</td>\n",
       "      <td>3</td>\n",
       "      <td>0</td>\n",
       "      <td>0</td>\n",
       "      <td>2</td>\n",
       "    </tr>\n",
       "    <tr>\n",
       "      <th>4</th>\n",
       "      <td>2010/01/04</td>\n",
       "      <td>高雄市</td>\n",
       "      <td>鳳山區</td>\n",
       "      <td>大德里</td>\n",
       "      <td>6401200-057</td>\n",
       "      <td>120.3323198</td>\n",
       "      <td>22.58946356</td>\n",
       "      <td>住宅</td>\n",
       "      <td>50</td>\n",
       "      <td>監測</td>\n",
       "      <td>...</td>\n",
       "      <td>0</td>\n",
       "      <td>0</td>\n",
       "      <td>0</td>\n",
       "      <td>0</td>\n",
       "      <td>0</td>\n",
       "      <td>0</td>\n",
       "      <td>0</td>\n",
       "      <td>0</td>\n",
       "      <td>0</td>\n",
       "      <td>0</td>\n",
       "    </tr>\n",
       "  </tbody>\n",
       "</table>\n",
       "<p>5 rows × 41 columns</p>\n",
       "</div>"
      ],
      "text/plain": [
       "         Date County Town Village    VillageID   VillageLon   VillageLat  \\\n",
       "0  2010/01/02    高雄市  鳳山區     生明里  6401200-045  120.3630515  22.61772672   \n",
       "1  2010/01/03    高雄市  鳳山區     福誠里  6401200-049  120.3242968  22.59462619   \n",
       "2  2010/01/04    高雄市  鳳山區     福誠里  6401200-049  120.3242968  22.59462619   \n",
       "3  2010/01/04    高雄市  鳳山區     福祥里  6401200-077  120.3255063  22.59259588   \n",
       "4  2010/01/04    高雄市  鳳山區     大德里  6401200-057  120.3323198  22.58946356   \n",
       "\n",
       "  AreaType HouseHold InspectType   ...     HIAeg HILv HILvAeg     CI CILv  LI  \\\n",
       "0       住宅        60          監測   ...     3.333    1       1  5.714    3   0   \n",
       "1       住宅        57          監測   ...         0    0       0      0    0   0   \n",
       "2       學校        50          監測   ...         0    0       0      0    0   0   \n",
       "3       住宅        50          監測   ...         2    1       1  3.448    2  16   \n",
       "4       住宅        50          監測   ...         0    0       0      0    0   0   \n",
       "\n",
       "  LILv Pupa      AI Con100HH  \n",
       "0    0    0  0.0333     3.33  \n",
       "1    0    0       0        0  \n",
       "2    0    0       0        0  \n",
       "3    3    0       0        2  \n",
       "4    0    0       0        0  \n",
       "\n",
       "[5 rows x 41 columns]"
      ]
     },
     "execution_count": 3,
     "metadata": {},
     "output_type": "execute_result"
    }
   ],
   "source": [
    "f2 = open('H:\\\\LabData\\\\DATA\\\\蚊子資料(需要更新)\\\\蚊子-20170411.csv','r')\n",
    "\n",
    "data_list = []\n",
    "for i in f2.readlines():\n",
    "    data = i.strip()\n",
    "    data = data.split(',')\n",
    "    data_list.append(data)\n",
    "f2.close()\n",
    "MosData= pd.DataFrame(data_list[1:],columns=data_list[0])\n",
    "MosData.head()"
   ]
  },
  {
   "cell_type": "code",
   "execution_count": 12,
   "metadata": {
    "collapsed": false
   },
   "outputs": [],
   "source": []
  },
  {
   "cell_type": "code",
   "execution_count": 14,
   "metadata": {
    "collapsed": true
   },
   "outputs": [],
   "source": [
    "#迭帶區:\n",
    "DistList = ['三民區','苓雅區','前鎮區','鳳山區']  #i3\n",
    "\n",
    "#YearList = ['2017', '2016', '2015', '2014'] #i1\n",
    "YearList = ['2015']\n",
    "MonList = ['01','02','03','04','05','06','07','08','09','10','11','12'] #i2\n",
    "\n"
   ]
  },
  {
   "cell_type": "code",
   "execution_count": 15,
   "metadata": {
    "collapsed": false
   },
   "outputs": [],
   "source": [
    "#過濾:\n",
    "os.chdir('H:\\\\LabData\\\\DATA\\\\蚊子資料(需要更新)')\n",
    "f1 = open('2015年每月次數.csv','w')\n",
    "f1.write('年分,月份,區別,里別,蚊子資料數\\n')\n",
    "\n",
    "for i1 in range(len(YearList)):\n",
    "    #print('[%s年]'%YearList[i1])\n",
    "    for i2 in range(len(MonList)):\n",
    "        #print('--%s月--'%MonList[i2])\n",
    "        for i3 in range(len(DistList)):\n",
    "            Filter = PopData.ix[:,1] == DistList[i3]\n",
    "            PopData_Dist = PopData[Filter]\n",
    "            LiName = list(PopData_Dist.ix[:,2]) #i4\n",
    "            for i4 in range(len(LiName)):\n",
    "                MosData_Filtered = MosData.loc[(MosData['Date'].str[0:4]==YearList[i1]) & (MosData['Date'].str[5:7]==MonList[i2]) & (MosData['Town'] == DistList[i3]) & (MosData['Village']==LiName[i4])]\n",
    "                #print('%s-%s :%d 次'%(DistList[i3],LiName[i4],len(MosData_Filtered)))\n",
    "                f1.write('%s,%s,%s,%s,%d\\n'%(YearList[i1],MonList[i2],DistList[i3],LiName[i4],len(MosData_Filtered)))\n",
    "                \n",
    "f1.close()              "
   ]
  },
  {
   "cell_type": "code",
   "execution_count": 17,
   "metadata": {
    "collapsed": false
   },
   "outputs": [
    {
     "data": {
      "text/html": [
       "<div>\n",
       "<table border=\"1\" class=\"dataframe\">\n",
       "  <thead>\n",
       "    <tr style=\"text-align: right;\">\n",
       "      <th></th>\n",
       "      <th>年分</th>\n",
       "      <th>月份</th>\n",
       "      <th>區別</th>\n",
       "      <th>里別</th>\n",
       "      <th>蚊子資料數</th>\n",
       "    </tr>\n",
       "  </thead>\n",
       "  <tbody>\n",
       "    <tr>\n",
       "      <th>0</th>\n",
       "      <td>2017</td>\n",
       "      <td>1</td>\n",
       "      <td>三民區</td>\n",
       "      <td>力行里</td>\n",
       "      <td>0</td>\n",
       "    </tr>\n",
       "    <tr>\n",
       "      <th>1</th>\n",
       "      <td>2017</td>\n",
       "      <td>1</td>\n",
       "      <td>三民區</td>\n",
       "      <td>十全里</td>\n",
       "      <td>1</td>\n",
       "    </tr>\n",
       "    <tr>\n",
       "      <th>2</th>\n",
       "      <td>2017</td>\n",
       "      <td>1</td>\n",
       "      <td>三民區</td>\n",
       "      <td>十美里</td>\n",
       "      <td>1</td>\n",
       "    </tr>\n",
       "    <tr>\n",
       "      <th>3</th>\n",
       "      <td>2017</td>\n",
       "      <td>1</td>\n",
       "      <td>三民區</td>\n",
       "      <td>千北里</td>\n",
       "      <td>0</td>\n",
       "    </tr>\n",
       "    <tr>\n",
       "      <th>4</th>\n",
       "      <td>2017</td>\n",
       "      <td>1</td>\n",
       "      <td>三民區</td>\n",
       "      <td>千秋里</td>\n",
       "      <td>1</td>\n",
       "    </tr>\n",
       "  </tbody>\n",
       "</table>\n",
       "</div>"
      ],
      "text/plain": [
       "     年分 月份   區別   里別 蚊子資料數\n",
       "0  2017  1  三民區  力行里     0\n",
       "1  2017  1  三民區  十全里     1\n",
       "2  2017  1  三民區  十美里     1\n",
       "3  2017  1  三民區  千北里     0\n",
       "4  2017  1  三民區  千秋里     1"
      ]
     },
     "execution_count": 17,
     "metadata": {},
     "output_type": "execute_result"
    }
   ],
   "source": [
    "f2 = open('H:\\\\LabData\\\\DATA\\\\蚊子資料(需要更新)\\\\2016-2017年每月次數.csv')\n",
    "data_list = []\n",
    "for i in f2.readlines():\n",
    "    data = i.strip()\n",
    "    data = data.split(',')\n",
    "    data_list.append(data)\n",
    "f2.close()\n",
    "\n",
    "MosTime = pd.DataFrame(data_list[1:],columns=data_list[0])\n",
    "MosTime.head()"
   ]
  },
  {
   "cell_type": "code",
   "execution_count": 63,
   "metadata": {
    "collapsed": false
   },
   "outputs": [
    {
     "name": "stderr",
     "output_type": "stream",
     "text": [
      "C:\\Users\\jean\\Anaconda3\\lib\\site-packages\\matplotlib\\pyplot.py:524: RuntimeWarning: More than 20 figures have been opened. Figures created through the pyplot interface (`matplotlib.pyplot.figure`) are retained until explicitly closed and may consume too much memory. (To control this warning, see the rcParam `figure.max_open_warning`).\n",
      "  max_open_warning, RuntimeWarning)\n"
     ]
    }
   ],
   "source": [
    "#Iteration\n",
    "MonList2 = ['1','2','3','4'] #i4\n",
    "MonList2016 = ['1','2','3','4','5','6','7','8','9','10','11','12'] #i5\n",
    "DistList = ['三民區','苓雅區','前鎮區','鳳山區'] #i2\n",
    "\n",
    "for i2 in range(len(DistList)):\n",
    "    Filter = PopData.ix[:,1] == DistList[i2]\n",
    "    PopData_Dist = PopData[Filter]\n",
    "    LiName = list(PopData_Dist.ix[:,2])  #i3\n",
    "    for i3 in range(len(LiName)):\n",
    "        MosTime_Filtered2016 = MosTime.loc[(MosTime['年分']=='2016') & (MosTime['區別']==DistList[i2]) & (MosTime['里別']==LiName[i3])] \n",
    "        MosTime_Filtered = MosTime.loc[(MosTime['年分']=='2017') & (MosTime['區別']==DistList[i2]) & (MosTime['里別']==LiName[i3])] \n",
    "        X2016 = list(MosTime_Filtered2016['月份'])\n",
    "        X2016[0] = '2016-1'\n",
    "        X = list(MosTime_Filtered['月份'][0:4])\n",
    "        X[0] = '2017-1'\n",
    "        Y2016 = list(map(int,list(MosTime_Filtered2016['蚊子資料數'])))\n",
    "        Y = list(map(int,list(MosTime_Filtered['蚊子資料數'][0:4])))\n",
    "        X = X2016+X\n",
    "        Y = Y2016+Y\n",
    "        X_index = range(len(X))\n",
    "        \n",
    "        os.chdir('H:\\\\LabData\\\\DATA\\\\蚊子資料(需要更新)\\\\2017年\\\\%s'%DistList[i2])\n",
    "        fig = plt.figure()\n",
    "        ax1 = fig.add_subplot(1,1,1)\n",
    "        ax1.bar(X_index, Y, align='center',color='#F4A7B9')\n",
    "        ax1.xaxis.set_ticks_position('bottom')\n",
    "        ax1.yaxis.set_ticks_position('left')\n",
    "        plt.xticks(X_index,X,rotation=90,fontsize='small')\n",
    "        plt.xlabel('月份')\n",
    "        plt.ylabel('蚊子資料數')\n",
    "        plt.title('%s_%s 2016-2017年4月蚊子資料數'%(DistList[i2],LiName[i3]))\n",
    "        plt.grid(linestyle='--', which='major',color='gray')\n",
    "        plt.ylim(0,10)\n",
    "        plt.savefig('%s_%s2016-2017.png'%(DistList[i2],LiName[i3]),dpi=400,bbox_inches='tight')  \n",
    "        \n",
    "        "
   ]
  },
  {
   "cell_type": "code",
   "execution_count": 60,
   "metadata": {
    "collapsed": false
   },
   "outputs": [
    {
     "data": {
      "text/plain": [
       "['5', '2', '3', '4']"
      ]
     },
     "execution_count": 60,
     "metadata": {},
     "output_type": "execute_result"
    }
   ],
   "source": []
  },
  {
   "cell_type": "code",
   "execution_count": 35,
   "metadata": {
    "collapsed": false
   },
   "outputs": [],
   "source": [
    "X = list(MosTime_Filtered['月份'])\n",
    "Y = list(map(int,list(MosTime_Filtered['蚊子資料數'])))\n",
    "X_index = range(len(X))"
   ]
  },
  {
   "cell_type": "code",
   "execution_count": 41,
   "metadata": {
    "collapsed": false
   },
   "outputs": [
    {
     "data": {
      "image/png": "[encoded data removed]",
      "text/plain": [
       "<matplotlib.figure.Figure at 0x10024080>"
      ]
     },
     "metadata": {},
     "output_type": "display_data"
    }
   ],
   "source": [
    "\n",
    "fig = plt.figure()\n",
    "ax1 = fig.add_subplot(1,1,1)\n",
    "ax1.bar(X_index, Y, align='center',color='#F4A7B9')\n",
    "ax1.xaxis.set_ticks_position('bottom')\n",
    "ax1.yaxis.set_ticks_position('left')\n",
    "plt.xticks(X_index,X,rotation=0,fontsize='small')\n",
    "plt.xlabel('Li')\n",
    "plt.ylabel('Time')\n",
    "plt.title('')\n",
    "plt.grid(linestyle='--', which='major',color='gray')\n",
    "plt.ylim(0,15)\n",
    "#plt.savefig('bar_plot2.png',dpi=400,bbox_inches='tight')  \n",
    "plt.show()"
   ]
  },
  {
   "cell_type": "code",
   "execution_count": 51,
   "metadata": {
    "collapsed": false
   },
   "outputs": [],
   "source": []
  },
  {
   "cell_type": "code",
   "execution_count": 52,
   "metadata": {
    "collapsed": false
   },
   "outputs": [
    {
     "data": {
      "text/plain": [
       "['1', '2']"
      ]
     },
     "execution_count": 52,
     "metadata": {},
     "output_type": "execute_result"
    }
   ],
   "source": []
  },
  {
   "cell_type": "code",
   "execution_count": null,
   "metadata": {
    "collapsed": true
   },
   "outputs": [],
   "source": []
  }
 ],
 "metadata": {
  "kernelspec": {
   "display_name": "Python 3",
   "language": "python",
   "name": "python3"
  },
  "language_info": {
   "codemirror_mode": {
    "name": "ipython",
    "version": 3
   },
   "file_extension": ".py",
   "mimetype": "text/x-python",
   "name": "python",
   "nbconvert_exporter": "python",
   "pygments_lexer": "ipython3",
   "version": "3.6.0"
  }
 },
 "nbformat": 4,
 "nbformat_minor": 2
}
