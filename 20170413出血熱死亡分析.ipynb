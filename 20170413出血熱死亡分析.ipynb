{
 "cells": [
  {
   "cell_type": "code",
   "execution_count": 14,
   "metadata": {
    "collapsed": false
   },
   "outputs": [],
   "source": [
    "import pandas as pd\n",
    "import os"
   ]
  },
  {
   "cell_type": "code",
   "execution_count": 4,
   "metadata": {
    "collapsed": false
   },
   "outputs": [
    {
     "data": {
      "text/html": [
       "<div>\n",
       "<table border=\"1\" class=\"dataframe\">\n",
       "  <thead>\n",
       "    <tr style=\"text-align: right;\">\n",
       "      <th></th>\n",
       "      <th>居住縣市</th>\n",
       "      <th>居住鄉鎮</th>\n",
       "      <th>居住村里</th>\n",
       "      <th>發病年齡(足歲)</th>\n",
       "      <th>性別</th>\n",
       "      <th>發病日期(西元-yyyymmdd)</th>\n",
       "      <th>確定病名</th>\n",
       "      <th>是否死亡</th>\n",
       "    </tr>\n",
       "  </thead>\n",
       "  <tbody>\n",
       "    <tr>\n",
       "      <th>0</th>\n",
       "      <td>高雄市</td>\n",
       "      <td>鳳山區</td>\n",
       "      <td>福誠里</td>\n",
       "      <td>44</td>\n",
       "      <td>男</td>\n",
       "      <td>2014/6/21</td>\n",
       "      <td>登革出血熱/登革休克症候群</td>\n",
       "      <td>否</td>\n",
       "    </tr>\n",
       "    <tr>\n",
       "      <th>1</th>\n",
       "      <td>高雄市</td>\n",
       "      <td>小港區</td>\n",
       "      <td>正苓里</td>\n",
       "      <td>72</td>\n",
       "      <td>男</td>\n",
       "      <td>2014/7/2</td>\n",
       "      <td>登革出血熱/登革休克症候群</td>\n",
       "      <td>否</td>\n",
       "    </tr>\n",
       "    <tr>\n",
       "      <th>2</th>\n",
       "      <td>高雄市</td>\n",
       "      <td>前鎮區</td>\n",
       "      <td>明義里</td>\n",
       "      <td>29</td>\n",
       "      <td>女</td>\n",
       "      <td>2014/7/21</td>\n",
       "      <td>登革出血熱/登革休克症候群</td>\n",
       "      <td>否</td>\n",
       "    </tr>\n",
       "    <tr>\n",
       "      <th>3</th>\n",
       "      <td>高雄市</td>\n",
       "      <td>小港區</td>\n",
       "      <td>合作里</td>\n",
       "      <td>66</td>\n",
       "      <td>女</td>\n",
       "      <td>2014/7/22</td>\n",
       "      <td>登革出血熱/登革休克症候群</td>\n",
       "      <td>否</td>\n",
       "    </tr>\n",
       "    <tr>\n",
       "      <th>4</th>\n",
       "      <td>高雄市</td>\n",
       "      <td>三民區</td>\n",
       "      <td>安康里</td>\n",
       "      <td>67</td>\n",
       "      <td>男</td>\n",
       "      <td>2014/7/25</td>\n",
       "      <td>登革出血熱/登革休克症候群</td>\n",
       "      <td>否</td>\n",
       "    </tr>\n",
       "  </tbody>\n",
       "</table>\n",
       "</div>"
      ],
      "text/plain": [
       "  居住縣市 居住鄉鎮 居住村里 發病年齡(足歲) 性別 發病日期(西元-yyyymmdd)           確定病名 是否死亡\n",
       "0  高雄市  鳳山區  福誠里       44  男         2014/6/21  登革出血熱/登革休克症候群    否\n",
       "1  高雄市  小港區  正苓里       72  男          2014/7/2  登革出血熱/登革休克症候群    否\n",
       "2  高雄市  前鎮區  明義里       29  女         2014/7/21  登革出血熱/登革休克症候群    否\n",
       "3  高雄市  小港區  合作里       66  女         2014/7/22  登革出血熱/登革休克症候群    否\n",
       "4  高雄市  三民區  安康里       67  男         2014/7/25  登革出血熱/登革休克症候群    否"
      ]
     },
     "execution_count": 4,
     "metadata": {},
     "output_type": "execute_result"
    }
   ],
   "source": [
    "f1 = open('H:\\\\LabData\\\\DATA\\\\登革熱死亡_出血熱\\\\高雄\\\\高雄\\\\高雄出血熱個案_2014.csv','r')\n",
    "\n",
    "data_list = []\n",
    "for i in f1.readlines():\n",
    "    data = i.strip()\n",
    "    data = data.split(',')\n",
    "    data_list.append(data)\n",
    "f1.close()\n",
    "DHFData = pd.DataFrame(data_list[1:],columns=data_list[0])\n",
    "DHFData.head()"
   ]
  },
  {
   "cell_type": "code",
   "execution_count": 20,
   "metadata": {
    "collapsed": false
   },
   "outputs": [],
   "source": [
    "DistList = ['三民區','苓雅區','前鎮區','鳳山區'] #i\n",
    "os.chdir('H:\\\\LabData\\\\DATA\\\\日期\\\\20170413DHFvs發生率相關係數')\n",
    "\n",
    "f1 = open('DHF死亡率.csv','w')\n",
    "f1.write('區別,里別,死亡數,DHF數,DHF死亡比例\\n')\n",
    "for i in range(len(DistList)):\n",
    "    Filter = DHFData.ix[:,1] == DistList[i]\n",
    "    DHFData_Dist = DHFData[Filter]\n",
    "    LiName = list(set(DHFData_Dist.ix[:,2])) #j\n",
    "    for j in range(len(LiName)):\n",
    "        Die = len(DHFData.loc[(DHFData['居住鄉鎮']==DistList[i]) & (DHFData['居住村里']==LiName[j]) & (DHFData['是否死亡']=='是')])\n",
    "        Total = len(DHFData.loc[(DHFData['居住鄉鎮']==DistList[i]) & (DHFData['居住村里']==LiName[j])])\n",
    "        f1.write('%s,%s,%d,%d,%.4f\\n'%(DistList[i],LiName[j],Die,Total,Die/Total))\n",
    "f1.close()"
   ]
  },
  {
   "cell_type": "code",
   "execution_count": null,
   "metadata": {
    "collapsed": true
   },
   "outputs": [],
   "source": []
  }
 ],
 "metadata": {
  "kernelspec": {
   "display_name": "Python 3",
   "language": "python",
   "name": "python3"
  },
  "language_info": {
   "codemirror_mode": {
    "name": "ipython",
    "version": 3
   },
   "file_extension": ".py",
   "mimetype": "text/x-python",
   "name": "python",
   "nbconvert_exporter": "python",
   "pygments_lexer": "ipython3",
   "version": "3.6.0"
  }
 },
 "nbformat": 4,
 "nbformat_minor": 2
}
