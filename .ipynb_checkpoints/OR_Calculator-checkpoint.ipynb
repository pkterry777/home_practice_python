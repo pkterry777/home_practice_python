{
 "cells": [
  {
   "cell_type": "code",
   "execution_count": 11,
   "metadata": {
    "collapsed": false
   },
   "outputs": [
    {
     "name": "stdout",
     "output_type": "stream",
     "text": [
      "請輸入Ref之Positive數目:13\n",
      "請輸入Ref之Negative數目:11\n",
      "請輸入Positive數目:18\n",
      "請輸入Negative數目:18\n",
      "是否結束輸入(y/n):\n",
      "請輸入Positive數目:38\n",
      "請輸入Negative數目:28\n",
      "是否結束輸入(y/n):\n",
      "請輸入Positive數目:33\n",
      "請輸入Negative數目:28\n",
      "是否結束輸入(y/n):20\n",
      "請輸入Positive數目:20\n",
      "請輸入Negative數目:18\n",
      "是否結束輸入(y/n):\n",
      "請輸入Positive數目:18\n",
      "請輸入Negative數目:18\n",
      "是否結束輸入(y/n):\n",
      "請輸入Positive數目:44\n",
      "請輸入Negative數目:33\n",
      "是否結束輸入(y/n):\n",
      "請輸入Positive數目:20\n",
      "請輸入Negative數目:12\n",
      "是否結束輸入(y/n):\n",
      "請輸入Positive數目:10\n",
      "請輸入Negative數目:14\n",
      "是否結束輸入(y/n):\n",
      "請輸入Positive數目:15\n",
      "請輸入Negative數目:17\n",
      "是否結束輸入(y/n):\n",
      "請輸入Positive數目:34\n",
      "請輸入Negative數目:10\n",
      "是否結束輸入(y/n):\n",
      "請輸入Positive數目:17\n",
      "請輸入Negative數目:11\n",
      "是否結束輸入(y/n):\n",
      "請輸入Positive數目:28\n",
      "請輸入Negative數目:44\n",
      "是否結束輸入(y/n):y\n",
      "[[13, 11], [18, 18], [38, 28], [33, 28], [20, 18], [18, 18], [44, 33], [20, 12], [10, 14], [15, 17], [34, 10], [17, 11], [28, 44]]\n"
     ]
    }
   ],
   "source": [
    "#第一個為ref\n",
    "\n",
    "ref_posneg_num = [[eval(input('請輸入Ref之Positive數目:')),eval(input('請輸入Ref之Negative數目:'))]]\n",
    "posneg_nums = []\n",
    "while True:\n",
    "    posneg_num = [eval(input('請輸入Positive數目:')),eval(input('請輸入Negative數目:'))]\n",
    "    posneg_nums.append(posneg_num)\n",
    "    ask = input('是否結束輸入(y/n):')\n",
    "    if ask == 'y':\n",
    "        break\n",
    "    if ask != 'y':\n",
    "        continue   \n",
    "ref_posneg_num.extend(posneg_nums)\n",
    "PosNeg = ref_posneg_num.copy()\n",
    "\n",
    "print(PosNeg)\n"
   ]
  },
  {
   "cell_type": "code",
   "execution_count": 2,
   "metadata": {
    "collapsed": false
   },
   "outputs": [],
   "source": [
    "def OR_Calculator(PosNeg):\n",
    "    print('          OR')\n",
    "    for i in range(len(PosNeg)):\n",
    "        OR = PosNeg[i][0]*PosNeg[0][1]/PosNeg[i][1]/PosNeg[0][0]\n",
    "        if i == 0:\n",
    "            print('    [ref]:%.4f'%OR)\n",
    "        if i != 0:\n",
    "            print('[Level-%d]:%.4f'%(i,OR))\n",
    "    print('--------------------')\n",
    "    print('    樣本數 %4s%4s   OR'%('Pos','Neg'))\n",
    "    for i in range(len(PosNeg)):\n",
    "        OR = PosNeg[i][0]*PosNeg[0][1]/PosNeg[i][1]/PosNeg[0][0]\n",
    "        if i == 0:\n",
    "            print('    [ref]:%4.d%4.d%8.4f'%(PosNeg[i][0],PosNeg[i][1],OR))\n",
    "        if i != 0:\n",
    "            print('[Level-%d]:%4d%4d%8.4f'%(i,PosNeg[i][0],PosNeg[i][1],OR))"
   ]
  },
  {
   "cell_type": "code",
   "execution_count": 12,
   "metadata": {
    "collapsed": false
   },
   "outputs": [
    {
     "name": "stdout",
     "output_type": "stream",
     "text": [
      "          OR\n",
      "    [ref]:1.0000\n",
      "[Level-1]:0.8462\n",
      "[Level-2]:1.1484\n",
      "[Level-3]:0.9973\n",
      "[Level-4]:0.9402\n",
      "[Level-5]:0.8462\n",
      "[Level-6]:1.1282\n",
      "[Level-7]:1.4103\n",
      "[Level-8]:0.6044\n",
      "[Level-9]:0.7466\n",
      "[Level-10]:2.8769\n",
      "[Level-11]:1.3077\n",
      "[Level-12]:0.5385\n",
      "--------------------\n",
      "    樣本數  Pos Neg   OR\n",
      "    [ref]:  13  11  1.0000\n",
      "[Level-1]:  18  18  0.8462\n",
      "[Level-2]:  38  28  1.1484\n",
      "[Level-3]:  33  28  0.9973\n",
      "[Level-4]:  20  18  0.9402\n",
      "[Level-5]:  18  18  0.8462\n",
      "[Level-6]:  44  33  1.1282\n",
      "[Level-7]:  20  12  1.4103\n",
      "[Level-8]:  10  14  0.6044\n",
      "[Level-9]:  15  17  0.7466\n",
      "[Level-10]:  34  10  2.8769\n",
      "[Level-11]:  17  11  1.3077\n",
      "[Level-12]:  28  44  0.5385\n"
     ]
    }
   ],
   "source": [
    "OR_Calculator(PosNeg)"
   ]
  },
  {
   "cell_type": "code",
   "execution_count": null,
   "metadata": {
    "collapsed": true
   },
   "outputs": [],
   "source": []
  }
 ],
 "metadata": {
  "kernelspec": {
   "display_name": "Python 3",
   "language": "python",
   "name": "python3"
  },
  "language_info": {
   "codemirror_mode": {
    "name": "ipython",
    "version": 3
   },
   "file_extension": ".py",
   "mimetype": "text/x-python",
   "name": "python",
   "nbconvert_exporter": "python",
   "pygments_lexer": "ipython3",
   "version": "3.6.0"
  }
 },
 "nbformat": 4,
 "nbformat_minor": 2
}
