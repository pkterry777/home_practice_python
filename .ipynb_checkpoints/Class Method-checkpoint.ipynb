{
 "cells": [
  {
   "cell_type": "code",
   "execution_count": 136,
   "metadata": {
    "collapsed": false
   },
   "outputs": [],
   "source": [
    "class sample:\n",
    "    \n",
    "    def __init__(self,ID,sex,Li,age,result):\n",
    "        self.ID = ID\n",
    "        self.sex = sex\n",
    "        self.Li = Li\n",
    "        self.age = age\n",
    "        self.result = result\n",
    "\n",
    "        "
   ]
  },
  {
   "cell_type": "code",
   "execution_count": 168,
   "metadata": {
    "collapsed": false
   },
   "outputs": [
    {
     "name": "stdout",
     "output_type": "stream",
     "text": [
      "是否列印DATAFRAME(y/n)：y\n",
      "csv資料前五項：\n",
      "       ID Sex   Li Age    Result\n",
      "0   WC001  NA  武慶里  50  Positive\n",
      "1   WC002  NA  武慶里  69  Positive\n",
      "2   WC003  NA  武慶里  55  Negative\n",
      "3   WC004  NA  武慶里  67  Positive\n",
      "4   WC005  NA  武慶里  65  Negative\n",
      "5   WC006  NA  武慶里  67  Negative\n",
      "6   WC007  NA  武慶里  80  Positive\n",
      "7   WC008  NA  武慶里  55  Positive\n",
      "8   WC009  NA  武慶里  47  Negative\n",
      "9   WC010  NA  武慶里  54  Positive\n",
      "10  WC011  NA  武慶里  68  Positive\n",
      "11  WC012  NA  武慶里  58  Positive\n",
      "12  WC013  NA  武慶里  68  Positive\n",
      "13  WC014  NA  武慶里  63  Negative\n",
      "14  WC015  NA  武慶里  75  Positive\n",
      "15  WC016  NA  武慶里  68  Positive\n",
      "16  WC017  NA  武慶里  77  Positive\n",
      "17  WC018  NA  武慶里  77  Positive\n",
      "18  WC019  NA  武慶里  52  Negative\n",
      "19  WC020  NA  武慶里  54  Negative\n",
      "20  WC021  NA  武慶里  69  Negative\n",
      "21  WC022  NA  武慶里  26  Positive\n",
      "22  WC023  NA  武慶里  54  Negative\n",
      "23  WC024  NA  武慶里  52  Positive\n",
      "24  WC025  NA  武慶里  52  Positive\n",
      "25  WC026  NA  武慶里  30  Negative\n",
      "26  WC027  NA  武慶里  69  Positive\n",
      "27  WC028  NA  武慶里  71  Positive\n",
      "28  WC029  NA  武慶里  26  Positive\n",
      "29  WC030  NA  武慶里  67  Positive\n",
      "30  WC031  NA  武慶里  69  Positive\n",
      "31  WC032  NA  武慶里  71  Positive\n",
      "32  WC033  NA  武慶里  60  Positive\n",
      "33  WC034  NA  武慶里  71  Negative\n",
      "34  WC035  NA  武慶里  71  Negative\n",
      "35  WC036  NA  武慶里  57  Positive\n",
      "36  WC037  NA  武慶里  38  Positive\n",
      "37  WC038  NA  武慶里  54  Negative\n",
      "38  WC039  NA  武慶里  40  Positive\n",
      "39  WC040  NA  武慶里  72  Positive\n",
      "40  WC041  NA  武慶里  72  Negative\n",
      "41  WC042  NA  武慶里  56  Negative\n",
      "42  WC043  NA  武慶里  40  Negative\n",
      "43  WC044  NA  武慶里  46  Positive\n",
      "44  WC045  NA  武慶里  66  Negative\n",
      "45  WC046  NA  武慶里  40  Negative\n",
      "46  WC047  NA  武慶里  39  Negative\n",
      "47  WC048  NA  武慶里  32  Negative\n",
      "48  WC049  NA  武慶里  65  Negative\n",
      "----------------\n"
     ]
    }
   ],
   "source": [
    "#讀取資料，建立dataframe\n",
    "\n",
    "import pandas as pd\n",
    "import numpy as np\n",
    "import scipy.stats as stats\n",
    "import os\n",
    "import matplotlib.pyplot as plt\n",
    "\n",
    "file = open('D:\\\\YAO\\\\DATA\\\\WC_2016年抽血.csv',encoding='big5')\n",
    "data_list = []\n",
    "for i in file.readlines():\n",
    "    data = i.strip()\n",
    "    data = data.split(',')\n",
    "    data_list.append(data)\n",
    "file.close()\n",
    "\n",
    "file_df = pd.DataFrame(data_list[1:],columns=data_list[0])\n",
    "\n",
    "condiction = input('是否列印DATAFRAME(y/n)：')\n",
    "if condiction == 'y':\n",
    "    print('csv資料前五項：')\n",
    "    print(file_df)\n",
    "    print('----------------')"
   ]
  },
  {
   "cell_type": "code",
   "execution_count": 171,
   "metadata": {
    "collapsed": false
   },
   "outputs": [],
   "source": [
    "#建立物件:\n",
    "ID = list(file_df.ix[:,'ID'])\n",
    "sex = list(file_df.ix[:,'Sex'])\n",
    "Li = list(file_df.ix[:,'Li'])\n",
    "age = list(map(int,list(file_df.ix[:,'Age'])))\n",
    "result = list(file_df.ix[:,'Result'])\n",
    "\n",
    "#利用list建立物件\n",
    "sample_ls = []\n",
    "for i in range(len(file_df)):\n",
    "    sample_ls.append(sample(ID[i],sex[i],Li[i],age[i],result[i]))"
   ]
  },
  {
   "cell_type": "code",
   "execution_count": 172,
   "metadata": {
    "collapsed": false
   },
   "outputs": [
    {
     "name": "stdout",
     "output_type": "stream",
     "text": [
      "[0 - 4 歲] : 0\n",
      "[5 - 9 歲] : 0\n",
      "[10 - 14 歲] : 0\n",
      "[15 - 19 歲] : 0\n",
      "[20 - 24 歲] : 0\n",
      "[25 - 29 歲] : 2\n",
      "[30 - 34 歲] : 2\n",
      "[35 - 39 歲] : 2\n",
      "[40 - 44 歲] : 3\n",
      "[45 - 49 歲] : 2\n",
      "[50 - 54 歲] : 8\n",
      "[55 - 59 歲] : 5\n",
      "[60 - 64 歲] : 2\n",
      "[65 - 69 歲] : 13\n",
      "[70 - 74 歲] : 6\n",
      "[75 - 79 歲] : 3\n",
      "[80 - 84 歲] : 1\n",
      "[85 - 89 歲] : 0\n",
      "[90 - 94 歲] : 0\n",
      "最小年齡: 26 歲\n",
      "最大年齡: 80 歲\n"
     ]
    }
   ],
   "source": [
    "#先5歲年齡切切看\n",
    "Age5Cutter = []\n",
    "min1 = 0\n",
    "max1 = 4\n",
    "min_max = [min1,max1]\n",
    "Age5Cutter.append(min_max)\n",
    "for i in range(18):\n",
    "    min1 += 5\n",
    "    max1 += 5\n",
    "    min_max = [min1,max1]\n",
    "    Age5Cutter.append(min_max)\n",
    "#print(Age5Cutter)\n",
    "\n",
    "#算物件\n",
    "ToPlot_5Age = []\n",
    "for i in range(len(Age5Cutter)):\n",
    "    cutted_age_number = sum(Age5Cutter[i][0] <= p.age <= Age5Cutter[i][1] for p in sample_ls)\n",
    "    print('[%d - %d 歲]'%(Age5Cutter[i][0],Age5Cutter[i][1]),':',cutted_age_number)\n",
    "    ToPlot_5Age.append([Age5Cutter[i],cutted_age_number ])\n",
    "\n",
    "#最大最小年齡   \n",
    "print(\"最小年齡:\",min(p.age for p in sample_ls),'歲')\n",
    "print(\"最大年齡:\",max(p.age for p in sample_ls),'歲')"
   ]
  },
  {
   "cell_type": "code",
   "execution_count": 133,
   "metadata": {
    "collapsed": false
   },
   "outputs": [
    {
     "data": {
      "image/png": "[encoded data removed]",
      "text/plain": [
       "<matplotlib.figure.Figure at 0xc27ca90>"
      ]
     },
     "metadata": {},
     "output_type": "display_data"
    }
   ],
   "source": [
    "#Age的Histogram\n",
    "hist_age_ls = list(p.age for p in sample_ls)\n",
    "plt.hist(hist_age_ls, alpha=0.75,rwidth=True,bins=range(5,100,5),edgecolor='black', linewidth=1, facecolor='orchid')\n",
    "\n",
    "plt.xlabel('age')\n",
    "plt.ylabel('number')\n",
    "plt.title('age distribution')\n",
    "plt.axis([20, 90, 0, 14])\n",
    "xticks = [2.5]\n",
    "start = 2.5\n",
    "for i in range(len(Age5Cutter)):\n",
    "    start += 5\n",
    "    xticks.append(start)\n",
    "\n",
    "plt.xticks( xticks,Age5Cutter , rotation=90  )\n",
    "plt.grid(linestyle='--', which='major',color='gray')\n",
    "plt.show()"
   ]
  },
  {
   "cell_type": "code",
   "execution_count": 24,
   "metadata": {
    "collapsed": false
   },
   "outputs": [
    {
     "name": "stdout",
     "output_type": "stream",
     "text": [
      "切點為：[?-?]\n",
      "請輸入第1個區間範圍的最小值：26\n",
      "請輸入第1個區間範圍的最大值：80\n",
      "第1切點為：[26-80]\n",
      "-------------------\n",
      "是否結束輸入(y/n):y\n",
      "age_cutters： [[26, 80]]\n",
      "--------已經切好年齡，物件名稱為：age_cutters---------\n"
     ]
    }
   ],
   "source": [
    "#切年紀\n",
    "\n",
    "age_cutters = []\n",
    "i = 1\n",
    "print('切點為：[?-?]')\n",
    "while True:\n",
    "    age_cutter_min = eval(input('請輸入第%d個區間範圍的最小值：'%i))\n",
    "    age_cutter_max = eval(input('請輸入第%d個區間範圍的最大值：'%i))\n",
    "    age_cutter = [age_cutter_min,age_cutter_max]\n",
    "    age_cutters.append(age_cutter)\n",
    "    print('第%d切點為：[%d-%d]'%(i,age_cutter_min,age_cutter_max))\n",
    "    print('-------------------')\n",
    "    i += 1\n",
    "    ask = input('是否結束輸入(y/n):')\n",
    "    if ask == 'y':\n",
    "        break\n",
    "print('age_cutters：',age_cutters)\n",
    "print('--------已經切好年齡，物件名稱為：age_cutters---------')\n",
    "\n"
   ]
  },
  {
   "cell_type": "code",
   "execution_count": null,
   "metadata": {
    "collapsed": false
   },
   "outputs": [],
   "source": []
  },
  {
   "cell_type": "code",
   "execution_count": 25,
   "metadata": {
    "collapsed": false
   },
   "outputs": [
    {
     "name": "stdout",
     "output_type": "stream",
     "text": [
      "可利用list：age_cutters 和 aged_PosNeg_ls\n"
     ]
    }
   ],
   "source": [
    "#區分各年齡pos和neg數目\n",
    "aged_PosNeg_ls = []\n",
    "for i in range(len(age_cutters)):   \n",
    "    pos_number = sum(age_cutters[i][0] <= p.age <= age_cutters[i][1] and p.result=='Positive' for p in sample_ls)\n",
    "    neg_number = sum(age_cutters[i][0] <= p.age <= age_cutters[i][1] and p.result=='Negative' for p in sample_ls)\n",
    "    aged_PosNeg_ls.append([pos_number ,neg_number]) \n",
    "    \n",
    "print('可利用list：age_cutters 和 aged_PosNeg_ls')\n",
    "\n",
    "#存成chisqure表格模式:\n",
    "os.chdir('D:\\\\YAO\\\\output')\n",
    "f1 = open('--output--年齡chisquare表格.csv','w')\n",
    "f1.write('年齡'+','+'Positive'+','+'Negative'+','+'Total'+'\\n')\n",
    "total_pos = 0\n",
    "total_neg = 0\n",
    "for i in range(len(aged_PosNeg_ls)):\n",
    "    total_perage = aged_PosNeg_ls[i][0] + aged_PosNeg_ls[i][1]\n",
    "    \n",
    "    f1.write('%d - %d歲'%(age_cutters[i][0],age_cutters[i][1]) + ',')\n",
    "    f1.write(str(aged_PosNeg_ls[i][0]))\n",
    "    f1.write(',')\n",
    "    f1.write(str(aged_PosNeg_ls[i][1]))\n",
    "    f1.write(',')\n",
    "    f1.write(str(total_perage))\n",
    "    f1.write('\\n')\n",
    "    \n",
    "    total_pos += aged_PosNeg_ls[i][0]\n",
    "    total_neg += aged_PosNeg_ls[i][1]\n",
    "    \n",
    "f1.write('Total'+',')\n",
    "f1.write(str(total_pos))\n",
    "f1.write(',')\n",
    "f1.write(str(total_neg))\n",
    "f1.write(',')\n",
    "f1.write(str(total_neg + total_pos))\n",
    "f1.write('\\n')\n",
    "f1.close()\n"
   ]
  },
  {
   "cell_type": "code",
   "execution_count": 35,
   "metadata": {
    "collapsed": false
   },
   "outputs": [],
   "source": [
    "f1.close()\n",
    "    "
   ]
  },
  {
   "cell_type": "code",
   "execution_count": 156,
   "metadata": {
    "collapsed": false
   },
   "outputs": [
    {
     "name": "stdout",
     "output_type": "stream",
     "text": [
      "[0, 4] : 0\n",
      "[5, 9] : 0\n",
      "[10, 14] : 0\n",
      "[15, 19] : 0\n",
      "[20, 24] : 0\n",
      "[25, 29] : 0\n",
      "[30, 34] : 0\n",
      "[35, 39] : 1\n",
      "[40, 44] : 13\n",
      "[45, 49] : 13\n",
      "[50, 54] : 22\n",
      "[55, 59] : 28\n",
      "[60, 64] : 44\n",
      "[65, 69] : 158\n",
      "[70, 74] : 130\n",
      "[75, 79] : 85\n",
      "[80, 84] : 35\n",
      "[85, 89] : 16\n",
      "[90, 94] : 3\n",
      "[95, 99] : 0\n",
      "[100, 104] : 0\n",
      "最小: 39\n",
      "最大: 92\n"
     ]
    }
   ],
   "source": [
    "#先5歲年齡切切看\n",
    "Age5Cutter = []\n",
    "min1 = 0\n",
    "max1 = 4\n",
    "min_max = [min1,max1]\n",
    "Age5Cutter.append(min_max)\n",
    "for i in range(20):\n",
    "    min1 += 5\n",
    "    max1 += 5\n",
    "    min_max = [min1,max1]\n",
    "    Age5Cutter.append(min_max)\n",
    "#print(Age5Cutter)\n",
    "\n",
    "#算物件\n",
    "for i in range(len(Age5Cutter)):\n",
    "    print(Age5Cutter[i],':',sum(Age5Cutter[i][0] <= p.age <= Age5Cutter[i][1] for p in sample_ls))\n",
    "#最大最小年齡   \n",
    "print(\"最小:\",min(p.age for p in sample_ls))\n",
    "print(\"最大:\",max(p.age for p in sample_ls))"
   ]
  },
  {
   "cell_type": "code",
   "execution_count": 127,
   "metadata": {
    "collapsed": false
   },
   "outputs": [
    {
     "name": "stdout",
     "output_type": "stream",
     "text": [
      "20\n"
     ]
    }
   ],
   "source": [
    "class sample2:\n",
    "    \n",
    "    def __init__(self,ID,age):\n",
    "        self.ID = ID\n",
    "        self.age = age\n",
    "\n",
    "a = sample2('S001',20)\n",
    "b = sample2('S002',30)\n",
    "\n",
    "if a.ID=='S001':\n",
    "    print(a.age)"
   ]
  },
  {
   "cell_type": "code",
   "execution_count": 52,
   "metadata": {
    "collapsed": false
   },
   "outputs": [
    {
     "data": {
      "image/png": "[encoded data removed]",
      "text/plain": [
       "<matplotlib.figure.Figure at 0xbe01400>"
      ]
     },
     "metadata": {},
     "output_type": "display_data"
    }
   ],
   "source": [
    "import numpy as np\n",
    "import matplotlib.mlab as mlab\n",
    "import matplotlib.pyplot as plt\n",
    "\n",
    "mu, sigma = 100, 15\n",
    "x = mu + sigma*np.random.randn(10000)\n",
    "\n",
    "# the histogram of the data\n",
    "n, bins, patches = plt.hist(x, 50, normed=1, facecolor='green', alpha=0.75)\n",
    "\n",
    "# add a 'best fit' line\n",
    "y = mlab.normpdf( bins, mu, sigma)\n",
    "l = plt.plot(bins, y, 'r--', linewidth=1)\n",
    "\n",
    "plt.xlabel('Smarts')\n",
    "plt.ylabel('Probability')\n",
    "plt.title(r'$\\mathrm{Histogram\\ of\\ IQ:}\\ \\mu=100,\\ \\sigma=15$')\n",
    "plt.axis([40, 160, 0, 0.03])\n",
    "plt.grid(True)\n",
    "\n",
    "plt.show()"
   ]
  },
  {
   "cell_type": "code",
   "execution_count": 173,
   "metadata": {
    "collapsed": false
   },
   "outputs": [
    {
     "name": "stdout",
     "output_type": "stream",
     "text": [
      "請輸入ID代號(一碼)：W\n"
     ]
    }
   ],
   "source": [
    "#object filter練習  [依照不同ID代號 。建立新的物件list]：\n",
    "ID_code = input('請輸入ID代號(一碼)：')\n",
    "\n",
    "list_ID=list(p.ID[0]=='ID_code' for p in sample_ls)\n",
    "sample_ls_fil1 = [] \n",
    "for i in range(len(sample_ls)):\n",
    "    if list_ID[i]:\n",
    "        sample_ls_fil1.append(sample_ls[i])\n",
    "\n",
    "        "
   ]
  },
  {
   "cell_type": "code",
   "execution_count": 174,
   "metadata": {
    "collapsed": false
   },
   "outputs": [
    {
     "data": {
      "text/plain": [
       "[False,\n",
       " False,\n",
       " False,\n",
       " False,\n",
       " False,\n",
       " False,\n",
       " False,\n",
       " False,\n",
       " False,\n",
       " False,\n",
       " False,\n",
       " False,\n",
       " False,\n",
       " False,\n",
       " False,\n",
       " False,\n",
       " False,\n",
       " False,\n",
       " False,\n",
       " False,\n",
       " False,\n",
       " False,\n",
       " False,\n",
       " False,\n",
       " False,\n",
       " False,\n",
       " False,\n",
       " False,\n",
       " False,\n",
       " False,\n",
       " False,\n",
       " False,\n",
       " False,\n",
       " False,\n",
       " False,\n",
       " False,\n",
       " False,\n",
       " False,\n",
       " False,\n",
       " False,\n",
       " False,\n",
       " False,\n",
       " False,\n",
       " False,\n",
       " False,\n",
       " False,\n",
       " False,\n",
       " False,\n",
       " False]"
      ]
     },
     "execution_count": 174,
     "metadata": {},
     "output_type": "execute_result"
    }
   ],
   "source": [
    "list_ID"
   ]
  },
  {
   "cell_type": "code",
   "execution_count": null,
   "metadata": {
    "collapsed": true
   },
   "outputs": [],
   "source": []
  }
 ],
 "metadata": {
  "kernelspec": {
   "display_name": "Python 3",
   "language": "python",
   "name": "python3"
  },
  "language_info": {
   "codemirror_mode": {
    "name": "ipython",
    "version": 3
   },
   "file_extension": ".py",
   "mimetype": "text/x-python",
   "name": "python",
   "nbconvert_exporter": "python",
   "pygments_lexer": "ipython3",
   "version": "3.6.0"
  }
 },
 "nbformat": 4,
 "nbformat_minor": 2
}
