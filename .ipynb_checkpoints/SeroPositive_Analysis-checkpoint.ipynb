{
 "cells": [
  {
   "cell_type": "code",
   "execution_count": 85,
   "metadata": {
    "collapsed": false,
    "scrolled": true
   },
   "outputs": [
    {
     "name": "stdout",
     "output_type": "stream",
     "text": [
      "     ID Sex   Li Age    Result\n",
      "0  S001   2  寶珠里  73  Negative\n",
      "1  S002   1  寶龍里  88  Positive\n",
      "2  S003   1  寶國里  85  Positive\n",
      "3  S004   1  寶龍里  82  Positive\n",
      "4  S005   1  寶龍里  70  Negative\n"
     ]
    }
   ],
   "source": [
    "import pandas as pd\n",
    "import numpy as np\n",
    "import scipy.stats as stats\n",
    "import os\n",
    "os.chdir('D:\\\\YAO\\\\DATA')\n",
    "cwd = os.getcwd()\n",
    "FileName = os.listdir()\n",
    "url = cwd+'\\\\'+FileName[0]\n",
    "file = open(url,encoding='big5')\n",
    "\n",
    "data_list = []\n",
    "for i in file.readlines():\n",
    "    data = i.strip()\n",
    "    data = data.split(',')\n",
    "    data_list.append(data)\n",
    "file.close()\n",
    "\n",
    "\n",
    "file_df = pd.DataFrame(data_list[1:],columns=data_list[0])\n",
    "print(file_df.head())\n",
    "\n",
    "file_ix = file_df.ix[:,'Li']\n",
    "file_Li_Set = set(file_ix)\n",
    "file_Li_Ls = list(file_Li_Set)\n",
    "\n",
    "\n",
    "#分析里\n",
    "SeroPos_Li_append = list()\n",
    "for i in file_Li_Ls:\n",
    "    filter_Li = i\n",
    "    filters = file_df.ix[:,'Li'] == filter_Li\n",
    "    file_df_filtered = file_df[filters]\n",
    "    #print(file_df_filtered)\n",
    "    file_Result_Ls = list(file_df_filtered.ix[:,'Result'])\n",
    "    \n",
    "    #找出區\n",
    "    ID_Code = list(file_df_filtered.ix[:,'ID'])[0][0]\n",
    "    SeroPos_Li = []\n",
    "    SeroPos_Li = [ID_Code+i,'%.2f'%(file_Result_Ls.count('Positive')*100/len(file_Result_Ls))]\n",
    "    SeroPos_Li_append.append(SeroPos_Li)\n",
    "    \n",
    "    #print(ID_Code,i)\n",
    "    #print('SeroPositive Rate:%.2f'%(file_Result_Ls.count('Positive')*100/len(file_Result_Ls)),\"%\")\n",
    "    #print()\n",
    "#print(SeroPos_Li_append)\n",
    "\n",
    "#分析里(統計檢定)\n",
    "SeroPos_Li_append_df = pd.DataFrame(SeroPos_Li_append)\n",
    "#print(SeroPos_Li_append_df)\n",
    "\n",
    "Dist_Code = list(set(SeroPos_Li_append_df.ix[:,0].str[0]))\n",
    "\n",
    "for k in range(len(Dist_Code)):\n",
    "    filter_Dist = SeroPos_Li_append_df.ix[:,0].str[0] == Dist_Code[k]\n",
    "    SeroPos_Li_append = SeroPos_Li_append_df[filter_Dist]\n",
    "    SeroPos_Li_append = pd.DataFrame(SeroPos_Li_append)\n",
    "    #print(SeroPos_Li_append)\n",
    "    \n",
    "    LiNames = []\n",
    "    Pss = []\n",
    "    for i in list(SeroPos_Li_append.index):\n",
    "        ps = []\n",
    "        for j in list(SeroPos_Li_append.index):\n",
    "            name1 = SeroPos_Li_append.ix[i,0]\n",
    "            name2 = SeroPos_Li_append.ix[j,0]\n",
    "            p1 =  SeroPos_Li_append.ix[i,1]\n",
    "            n1 = 100 - float(SeroPos_Li_append.ix[i,1])\n",
    "            p2 = SeroPos_Li_append.ix[j,1]\n",
    "            n2 = 100 - float(SeroPos_Li_append.ix[j,1])\n",
    "\n",
    "            ChiTwoTable = [[float(p1),float(n1)],[float(p2),float(n2)]]\n",
    "\n",
    "            chi2, p, df, expected =stats.chi2_contingency(ChiTwoTable)\n",
    "            #print('%s & %s p-value:%.6f'%(name1,name2,p))\n",
    "            ps.append('%.8f'%p)\n",
    "        LiNames.append(name1)\n",
    "        Pss.append(ps)\n",
    "    \n",
    "    Dicts = {}\n",
    "    for i in range(len(LiNames)):\n",
    "        dictionary = {LiNames[i]:Pss[i]}\n",
    "        Dicts.update(dictionary)\n",
    "    #print(Dicts)\n",
    "    pvalue_df = pd.DataFrame(Dicts,index=LiNames)\n",
    "    #print(pvalue_df)\n",
    "    \n",
    "    os.chdir('D:\\\\YAO\\\\output')\n",
    "    pvalue_df.to_csv('--output--%s區各里之間p-value.csv'%Dist_Code[k], sep=',', encoding='big5')\n",
    "    \n",
    "\n",
    "\n"
   ]
  },
  {
   "cell_type": "code",
   "execution_count": 5,
   "metadata": {
    "collapsed": false
   },
   "outputs": [
    {
     "name": "stdout",
     "output_type": "stream",
     "text": [
      "['L', 'S']\n"
     ]
    }
   ],
   "source": [
    "print(Dist_Code)"
   ]
  },
  {
   "cell_type": "code",
   "execution_count": 84,
   "metadata": {
    "collapsed": false
   },
   "outputs": [],
   "source": [
    "#分不同區的男女\n",
    "Dist_Code = list(set(SeroPos_Li_append_df.ix[:,0].str[0])) #Dist_Code =['L', 'S']\n",
    "\n",
    "os.chdir('D:\\\\YAO\\\\output')\n",
    "\n",
    "\n",
    "for k in range(len(Dist_Code)):\n",
    "    f1 = open('--output--%s區男女盛行率差異統計.csv'%Dist_Code[k],'w')\n",
    "    \n",
    "    filter_Dist = file_df.ix[:,0].str[0] == Dist_Code[k]\n",
    "    file_df_filtered_Dist = file_df[filter_Dist]\n",
    "    ##print(file_df_filtered_Dist)\n",
    "    file_df_filtered_Dist_ls = list(file_df_filtered_Dist.ix[:,'Sex'])\n",
    "    #print('%s區男性人數:%d人'%(Dist_Code[k],file_df_filtered_Dist_ls.count('1'))) #男性人數\n",
    "    #print('%s區女性人數:%d人'%(Dist_Code[k],file_df_filtered_Dist_ls.count('2'))) #女性人數\n",
    "    SexLs = ['1','2']\n",
    "    SexLs_name = ['男','女']\n",
    "    #print('%s區的男女SeroPositve'%Dist_Code[k])\n",
    "    f1.write('%s區的男女SeroPositve'%Dist_Code[k]+'\\n')\n",
    "    #print('總樣本數:%d'%len(file_df_filtered_Dist_ls))\n",
    "    f1.write('總樣本數(男+女):%d'%len(file_df_filtered_Dist_ls)+',')\n",
    "    f1.write('陽性百分率 (該性別陽性人數/該性別總人數)'+'\\n')\n",
    "    chi_pos_ls = []\n",
    "    chi_neg_ls = []\n",
    "    for i in range(len(SexLs)):\n",
    "        filter_Sex = file_df_filtered_Dist.ix[:,'Sex'] == SexLs[i]\n",
    "        file_df_filtered_Dist_Sex = file_df_filtered_Dist[filter_Sex]\n",
    "        ##print(file_df_filtered_Dist_Sex)\n",
    "        file_df_filtered_Dist_Sex_ls = list(file_df_filtered_Dist_Sex.ix[:,'Result'])\n",
    "        total_gender = len(file_df_filtered_Dist_Sex_ls)  #該區男生或女生的總數\n",
    "        pos_number = file_df_filtered_Dist_Sex_ls.count('Positive')\n",
    "        neg_number = file_df_filtered_Dist_Sex_ls.count('Negative')\n",
    "        pos_rate = file_df_filtered_Dist_Sex_ls.count('Positive')*100/total_gender\n",
    "        #print('%s區%s號性別-%s性-的陽性率:%.3f'%(Dist_Code[k],SexLs[i],SexLs_name[i],file_df_filtered_Dist_Sex_ls.count('Positive')*100/total_gender),\"%\")\n",
    "        PrepareToWrite = ['%s性陽性率'%SexLs_name[i],str('%.3f%%    ( %d / %d )'%(pos_rate,pos_number,total_gender))]\n",
    "        f1.write(PrepareToWrite[0]+',')\n",
    "        f1.write(PrepareToWrite[1]+'\\n')\n",
    "        \n",
    "        #檢定\n",
    "        chi_pos_ls.append(pos_number)\n",
    "        chi_neg_ls.append(neg_number)\n",
    "    ChiTwoTable = [chi_pos_ls,chi_neg_ls]\n",
    "    chi2, p, df, expected =stats.chi2_contingency(ChiTwoTable)\n",
    "    f1.write('p-value:'+',')\n",
    "    f1.write('%.3f'%p+'\\n')  \n",
    "    f1.close()"
   ]
  },
  {
   "cell_type": "code",
   "execution_count": 101,
   "metadata": {
    "collapsed": false
   },
   "outputs": [
    {
     "name": "stdout",
     "output_type": "stream",
     "text": [
      "L區最大年齡:96 歲\n",
      "L區最小年齡:60 歲\n",
      "S區最大年齡:92 歲\n",
      "S區最小年齡:39 歲\n"
     ]
    }
   ],
   "source": [
    "#age的分佈 #file_df來作業\n",
    "Dist_Code = list(set(SeroPos_Li_append_df.ix[:,0].str[0])) #Dist_Code =['L', 'S']\n",
    "\n",
    "os.chdir('D:\\\\YAO\\\\output')\n",
    "\n",
    "for k in range(len(Dist_Code)):\n",
    "    filter_Dist = file_df.ix[:,0].str[0] == Dist_Code[k]\n",
    "    file_df_filtered_Dist = file_df[filter_Dist]\n",
    "    ##print(file_df_filtered_Dist)\n",
    "    age_ls = list(file_df_filtered_Dist.ix[:,'Age'])\n",
    "    print('%s區最大年齡:%s 歲'%(Dist_Code[k],max(age_ls)))\n",
    "    print('%s區最小年齡:%s 歲'%(Dist_Code[k],min(age_ls)))\n",
    "    \n",
    "    "
   ]
  },
  {
   "cell_type": "code",
   "execution_count": 3,
   "metadata": {
    "collapsed": false
   },
   "outputs": [],
   "source": [
    "file.close()"
   ]
  },
  {
   "cell_type": "code",
   "execution_count": 80,
   "metadata": {
    "collapsed": true
   },
   "outputs": [],
   "source": [
    "f1.close()"
   ]
  },
  {
   "cell_type": "code",
   "execution_count": null,
   "metadata": {
    "collapsed": true
   },
   "outputs": [],
   "source": []
  }
 ],
 "metadata": {
  "kernelspec": {
   "display_name": "Python 3",
   "language": "python",
   "name": "python3"
  },
  "language_info": {
   "codemirror_mode": {
    "name": "ipython",
    "version": 3
   },
   "file_extension": ".py",
   "mimetype": "text/x-python",
   "name": "python",
   "nbconvert_exporter": "python",
   "pygments_lexer": "ipython3",
   "version": "3.5.2"
  }
 },
 "nbformat": 4,
 "nbformat_minor": 1
}
