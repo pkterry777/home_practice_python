{
 "cells": [
  {
   "cell_type": "code",
   "execution_count": 10,
   "metadata": {
    "collapsed": false
   },
   "outputs": [
    {
     "name": "stdout",
     "output_type": "stream",
     "text": [
      "請輸入Ref之Positive數目:272\n",
      "請輸入Ref之Negative數目:548-272\n",
      "請輸入Positive數目:211\n",
      "請輸入Negative數目:380-211\n",
      "是否結束輸入(y/n):308\n",
      "請輸入Positive數目:308\n",
      "請輸入Negative數目:570-308\n",
      "是否結束輸入(y/n):y\n",
      "[[272, 276], [211, 169], [308, 262]]\n"
     ]
    }
   ],
   "source": [
    "#第一個為ref\n",
    "\n",
    "ref_posneg_num = [[eval(input('請輸入Ref之Positive數目:')),eval(input('請輸入Ref之Negative數目:'))]]\n",
    "posneg_nums = []\n",
    "while True:\n",
    "    posneg_num = [eval(input('請輸入Positive數目:')),eval(input('請輸入Negative數目:'))]\n",
    "    posneg_nums.append(posneg_num)\n",
    "    ask = input('是否結束輸入(y/n):')\n",
    "    if ask == 'y':\n",
    "        break\n",
    "    if ask != 'y':\n",
    "        continue   \n",
    "ref_posneg_num.extend(posneg_nums)\n",
    "PosNeg = ref_posneg_num.copy()\n",
    "\n",
    "print(PosNeg)\n"
   ]
  },
  {
   "cell_type": "code",
   "execution_count": 7,
   "metadata": {
    "collapsed": false
   },
   "outputs": [],
   "source": [
    "def OR_Calculator(PosNeg):\n",
    "    print('          OR')\n",
    "    for i in range(len(PosNeg)):\n",
    "        OR = PosNeg[i][0]*PosNeg[0][1]/PosNeg[i][1]/PosNeg[0][0]\n",
    "        if i == 0:\n",
    "            print('    [ref]:%.4f'%OR)\n",
    "        if i != 0:\n",
    "            print('[Level-%d]:%.4f'%(i,OR))\n",
    "    print('--------------------')\n",
    "    print('    樣本數 %4s%4s   OR'%('Pos','Neg'))\n",
    "    for i in range(len(PosNeg)):\n",
    "        OR = PosNeg[i][0]*PosNeg[0][1]/PosNeg[i][1]/PosNeg[0][0]\n",
    "        if i == 0:\n",
    "            print('    [ref]:%4.d%4.d%8.4f'%(PosNeg[i][0],PosNeg[i][1],OR))\n",
    "        if i != 0:\n",
    "            print('[Level-%d]:%4d%4d%8.4f'%(i,PosNeg[i][0],PosNeg[i][1],OR))"
   ]
  },
  {
   "cell_type": "code",
   "execution_count": 11,
   "metadata": {
    "collapsed": false
   },
   "outputs": [
    {
     "name": "stdout",
     "output_type": "stream",
     "text": [
      "          OR\n",
      "    [ref]:1.0000\n",
      "[Level-1]:1.2669\n",
      "[Level-2]:1.1929\n",
      "--------------------\n",
      "    樣本數  Pos Neg   OR\n",
      "    [ref]: 272 276  1.0000\n",
      "[Level-1]: 211 169  1.2669\n",
      "[Level-2]: 308 262  1.1929\n"
     ]
    }
   ],
   "source": [
    "OR_Calculator(PosNeg)"
   ]
  },
  {
   "cell_type": "code",
   "execution_count": null,
   "metadata": {
    "collapsed": true
   },
   "outputs": [],
   "source": []
  }
 ],
 "metadata": {
  "kernelspec": {
   "display_name": "Python 3",
   "language": "python",
   "name": "python3"
  },
  "language_info": {
   "codemirror_mode": {
    "name": "ipython",
    "version": 3
   },
   "file_extension": ".py",
   "mimetype": "text/x-python",
   "name": "python",
   "nbconvert_exporter": "python",
   "pygments_lexer": "ipython3",
   "version": "3.6.0"
  }
 },
 "nbformat": 4,
 "nbformat_minor": 2
}
