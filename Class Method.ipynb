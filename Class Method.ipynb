{
 "cells": [
  {
   "cell_type": "code",
   "execution_count": 25,
   "metadata": {
    "collapsed": false
   },
   "outputs": [],
   "source": [
    "#物件(object)建構式\n",
    "class sample:\n",
    "    \n",
    "    def __init__(self,ID,sex,Li,age,result):\n",
    "        self.ID = ID\n",
    "        self.sex = sex\n",
    "        self.Li = Li\n",
    "        self.age = age\n",
    "        self.result = result\n",
    "\n",
    "        "
   ]
  },
  {
   "cell_type": "code",
   "execution_count": 27,
   "metadata": {
    "collapsed": false
   },
   "outputs": [
    {
     "name": "stdout",
     "output_type": "stream",
     "text": [
      "檔案名稱：三民_高雄老人20170216\n",
      "是否列印DATAFRAME(y/n)：y\n",
      "csv資料：\n",
      "       ID Sex   Li Age    Result\n",
      "0    S208   2  灣勝里  39  Negative\n",
      "1    S320   1  寶興里  40  Negative\n",
      "2    S211   1  灣利里  41  Negative\n",
      "3    S212   2  灣利里  41  Positive\n",
      "4    S373   2  鼎中里  41  Negative\n",
      "5    S402   1  鼎力里  42  Negative\n",
      "6    S278   1  寶國里  42  Negative\n",
      "7    S313   1  寶興里  43  Negative\n",
      "8    S321   2  寶興里  43  Negative\n",
      "9    S389   1  鼎金里  43  Negative\n",
      "10   S204   1  灣利里  44  Positive\n",
      "11   S322   1  正興里  44  Negative\n",
      "12   S386   2  鼎泰里  44  Negative\n",
      "13   S502   1  鼎盛里  44  Negative\n",
      "14   S206   2  正興里  45  Positive\n",
      "15   S307   1  寶國里  45  Negative\n",
      "16   S308   1  寶興里  45  Negative\n",
      "17   S305   2  寶興里  46  Negative\n",
      "18   S505   2  鼎中里  46  Negative\n",
      "19   S281   2  寶國里  47  Negative\n",
      "20   S306   2  正興里  47  Negative\n",
      "21   S523   2  鼎盛里  48  Negative\n",
      "22   S378   2  鼎西里  49  Negative\n",
      "23   S392   2  鼎西里  49  Positive\n",
      "24   S400   1  鼎中里  49  Negative\n",
      "25   S501   1  鼎西里  49  Negative\n",
      "26   S503   1  鼎西里  49  Negative\n",
      "27   S388   2  鼎力里  50  Positive\n",
      "28   S324   1  寶國里  50  Negative\n",
      "29   S380   1  鼎西里  50  Negative\n",
      "..    ...  ..  ...  ..       ...\n",
      "518  S260   1  鼎泰里  82  Positive\n",
      "519  S341   1  寶國里  82  Positive\n",
      "520  S420   1  鼎金里  82  Positive\n",
      "521  S011   1  寶興里  83  Negative\n",
      "522  S054   1  鼎泰里  83  Negative\n",
      "523  S055   1  寶珠里  83  Negative\n",
      "524  S479   2  鼎金里  83  Negative\n",
      "525  S526   2  鼎泰里  83  Negative\n",
      "526  S048   1  寶龍里  84  Positive\n",
      "527  S135   1  安康里  84  Positive\n",
      "528  S481   2  鼎盛里  84  Positive\n",
      "529  S003   1  寶國里  85  Positive\n",
      "530  S026   1  寶興里  85  Positive\n",
      "531  S366   2  鼎盛里  85  Negative\n",
      "532  S368   1  安康里  85  Positive\n",
      "533  S418   2  鼎金里  85  Positive\n",
      "534  S027   1  灣利里  86  Positive\n",
      "535  S284   1  寶珠里  86  Negative\n",
      "536  S417   1  鼎力里  86  Positive\n",
      "537  S064   2  正興里  87  Positive\n",
      "538  S151   1  安康里  87  Negative\n",
      "539  S183   1  鼎中里  87  Positive\n",
      "540  S338   2  寶國里  87  Negative\n",
      "541  S002   1  寶龍里  88  Positive\n",
      "542  S477   1  鼎盛里  88  Negative\n",
      "543  S092   1  鼎泰里  89  Positive\n",
      "544  S430   1  鼎力里  89  Positive\n",
      "545  S233   1  寶龍里  90  Negative\n",
      "546  S370   1  鼎強里  91  Negative\n",
      "547  S246   1  正興里  92  Negative\n",
      "\n",
      "[548 rows x 5 columns]\n",
      "----------------\n"
     ]
    }
   ],
   "source": [
    "#讀取資料，建立dataframe\n",
    "\n",
    "import pandas as pd\n",
    "import numpy as np\n",
    "import scipy.stats as stats\n",
    "import os\n",
    "import matplotlib.pyplot as plt\n",
    "\n",
    "file_name = input('檔案名稱：')\n",
    "file = open('D:\\\\YAO\\\\DATA\\\\%s.csv'%file_name,encoding='big5')\n",
    "data_list = []\n",
    "for i in file.readlines():\n",
    "    data = i.strip()\n",
    "    data = data.split(',')\n",
    "    data_list.append(data)\n",
    "file.close()\n",
    "\n",
    "file_df = pd.DataFrame(data_list[1:],columns=data_list[0])\n",
    "\n",
    "condiction = input('是否列印DATAFRAME(y/n)：')\n",
    "if condiction == 'y':\n",
    "    print('csv資料：')\n",
    "    print(file_df)\n",
    "    print('----------------')"
   ]
  },
  {
   "cell_type": "code",
   "execution_count": 28,
   "metadata": {
    "collapsed": false
   },
   "outputs": [],
   "source": [
    "#建立物件:\n",
    "ID = list(file_df.ix[:,'ID'])\n",
    "sex = list(file_df.ix[:,'Sex'])\n",
    "Li = list(file_df.ix[:,'Li'])\n",
    "age = list(map(int,list(file_df.ix[:,'Age'])))\n",
    "result = list(file_df.ix[:,'Result'])\n",
    "\n",
    "#利用list建立物件\n",
    "sample_ls = []\n",
    "for i in range(len(file_df)):\n",
    "    sample_ls.append(sample(ID[i],sex[i],Li[i],age[i],result[i]))"
   ]
  },
  {
   "cell_type": "code",
   "execution_count": 172,
   "metadata": {
    "collapsed": false
   },
   "outputs": [
    {
     "name": "stdout",
     "output_type": "stream",
     "text": [
      "[0 - 4 歲] : 0\n",
      "[5 - 9 歲] : 0\n",
      "[10 - 14 歲] : 0\n",
      "[15 - 19 歲] : 0\n",
      "[20 - 24 歲] : 0\n",
      "[25 - 29 歲] : 2\n",
      "[30 - 34 歲] : 2\n",
      "[35 - 39 歲] : 2\n",
      "[40 - 44 歲] : 3\n",
      "[45 - 49 歲] : 2\n",
      "[50 - 54 歲] : 8\n",
      "[55 - 59 歲] : 5\n",
      "[60 - 64 歲] : 2\n",
      "[65 - 69 歲] : 13\n",
      "[70 - 74 歲] : 6\n",
      "[75 - 79 歲] : 3\n",
      "[80 - 84 歲] : 1\n",
      "[85 - 89 歲] : 0\n",
      "[90 - 94 歲] : 0\n",
      "最小年齡: 26 歲\n",
      "最大年齡: 80 歲\n"
     ]
    }
   ],
   "source": [
    "#先5歲年齡切切看\n",
    "Age5Cutter = []\n",
    "min1 = 0\n",
    "max1 = 4\n",
    "min_max = [min1,max1]\n",
    "Age5Cutter.append(min_max)\n",
    "for i in range(18):\n",
    "    min1 += 5\n",
    "    max1 += 5\n",
    "    min_max = [min1,max1]\n",
    "    Age5Cutter.append(min_max)\n",
    "#print(Age5Cutter)\n",
    "\n",
    "#算物件\n",
    "ToPlot_5Age = []\n",
    "for i in range(len(Age5Cutter)):\n",
    "    cutted_age_number = sum(Age5Cutter[i][0] <= p.age <= Age5Cutter[i][1] for p in sample_ls)\n",
    "    print('[%d - %d 歲]'%(Age5Cutter[i][0],Age5Cutter[i][1]),':',cutted_age_number)\n",
    "    ToPlot_5Age.append([Age5Cutter[i],cutted_age_number ])\n",
    "\n",
    "#最大最小年齡   \n",
    "print(\"最小年齡:\",min(p.age for p in sample_ls),'歲')\n",
    "print(\"最大年齡:\",max(p.age for p in sample_ls),'歲')"
   ]
  },
  {
   "cell_type": "code",
   "execution_count": 133,
   "metadata": {
    "collapsed": false
   },
   "outputs": [
    {
     "data": {
      "image/png": "[encoded data removed]",
      "text/plain": [
       "<matplotlib.figure.Figure at 0xc27ca90>"
      ]
     },
     "metadata": {},
     "output_type": "display_data"
    }
   ],
   "source": [
    "#Age的Histogram\n",
    "hist_age_ls = list(p.age for p in sample_ls)\n",
    "plt.hist(hist_age_ls, alpha=0.75,rwidth=True,bins=range(5,100,5),edgecolor='black', linewidth=1, facecolor='orchid')\n",
    "\n",
    "plt.xlabel('age')\n",
    "plt.ylabel('number')\n",
    "plt.title('age distribution')\n",
    "plt.axis([20, 90, 0, 14])\n",
    "xticks = [2.5]\n",
    "start = 2.5\n",
    "for i in range(len(Age5Cutter)):\n",
    "    start += 5\n",
    "    xticks.append(start)\n",
    "\n",
    "plt.xticks( xticks,Age5Cutter , rotation=90  )\n",
    "plt.grid(linestyle='--', which='major',color='gray')\n",
    "plt.show()"
   ]
  },
  {
   "cell_type": "code",
   "execution_count": 24,
   "metadata": {
    "collapsed": false
   },
   "outputs": [
    {
     "name": "stdout",
     "output_type": "stream",
     "text": [
      "切點為：[?-?]\n",
      "請輸入第1個區間範圍的最小值：26\n",
      "請輸入第1個區間範圍的最大值：80\n",
      "第1切點為：[26-80]\n",
      "-------------------\n",
      "是否結束輸入(y/n):y\n",
      "age_cutters： [[26, 80]]\n",
      "--------已經切好年齡，物件名稱為：age_cutters---------\n"
     ]
    }
   ],
   "source": [
    "#切年紀\n",
    "\n",
    "age_cutters = []\n",
    "i = 1\n",
    "print('切點為：[?-?]')\n",
    "while True:\n",
    "    age_cutter_min = eval(input('請輸入第%d個區間範圍的最小值：'%i))\n",
    "    age_cutter_max = eval(input('請輸入第%d個區間範圍的最大值：'%i))\n",
    "    age_cutter = [age_cutter_min,age_cutter_max]\n",
    "    age_cutters.append(age_cutter)\n",
    "    print('第%d切點為：[%d-%d]'%(i,age_cutter_min,age_cutter_max))\n",
    "    print('-------------------')\n",
    "    i += 1\n",
    "    ask = input('是否結束輸入(y/n):')\n",
    "    if ask == 'y':\n",
    "        break\n",
    "print('age_cutters：',age_cutters)\n",
    "print('--------已經切好年齡，物件名稱為：age_cutters---------')\n",
    "\n"
   ]
  },
  {
   "cell_type": "code",
   "execution_count": null,
   "metadata": {
    "collapsed": false
   },
   "outputs": [],
   "source": []
  },
  {
   "cell_type": "code",
   "execution_count": 25,
   "metadata": {
    "collapsed": false
   },
   "outputs": [
    {
     "name": "stdout",
     "output_type": "stream",
     "text": [
      "可利用list：age_cutters 和 aged_PosNeg_ls\n"
     ]
    }
   ],
   "source": [
    "#區分各年齡pos和neg數目\n",
    "aged_PosNeg_ls = []\n",
    "for i in range(len(age_cutters)):   \n",
    "    pos_number = sum(age_cutters[i][0] <= p.age <= age_cutters[i][1] and p.result=='Positive' for p in sample_ls)\n",
    "    neg_number = sum(age_cutters[i][0] <= p.age <= age_cutters[i][1] and p.result=='Negative' for p in sample_ls)\n",
    "    aged_PosNeg_ls.append([pos_number ,neg_number]) \n",
    "    \n",
    "print('可利用list：age_cutters 和 aged_PosNeg_ls')\n",
    "\n",
    "#存成chisqure表格模式:\n",
    "os.chdir('D:\\\\YAO\\\\output')\n",
    "f1 = open('--output--年齡chisquare表格.csv','w')\n",
    "f1.write('年齡'+','+'Positive'+','+'Negative'+','+'Total'+'\\n')\n",
    "total_pos = 0\n",
    "total_neg = 0\n",
    "for i in range(len(aged_PosNeg_ls)):\n",
    "    total_perage = aged_PosNeg_ls[i][0] + aged_PosNeg_ls[i][1]\n",
    "    \n",
    "    f1.write('%d - %d歲'%(age_cutters[i][0],age_cutters[i][1]) + ',')\n",
    "    f1.write(str(aged_PosNeg_ls[i][0]))\n",
    "    f1.write(',')\n",
    "    f1.write(str(aged_PosNeg_ls[i][1]))\n",
    "    f1.write(',')\n",
    "    f1.write(str(total_perage))\n",
    "    f1.write('\\n')\n",
    "    \n",
    "    total_pos += aged_PosNeg_ls[i][0]\n",
    "    total_neg += aged_PosNeg_ls[i][1]\n",
    "    \n",
    "f1.write('Total'+',')\n",
    "f1.write(str(total_pos))\n",
    "f1.write(',')\n",
    "f1.write(str(total_neg))\n",
    "f1.write(',')\n",
    "f1.write(str(total_neg + total_pos))\n",
    "f1.write('\\n')\n",
    "f1.close()\n"
   ]
  },
  {
   "cell_type": "code",
   "execution_count": 156,
   "metadata": {
    "collapsed": false
   },
   "outputs": [
    {
     "name": "stdout",
     "output_type": "stream",
     "text": [
      "[0, 4] : 0\n",
      "[5, 9] : 0\n",
      "[10, 14] : 0\n",
      "[15, 19] : 0\n",
      "[20, 24] : 0\n",
      "[25, 29] : 0\n",
      "[30, 34] : 0\n",
      "[35, 39] : 1\n",
      "[40, 44] : 13\n",
      "[45, 49] : 13\n",
      "[50, 54] : 22\n",
      "[55, 59] : 28\n",
      "[60, 64] : 44\n",
      "[65, 69] : 158\n",
      "[70, 74] : 130\n",
      "[75, 79] : 85\n",
      "[80, 84] : 35\n",
      "[85, 89] : 16\n",
      "[90, 94] : 3\n",
      "[95, 99] : 0\n",
      "[100, 104] : 0\n",
      "最小: 39\n",
      "最大: 92\n"
     ]
    }
   ],
   "source": [
    "#先5歲年齡切切看\n",
    "Age5Cutter = []\n",
    "min1 = 0\n",
    "max1 = 4\n",
    "min_max = [min1,max1]\n",
    "Age5Cutter.append(min_max)\n",
    "for i in range(20):\n",
    "    min1 += 5\n",
    "    max1 += 5\n",
    "    min_max = [min1,max1]\n",
    "    Age5Cutter.append(min_max)\n",
    "#print(Age5Cutter)\n",
    "\n",
    "#算物件\n",
    "for i in range(len(Age5Cutter)):\n",
    "    print(Age5Cutter[i],':',sum(Age5Cutter[i][0] <= p.age <= Age5Cutter[i][1] for p in sample_ls))\n",
    "#最大最小年齡   \n",
    "print(\"最小:\",min(p.age for p in sample_ls))\n",
    "print(\"最大:\",max(p.age for p in sample_ls))"
   ]
  },
  {
   "cell_type": "code",
   "execution_count": null,
   "metadata": {
    "collapsed": false
   },
   "outputs": [],
   "source": []
  },
  {
   "cell_type": "code",
   "execution_count": null,
   "metadata": {
    "collapsed": false
   },
   "outputs": [],
   "source": []
  },
  {
   "cell_type": "code",
   "execution_count": 188,
   "metadata": {
    "collapsed": false
   },
   "outputs": [
    {
     "name": "stdout",
     "output_type": "stream",
     "text": [
      "請輸入ID代號(一碼)：WC\n",
      "依照ID代號過濾後的物件集合為:sample_ls_fil1\n"
     ]
    }
   ],
   "source": [
    "#object filter練習  [依照不同ID代號 。建立新的物件list]：\n",
    "ID_code = input('請輸入ID代號(一碼)：')\n",
    "\n",
    "if len(ID_code)==1:\n",
    "    list_ID=list(p.ID[0]==ID_code for p in sample_ls) #list(True or False)\n",
    "    sample_ls_fil1 = [] \n",
    "    for i in range(len(sample_ls)):\n",
    "        if list_ID[i]:\n",
    "            sample_ls_fil1.append(sample_ls[i])\n",
    "elif len(ID_code)==2:\n",
    "    list_ID=list(p.ID[0:2]==ID_code for p in sample_ls)\n",
    "    sample_ls_fil1 = [] \n",
    "    for i in range(len(sample_ls)):\n",
    "        if list_ID[i]:\n",
    "            sample_ls_fil1.append(sample_ls[i])\n",
    "print('依照ID代號過濾後的物件集合為:sample_ls_fil1')"
   ]
  },
  {
   "cell_type": "code",
   "execution_count": 12,
   "metadata": {
    "collapsed": false
   },
   "outputs": [
    {
     "ename": "AttributeError",
     "evalue": "type object 'sample' has no attribute 'all'",
     "output_type": "error",
     "traceback": [
      "\u001b[0;31m---------------------------------------------------------------------------\u001b[0m",
      "\u001b[0;31mAttributeError\u001b[0m                            Traceback (most recent call last)",
      "\u001b[0;32m<ipython-input-12-1a01975296a0>\u001b[0m in \u001b[0;36m<module>\u001b[0;34m()\u001b[0m\n\u001b[1;32m      1\u001b[0m \u001b[0ma\u001b[0m \u001b[1;33m=\u001b[0m \u001b[0msample\u001b[0m\u001b[1;33m(\u001b[0m\u001b[1;36m1\u001b[0m\u001b[1;33m,\u001b[0m\u001b[1;36m2\u001b[0m\u001b[1;33m,\u001b[0m\u001b[1;36m3\u001b[0m\u001b[1;33m,\u001b[0m\u001b[1;36m4\u001b[0m\u001b[1;33m,\u001b[0m\u001b[1;36m5\u001b[0m\u001b[1;33m)\u001b[0m\u001b[1;33m\u001b[0m\u001b[0m\n\u001b[1;32m      2\u001b[0m \u001b[0mb\u001b[0m \u001b[1;33m=\u001b[0m \u001b[0msample\u001b[0m\u001b[1;33m(\u001b[0m\u001b[1;36m6\u001b[0m\u001b[1;33m,\u001b[0m\u001b[1;36m7\u001b[0m\u001b[1;33m,\u001b[0m\u001b[1;36m8\u001b[0m\u001b[1;33m,\u001b[0m\u001b[1;36m9\u001b[0m\u001b[1;33m,\u001b[0m\u001b[1;36m10\u001b[0m\u001b[1;33m)\u001b[0m\u001b[1;33m\u001b[0m\u001b[0m\n\u001b[0;32m----> 3\u001b[0;31m \u001b[0mc\u001b[0m \u001b[1;33m=\u001b[0m \u001b[0msample\u001b[0m\u001b[1;33m.\u001b[0m\u001b[0mall\u001b[0m\u001b[1;33m(\u001b[0m\u001b[1;33m)\u001b[0m\u001b[1;33m\u001b[0m\u001b[0m\n\u001b[0m",
      "\u001b[0;31mAttributeError\u001b[0m: type object 'sample' has no attribute 'all'"
     ]
    }
   ],
   "source": [
    "a = sample(1,2,3,4,5)\n",
    "b = sample(6,7,8,9,10)\n",
    "c = sample.all()"
   ]
  },
  {
   "cell_type": "code",
   "execution_count": 24,
   "metadata": {
    "collapsed": false
   },
   "outputs": [
    {
     "ename": "AttributeError",
     "evalue": "module 'scipy.stats' has no attribute 'percentile'",
     "output_type": "error",
     "traceback": [
      "\u001b[0;31m---------------------------------------------------------------------------\u001b[0m",
      "\u001b[0;31mAttributeError\u001b[0m                            Traceback (most recent call last)",
      "\u001b[0;32m<ipython-input-24-181ba6551fe2>\u001b[0m in \u001b[0;36m<module>\u001b[0;34m()\u001b[0m\n\u001b[0;32m----> 1\u001b[0;31m \u001b[0mstats\u001b[0m\u001b[1;33m.\u001b[0m\u001b[0mpercentile\u001b[0m\u001b[1;33m(\u001b[0m\u001b[1;33m[\u001b[0m\u001b[1;36m1\u001b[0m\u001b[1;33m,\u001b[0m\u001b[1;36m2\u001b[0m\u001b[1;33m,\u001b[0m\u001b[1;36m23\u001b[0m\u001b[1;33m,\u001b[0m\u001b[1;36m33\u001b[0m\u001b[1;33m,\u001b[0m\u001b[1;36m2\u001b[0m\u001b[1;33m,\u001b[0m\u001b[1;36m2\u001b[0m\u001b[1;33m,\u001b[0m\u001b[1;36m4\u001b[0m\u001b[1;33m,\u001b[0m\u001b[1;36m5\u001b[0m\u001b[1;33m,\u001b[0m\u001b[1;36m3\u001b[0m\u001b[1;33m,\u001b[0m\u001b[1;36m4\u001b[0m\u001b[1;33m]\u001b[0m\u001b[1;33m,\u001b[0m\u001b[1;36m0.5\u001b[0m\u001b[1;33m)\u001b[0m\u001b[1;33m\u001b[0m\u001b[0m\n\u001b[0m",
      "\u001b[0;31mAttributeError\u001b[0m: module 'scipy.stats' has no attribute 'percentile'"
     ]
    }
   ],
   "source": [
    "stats.percentile([1,2,23,33,2,2,4,5,3,4],0.5)"
   ]
  },
  {
   "cell_type": "code",
   "execution_count": 38,
   "metadata": {
    "collapsed": false
   },
   "outputs": [
    {
     "ename": "AttributeError",
     "evalue": "module 'math' has no attribute 'median'",
     "output_type": "error",
     "traceback": [
      "\u001b[0;31m---------------------------------------------------------------------------\u001b[0m",
      "\u001b[0;31mAttributeError\u001b[0m                            Traceback (most recent call last)",
      "\u001b[0;32m<ipython-input-38-49baef9eac46>\u001b[0m in \u001b[0;36m<module>\u001b[0;34m()\u001b[0m\n\u001b[1;32m      1\u001b[0m \u001b[0mage_ls\u001b[0m \u001b[1;33m=\u001b[0m \u001b[0mlist\u001b[0m\u001b[1;33m(\u001b[0m\u001b[0mfile_df\u001b[0m\u001b[1;33m.\u001b[0m\u001b[0mix\u001b[0m\u001b[1;33m[\u001b[0m\u001b[1;33m:\u001b[0m\u001b[1;33m,\u001b[0m\u001b[1;34m'Age'\u001b[0m\u001b[1;33m]\u001b[0m\u001b[1;33m)\u001b[0m\u001b[1;33m\u001b[0m\u001b[0m\n\u001b[1;32m      2\u001b[0m \u001b[1;33m\u001b[0m\u001b[0m\n\u001b[0;32m----> 3\u001b[0;31m \u001b[0mmath\u001b[0m\u001b[1;33m.\u001b[0m\u001b[0mmedian\u001b[0m\u001b[1;33m(\u001b[0m\u001b[0mage_ls\u001b[0m\u001b[1;33m)\u001b[0m\u001b[1;33m\u001b[0m\u001b[0m\n\u001b[0m",
      "\u001b[0;31mAttributeError\u001b[0m: module 'math' has no attribute 'median'"
     ]
    }
   ],
   "source": [
    "age_ls = list(file_df.ix[:,'Age'])\n",
    "\n",
    "median()"
   ]
  },
  {
   "cell_type": "code",
   "execution_count": 39,
   "metadata": {
    "collapsed": true
   },
   "outputs": [],
   "source": [
    "def median(mylist):\n",
    "    sorts = sorted(mylist)\n",
    "    length = len(sorts)\n",
    "    if not length % 2:\n",
    "        return (sorts[length / 2] + sorts[length / 2 - 1]) / 2.0\n",
    "    return sorts[length / 2]\n"
   ]
  },
  {
   "cell_type": "code",
   "execution_count": 48,
   "metadata": {
    "collapsed": false
   },
   "outputs": [
    {
     "name": "stdout",
     "output_type": "stream",
     "text": [
      "69.0\n",
      "ModeResult(mode=array([67]), count=array([36]))\n"
     ]
    }
   ],
   "source": [
    "age_ls = list(file_df.ix[:,'Age'])\n",
    "age_ls = list(map(int,age_ls))\n",
    "print(np.median(age_ls))\n",
    "print(stats.mode(age_ls))"
   ]
  },
  {
   "cell_type": "code",
   "execution_count": 50,
   "metadata": {
    "collapsed": false
   },
   "outputs": [
    {
     "ename": "TypeError",
     "evalue": "'rv_frozen' object is not iterable",
     "output_type": "error",
     "traceback": [
      "\u001b[0;31m---------------------------------------------------------------------------\u001b[0m",
      "\u001b[0;31mTypeError\u001b[0m                                 Traceback (most recent call last)",
      "\u001b[0;32m<ipython-input-50-707438cda8d4>\u001b[0m in \u001b[0;36m<module>\u001b[0;34m()\u001b[0m\n\u001b[0;32m----> 1\u001b[0;31m \u001b[0mlist\u001b[0m\u001b[1;33m(\u001b[0m\u001b[0mstats\u001b[0m\u001b[1;33m.\u001b[0m\u001b[0mnorm\u001b[0m\u001b[1;33m(\u001b[0m\u001b[1;36m2\u001b[0m\u001b[1;33m)\u001b[0m\u001b[1;33m)\u001b[0m\u001b[1;33m\u001b[0m\u001b[0m\n\u001b[0m",
      "\u001b[0;31mTypeError\u001b[0m: 'rv_frozen' object is not iterable"
     ]
    }
   ],
   "source": [
    "stats."
   ]
  },
  {
   "cell_type": "code",
   "execution_count": 2,
   "metadata": {
    "collapsed": false
   },
   "outputs": [],
   "source": []
  },
  {
   "cell_type": "code",
   "execution_count": null,
   "metadata": {
    "collapsed": true
   },
   "outputs": [],
   "source": []
  }
 ],
 "metadata": {
  "kernelspec": {
   "display_name": "Python 3",
   "language": "python",
   "name": "python3"
  },
  "language_info": {
   "codemirror_mode": {
    "name": "ipython",
    "version": 3
   },
   "file_extension": ".py",
   "mimetype": "text/x-python",
   "name": "python",
   "nbconvert_exporter": "python",
   "pygments_lexer": "ipython3",
   "version": "3.6.0"
  }
 },
 "nbformat": 4,
 "nbformat_minor": 2
}
