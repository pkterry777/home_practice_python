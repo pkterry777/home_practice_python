{
 "cells": [
  {
   "cell_type": "code",
   "execution_count": 93,
   "metadata": {
    "collapsed": false
   },
   "outputs": [],
   "source": [
    "class sample:\n",
    "    \n",
    "    def __init__(self,ID,sex,Li,age,result):\n",
    "        self.ID = ID\n",
    "        self.sex = sex\n",
    "        self.Li = Li\n",
    "        self.age = age\n",
    "        self.result = result\n",
    "\n",
    "        "
   ]
  },
  {
   "cell_type": "code",
   "execution_count": 155,
   "metadata": {
    "collapsed": false
   },
   "outputs": [
    {
     "name": "stdout",
     "output_type": "stream",
     "text": [
      "csv資料前五項：\n",
      "       ID Sex   Li Age    Result\n",
      "0    S001   2  寶珠里  73  Negative\n",
      "1    S002   1  寶龍里  88  Positive\n",
      "2    S003   1  寶國里  85  Positive\n",
      "3    S004   1  寶龍里  82  Positive\n",
      "4    S005   1  寶龍里  70  Negative\n",
      "5    S006   2  寶龍里  67  Negative\n",
      "6    S007   2  寶龍里  77  Positive\n",
      "7    S008   1  灣勝里  75  Positive\n",
      "8    S009   1  寶興里  72  Positive\n",
      "9    S010   2  安康里  77  Negative\n",
      "10   S011   1  寶興里  83  Negative\n",
      "11   S012   1  安康里  65  Negative\n",
      "12   S013   1  寶興里  70  Negative\n",
      "13   S015   1  寶國里  66  Negative\n",
      "14   S016   1  鼎西里  72  Positive\n",
      "15   S017   2  鼎力里  69  Positive\n",
      "16   S018   1  灣利里  75  Positive\n",
      "17   S019   1  鼎泰里  81  Positive\n",
      "18   S020   2  鼎西里  69  Positive\n",
      "19   S021   2  鼎泰里  72  Positive\n",
      "20   S022   2  鼎泰里  74  Positive\n",
      "21   S023   1  鼎泰里  66  Negative\n",
      "22   S024   2  寶國里  77  Positive\n",
      "23   S026   1  寶興里  85  Positive\n",
      "24   S027   1  灣利里  86  Positive\n",
      "25   S028   2  灣利里  81  Negative\n",
      "26   S029   2  正興里  77  Negative\n",
      "27   S030   1  鼎西里  71  Positive\n",
      "28   S031   2  寶興里  73  Positive\n",
      "29   S032   1  寶興里  78  Positive\n",
      "..    ...  ..  ...  ..       ...\n",
      "518  S538   2  寶珠里  76  Negative\n",
      "519  S539   2  鼎西里  67  Positive\n",
      "520  S540   2  灣勝里  67  Positive\n",
      "521  S541   1  正興里  65  Positive\n",
      "522  S542   1  鼎西里  64  Negative\n",
      "523  S543   2  鼎泰里  72  Negative\n",
      "524  S544   1  寶龍里  65  Positive\n",
      "525  S545   2  寶龍里  67  Positive\n",
      "526  S546   2  寶國里  69  Negative\n",
      "527  S547   1  寶龍里  71  Positive\n",
      "528  S548   1  鼎西里  73  Positive\n",
      "529  S549   2  寶興里  65  Negative\n",
      "530  S550   1  正興里  76  Positive\n",
      "531  S551   2  正興里  73  Positive\n",
      "532  S552   2  寶興里  64  Negative\n",
      "533  S553   1  鼎金里  75  Positive\n",
      "534  S554   1  鼎中里  71  Positive\n",
      "535  S555   2  寶興里  68  Negative\n",
      "536  S556   1  正興里  78  Positive\n",
      "537  S557   2  正興里  73  Positive\n",
      "538  S558   1  灣勝里  74  Negative\n",
      "539  S559   1  灣利里  69  Negative\n",
      "540  S560   1  鼎泰里  74  Positive\n",
      "541  S561   2  鼎泰里  68  Positive\n",
      "542  S562   1  鼎中里  70  Positive\n",
      "543  S563   2  鼎中里  66  Negative\n",
      "544  S564   2  寶興里  64  Positive\n",
      "545  S565   1  寶興里  75  Positive\n",
      "546  S566   1  安康里  70  Negative\n",
      "547  S567   2  鼎力里  65  Positive\n",
      "\n",
      "[548 rows x 5 columns]\n",
      "----------------\n"
     ]
    }
   ],
   "source": [
    "#建立物件\n",
    "\n",
    "import pandas as pd\n",
    "import numpy as np\n",
    "import scipy.stats as stats\n",
    "import os\n",
    "\n",
    "file = open('D:\\\\YAO\\\\DATA\\\\三民_高雄老人.csv',encoding='big5')\n",
    "data_list = []\n",
    "for i in file.readlines():\n",
    "    data = i.strip()\n",
    "    data = data.split(',')\n",
    "    data_list.append(data)\n",
    "file.close()\n",
    "\n",
    "file_df = pd.DataFrame(data_list[1:],columns=data_list[0])\n",
    "print('csv資料前五項：')\n",
    "print(file_df)\n",
    "print('----------------')\n",
    "\n",
    "ID = list(file_df.ix[:,'ID'])\n",
    "sex = list(file_df.ix[:,'Sex'])\n",
    "Li = list(file_df.ix[:,'Li'])\n",
    "age = list(map(int,list(file_df.ix[:,'Age'])))\n",
    "result = list(file_df.ix[:,'Result'])\n",
    "\n",
    "\n",
    "sample_ls = []\n",
    "for i in range(len(file_df)):\n",
    "    sample_ls.append(sample(ID[i],sex[i],Li[i],age[i],result[i]))\n",
    "    \n",
    "\n",
    "\n"
   ]
  },
  {
   "cell_type": "code",
   "execution_count": 157,
   "metadata": {
    "collapsed": false
   },
   "outputs": [
    {
     "name": "stdout",
     "output_type": "stream",
     "text": [
      "切點為：[?-?]\n",
      "請輸入第1個區間範圍的最小值：39\n",
      "請輸入第1個區間範圍的最大值：49\n",
      "第1切點為：[39-49]\n",
      "-------------------\n",
      "是否結束輸入(y/n):\n",
      "請輸入第2個區間範圍的最小值：50\n",
      "請輸入第2個區間範圍的最大值：59\n",
      "第2切點為：[50-59]\n",
      "-------------------\n",
      "是否結束輸入(y/n):\n",
      "請輸入第3個區間範圍的最小值：60\n",
      "請輸入第3個區間範圍的最大值：64\n",
      "第3切點為：[60-64]\n",
      "-------------------\n",
      "是否結束輸入(y/n):\n",
      "請輸入第4個區間範圍的最小值：65\n",
      "請輸入第4個區間範圍的最大值：69\n",
      "第4切點為：[65-69]\n",
      "-------------------\n",
      "是否結束輸入(y/n):\n",
      "請輸入第5個區間範圍的最小值：70\n",
      "請輸入第5個區間範圍的最大值：74\n",
      "第5切點為：[70-74]\n",
      "-------------------\n",
      "是否結束輸入(y/n):\n",
      "請輸入第6個區間範圍的最小值：75\n",
      "請輸入第6個區間範圍的最大值：79\n",
      "第6切點為：[75-79]\n",
      "-------------------\n",
      "是否結束輸入(y/n):\n",
      "請輸入第7個區間範圍的最小值：80\n",
      "請輸入第7個區間範圍的最大值：84\n",
      "第7切點為：[80-84]\n",
      "-------------------\n",
      "是否結束輸入(y/n):\n",
      "請輸入第8個區間範圍的最小值：85\n",
      "請輸入第8個區間範圍的最大值：92\n",
      "第8切點為：[85-92]\n",
      "-------------------\n",
      "是否結束輸入(y/n):y\n",
      "切點為： [[39, 49], [50, 59], [60, 64], [65, 69], [70, 74], [75, 79], [80, 84], [85, 92]]\n",
      "--------已經切好年齡----------\n"
     ]
    }
   ],
   "source": [
    "#切年紀\n",
    "\n",
    "age_cutters = []\n",
    "i = 1\n",
    "print('切點為：[?-?]')\n",
    "while True:\n",
    "    age_cutter_min = eval(input('請輸入第%d個區間範圍的最小值：'%i))\n",
    "    age_cutter_max = eval(input('請輸入第%d個區間範圍的最大值：'%i))\n",
    "    age_cutter = [age_cutter_min,age_cutter_max]\n",
    "    age_cutters.append(age_cutter)\n",
    "    print('第%d切點為：[%d-%d]'%(i,age_cutter_min,age_cutter_max))\n",
    "    print('-------------------')\n",
    "    i += 1\n",
    "    ask = input('是否結束輸入(y/n):')\n",
    "    if ask == 'y':\n",
    "        break\n",
    "print('切點為：',age_cutters)\n",
    "print('--------已經切好年齡----------')\n",
    "\n"
   ]
  },
  {
   "cell_type": "code",
   "execution_count": 158,
   "metadata": {
    "collapsed": false
   },
   "outputs": [
    {
     "name": "stdout",
     "output_type": "stream",
     "text": [
      "[pos  neg]\n",
      "4    23   [39, 49]\n",
      "19    31   [50, 59]\n",
      "13    31   [60, 64]\n",
      "60    98   [65, 69]\n",
      "84    46   [70, 74]\n",
      "66    19   [75, 79]\n",
      "27    8   [80, 84]\n",
      "11    8   [85, 92]\n"
     ]
    }
   ],
   "source": [
    "#區分各年齡數目\n",
    "print('[pos  neg]')\n",
    "for i in range(len(age_cutters)):   \n",
    "    print(sum(age_cutters[i][0] <= p.age <= age_cutters[i][1] and p.result=='Positive' for p in sample_ls),'   ',end='')   \n",
    "    print(sum(age_cutters[i][0] <= p.age <= age_cutters[i][1] and p.result=='Negative' for p in sample_ls),' ',age_cutters[i])    \n"
   ]
  },
  {
   "cell_type": "code",
   "execution_count": 55,
   "metadata": {
    "collapsed": false
   },
   "outputs": [
    {
     "name": "stdout",
     "output_type": "stream",
     "text": [
      "條件有： ['ID', 'Sex', 'Li', 'Age', 'Result']\n",
      "輸入條件數目：1\n"
     ]
    }
   ],
   "source": [
    "print('條件有：',list(file_df.columns))\n",
    "condition = input('輸入條件數目：')\n",
    "\n",
    "if condition == 1:\n",
    "    "
   ]
  },
  {
   "cell_type": "code",
   "execution_count": 156,
   "metadata": {
    "collapsed": false
   },
   "outputs": [
    {
     "name": "stdout",
     "output_type": "stream",
     "text": [
      "[0, 4] : 0\n",
      "[5, 9] : 0\n",
      "[10, 14] : 0\n",
      "[15, 19] : 0\n",
      "[20, 24] : 0\n",
      "[25, 29] : 0\n",
      "[30, 34] : 0\n",
      "[35, 39] : 1\n",
      "[40, 44] : 13\n",
      "[45, 49] : 13\n",
      "[50, 54] : 22\n",
      "[55, 59] : 28\n",
      "[60, 64] : 44\n",
      "[65, 69] : 158\n",
      "[70, 74] : 130\n",
      "[75, 79] : 85\n",
      "[80, 84] : 35\n",
      "[85, 89] : 16\n",
      "[90, 94] : 3\n",
      "[95, 99] : 0\n",
      "[100, 104] : 0\n",
      "最小: 39\n",
      "最大: 92\n"
     ]
    }
   ],
   "source": [
    "#先5歲年齡切切看\n",
    "Age5Cutter = []\n",
    "min1 = 0\n",
    "max1 = 4\n",
    "min_max = [min1,max1]\n",
    "Age5Cutter.append(min_max)\n",
    "for i in range(20):\n",
    "    min1 += 5\n",
    "    max1 += 5\n",
    "    min_max = [min1,max1]\n",
    "    Age5Cutter.append(min_max)\n",
    "#print(Age5Cutter)\n",
    "\n",
    "#算物件\n",
    "for i in range(len(Age5Cutter)):\n",
    "    print(Age5Cutter[i],':',sum(Age5Cutter[i][0] <= p.age <= Age5Cutter[i][1] for p in sample_ls))\n",
    "#最大最小年齡   \n",
    "print(\"最小:\",min(p.age for p in sample_ls))\n",
    "print(\"最大:\",max(p.age for p in sample_ls))"
   ]
  },
  {
   "cell_type": "code",
   "execution_count": 127,
   "metadata": {
    "collapsed": false
   },
   "outputs": [
    {
     "name": "stdout",
     "output_type": "stream",
     "text": [
      "20\n"
     ]
    }
   ],
   "source": [
    "class sample2:\n",
    "    \n",
    "    def __init__(self,ID,age):\n",
    "        self.ID = ID\n",
    "        self.age = age\n",
    "\n",
    "a = sample2('S001',20)\n",
    "b = sample2('S002',30)\n",
    "\n",
    "if a.ID=='S001':\n",
    "    print(a.age)"
   ]
  },
  {
   "cell_type": "code",
   "execution_count": null,
   "metadata": {
    "collapsed": true
   },
   "outputs": [],
   "source": []
  },
  {
   "cell_type": "code",
   "execution_count": 90,
   "metadata": {
    "collapsed": false
   },
   "outputs": [
    {
     "ename": "SyntaxError",
     "evalue": "invalid syntax (<ipython-input-90-bdb72cee8913>, line 1)",
     "output_type": "error",
     "traceback": [
      "\u001b[0;36m  File \u001b[0;32m\"<ipython-input-90-bdb72cee8913>\"\u001b[0;36m, line \u001b[0;32m1\u001b[0m\n\u001b[0;31m    min(p.age[p.ID[0] == \"L\" for p in sample_ls])\u001b[0m\n\u001b[0m                               ^\u001b[0m\n\u001b[0;31mSyntaxError\u001b[0m\u001b[0;31m:\u001b[0m invalid syntax\n"
     ]
    }
   ],
   "source": [
    "min(p.age[p.ID[0] == \"L\" for p in sample_ls])"
   ]
  },
  {
   "cell_type": "code",
   "execution_count": null,
   "metadata": {
    "collapsed": true
   },
   "outputs": [],
   "source": []
  }
 ],
 "metadata": {
  "kernelspec": {
   "display_name": "Python 3",
   "language": "python",
   "name": "python3"
  },
  "language_info": {
   "codemirror_mode": {
    "name": "ipython",
    "version": 3
   },
   "file_extension": ".py",
   "mimetype": "text/x-python",
   "name": "python",
   "nbconvert_exporter": "python",
   "pygments_lexer": "ipython3",
   "version": "3.6.0"
  }
 },
 "nbformat": 4,
 "nbformat_minor": 2
}
