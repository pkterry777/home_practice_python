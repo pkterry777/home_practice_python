{
 "cells": [
  {
   "cell_type": "code",
   "execution_count": 1,
   "metadata": {
    "collapsed": false
   },
   "outputs": [
    {
     "name": "stdout",
     "output_type": "stream",
     "text": [
      "檔案名稱：三民_高雄老人20170216\n",
      "是否列印DATAFRAME(y/n)：n\n"
     ]
    }
   ],
   "source": [
    "#讀取資料，建立dataframe\n",
    "\n",
    "import pandas as pd\n",
    "import numpy as np\n",
    "import scipy.stats as stats\n",
    "import os\n",
    "import matplotlib.pyplot as plt\n",
    "\n",
    "file_name = input('檔案名稱：')\n",
    "file = open('D:\\\\YAO\\\\DATA\\\\%s.csv'%file_name,encoding='big5')\n",
    "data_list = []\n",
    "for i in file.readlines():\n",
    "    data = i.strip()\n",
    "    data = data.split(',')\n",
    "    data_list.append(data)\n",
    "file.close()\n",
    "\n",
    "file_df = pd.DataFrame(data_list[1:],columns=data_list[0])\n",
    "\n",
    "condiction = input('是否列印DATAFRAME(y/n)：')\n",
    "if condiction == 'y':\n",
    "    print('csv資料：')\n",
    "    print(file_df)\n",
    "    print('----------------')"
   ]
  },
  {
   "cell_type": "code",
   "execution_count": 3,
   "metadata": {
    "collapsed": false
   },
   "outputs": [
    {
     "name": "stdout",
     "output_type": "stream",
     "text": [
      "檔案名稱：苓雅_高雄老人20170216\n",
      "是否列印DATAFRAME(y/n)：y\n",
      "csv資料：\n",
      "        ID Sex   Li Age    Result\n",
      "0     S208   2  灣勝里  39  Negative\n",
      "1     S320   1  寶興里  40  Negative\n",
      "2     S211   1  灣利里  41  Negative\n",
      "3     S212   2  灣利里  41  Positive\n",
      "4     S373   2  鼎中里  41  Negative\n",
      "5     S402   1  鼎力里  42  Negative\n",
      "6     S278   1  寶國里  42  Negative\n",
      "7     S313   1  寶興里  43  Negative\n",
      "8     S321   2  寶興里  43  Negative\n",
      "9     S389   1  鼎金里  43  Negative\n",
      "10    S204   1  灣利里  44  Positive\n",
      "11    S322   1  正興里  44  Negative\n",
      "12    S386   2  鼎泰里  44  Negative\n",
      "13    S502   1  鼎盛里  44  Negative\n",
      "14    S206   2  正興里  45  Positive\n",
      "15    S307   1  寶國里  45  Negative\n",
      "16    S308   1  寶興里  45  Negative\n",
      "17    S305   2  寶興里  46  Negative\n",
      "18    S505   2  鼎中里  46  Negative\n",
      "19    S281   2  寶國里  47  Negative\n",
      "20    S306   2  正興里  47  Negative\n",
      "21    S523   2  鼎盛里  48  Negative\n",
      "22    S378   2  鼎西里  49  Negative\n",
      "23    S392   2  鼎西里  49  Positive\n",
      "24    S400   1  鼎中里  49  Negative\n",
      "25    S501   1  鼎西里  49  Negative\n",
      "26    S503   1  鼎西里  49  Negative\n",
      "27    S388   2  鼎力里  50  Positive\n",
      "28    S324   1  寶國里  50  Negative\n",
      "29    S380   1  鼎西里  50  Negative\n",
      "...    ...  ..  ...  ..       ...\n",
      "1468  L026   1  永康里  85  Positive\n",
      "1469  L079   2  福祥里  85  Positive\n",
      "1470  L125   1  奏捷里  85  Negative\n",
      "1471  L291   2  奏捷里  85  Positive\n",
      "1472  L361   1  奏捷里  85  Positive\n",
      "1473  L412   1  正大里  85  Positive\n",
      "1474  L001   1  正大里  86  Positive\n",
      "1475  L217   1  奏捷里  86  Positive\n",
      "1476  L283   1  正大里  86  Positive\n",
      "1477  L386   1  林中里  86  Positive\n",
      "1478  L411   1  林中里  86  Negative\n",
      "1479  L032   1  林榮里  87  Positive\n",
      "1480  L049   1  福祥里  87  Positive\n",
      "1481  L077   1  奏捷里  87  Positive\n",
      "1482  L246   2  福康里  87  Negative\n",
      "1483  L267   2  福祥里  87  Positive\n",
      "1484  L039   1  奏捷里  88  Positive\n",
      "1485  L141   1  奏捷里  88  Negative\n",
      "1486  L203   1  奏捷里  88  Positive\n",
      "1487  L273   1  林中里  88  Negative\n",
      "1488  L293   1  林中里  88  Negative\n",
      "1489  L357   1  林中里  88  Positive\n",
      "1490  L364   2  永康里  88  Positive\n",
      "1491  L105   1  奏捷里  90  Negative\n",
      "1492  L145   1  林靖里  90  Negative\n",
      "1493  L162   1  永康里  91  Negative\n",
      "1494  L206   2  奏捷里  91  Positive\n",
      "1495  L187   1  永康里  92  Negative\n",
      "1496  L274   2  林中里  94  Negative\n",
      "1497  L266   1  正大里  96  Positive\n",
      "\n",
      "[1498 rows x 5 columns]\n",
      "----------------\n"
     ]
    }
   ],
   "source": [
    "#data append:\n",
    "file_name = input('檔案名稱：')\n",
    "file = open('D:\\\\YAO\\\\DATA\\\\%s.csv'%file_name,encoding='big5')\n",
    "\n",
    "head_cut = 0\n",
    "for i in file.readlines():\n",
    "    if head_cut != 0:\n",
    "        data = i.strip()\n",
    "        data = data.split(',')\n",
    "        data_list.append(data)\n",
    "    head_cut += 1\n",
    "file.close()\n",
    "\n",
    "file_df = pd.DataFrame(data_list[1:],columns=data_list[0])\n",
    "\n",
    "condiction = input('是否列印DATAFRAME(y/n)：')\n",
    "if condiction == 'y':\n",
    "    print('csv資料：')\n",
    "    print(file_df)\n",
    "    print('----------------')"
   ]
  },
  {
   "cell_type": "code",
   "execution_count": 4,
   "metadata": {
    "collapsed": false
   },
   "outputs": [],
   "source": [
    "def age_median_mode(file_df):\n",
    "    age_ls = list(file_df.ix[:,'Age'])\n",
    "    age_ls = list(map(int,age_ls))\n",
    "    print('median:',np.median(age_ls))\n",
    "    print('mode:',stats.mode(age_ls))\n"
   ]
  },
  {
   "cell_type": "code",
   "execution_count": 5,
   "metadata": {
    "collapsed": false
   },
   "outputs": [
    {
     "name": "stdout",
     "output_type": "stream",
     "text": [
      "median: 71.0\n",
      "mode: ModeResult(mode=array([67]), count=array([90]))\n"
     ]
    }
   ],
   "source": [
    "age_median_mode(file_df)"
   ]
  },
  {
   "cell_type": "code",
   "execution_count": 6,
   "metadata": {
    "collapsed": false
   },
   "outputs": [
    {
     "name": "stdout",
     "output_type": "stream",
     "text": [
      "Gender(1/2):1\n"
     ]
    }
   ],
   "source": [
    "#filter Gender:\n",
    "gender = input('Gender(1/2):')\n",
    "filter = file_df.ix[:,'Sex'] == gender\n",
    "file_df_filtered = file_df[filter]\n"
   ]
  },
  {
   "cell_type": "code",
   "execution_count": 7,
   "metadata": {
    "collapsed": false
   },
   "outputs": [
    {
     "name": "stdout",
     "output_type": "stream",
     "text": [
      "median: 72.0\n",
      "mode: ModeResult(mode=array([74]), count=array([56]))\n"
     ]
    }
   ],
   "source": [
    "age_median_mode(file_df_filtered)"
   ]
  },
  {
   "cell_type": "code",
   "execution_count": 8,
   "metadata": {
    "collapsed": false
   },
   "outputs": [
    {
     "name": "stdout",
     "output_type": "stream",
     "text": [
      "切點>=x點:73\n"
     ]
    }
   ],
   "source": [
    "#filter Age BiCutter:\n",
    "agepoint = int(input('切點>=x點:'))\n",
    "filter_up = file_df.ix[:,'Age'].apply(int) >= agepoint \n",
    "filter_low = file_df.ix[:,'Age'].apply(int) < agepoint \n",
    "file_df_filtered_age_up = file_df[filter_up]\n",
    "file_df_filtered_age_low = file_df[filter_low]"
   ]
  },
  {
   "cell_type": "code",
   "execution_count": 9,
   "metadata": {
    "collapsed": true
   },
   "outputs": [],
   "source": [
    "def PosRate_Calculator(file_df):\n",
    "    return sum(file_df.ix[:,'Result']=='Positive')"
   ]
  },
  {
   "cell_type": "code",
   "execution_count": 11,
   "metadata": {
    "collapsed": false
   },
   "outputs": [
    {
     "name": "stdout",
     "output_type": "stream",
     "text": [
      "[<73]\n",
      "pos:311\n",
      "total:838\n",
      "[>=73]\n",
      "pos:480\n",
      "total:660\n"
     ]
    }
   ],
   "source": [
    "print('[<73]')\n",
    "print('pos:%d'%PosRate_Calculator(file_df_filtered_age_low))\n",
    "print('total:%d'%len(file_df_filtered_age_low))\n",
    "\n",
    "\n",
    "\n",
    "print('[>=73]')\n",
    "print('pos:%d'%PosRate_Calculator(file_df_filtered_age_up))\n",
    "print('total:%d'%len(file_df_filtered_age_up))\n",
    "\n"
   ]
  },
  {
   "cell_type": "code",
   "execution_count": 14,
   "metadata": {
    "collapsed": false
   },
   "outputs": [
    {
     "data": {
      "text/plain": [
       "4.518756698821008"
      ]
     },
     "execution_count": 14,
     "metadata": {},
     "output_type": "execute_result"
    }
   ],
   "source": [
    "(838-311)*480/311/(660-480)"
   ]
  },
  {
   "cell_type": "code",
   "execution_count": 64,
   "metadata": {
    "collapsed": false
   },
   "outputs": [
    {
     "name": "stdout",
     "output_type": "stream",
     "text": [
      "男生C.I.:0.5199 - 0.5889\n",
      "女生C.I.:0.4901 - 0.5641\n",
      "P-value: 0.498867297084\n"
     ]
    }
   ],
   "source": [
    "male_ci_up = 0.5544+1.96*np.sqrt(0.5544*(1-0.5544)/799)\n",
    "male_ci_low = 0.5544-1.96*np.sqrt(0.5544*(1-0.5544)/799)\n",
    "\n",
    "female_ci_up = 0.5271+1.96*np.sqrt(0.5271*(1-0.5271)/700)\n",
    "female_ci_low = 0.5271-1.96*np.sqrt(0.5271*(1-0.5271)/700)\n",
    "\n",
    "print('男生C.I.:%.4f - %.4f'%(male_ci_low,male_ci_up))\n",
    "print('女生C.I.:%.4f - %.4f'%(female_ci_low,female_ci_up))\n",
    "\n",
    "\n",
    "z_score = (0.5544 - 0.5271)/np.sqrt(0.5471*(1-0.5471)/(1/799+1/700))\n",
    "pvalue = stats.norm.sf(abs(z_score))\n",
    "print('P-value:',pvalue)"
   ]
  },
  {
   "cell_type": "code",
   "execution_count": 77,
   "metadata": {
    "collapsed": false
   },
   "outputs": [],
   "source": [
    "def CI_calculator(p,n):\n",
    "    ci_up = p+1.96*np.sqrt(p*(1-p)/n)\n",
    "    ci_low = p-1.96*np.sqrt(p*(1-p)/n)\n",
    "    print('C.I.:%.4f - %.4f'%(ci_low,ci_up))\n",
    "    "
   ]
  },
  {
   "cell_type": "code",
   "execution_count": 80,
   "metadata": {
    "collapsed": false
   },
   "outputs": [
    {
     "name": "stdout",
     "output_type": "stream",
     "text": [
      "C.I.:0.4995 - 0.5813\n"
     ]
    }
   ],
   "source": [
    "CI_calculator(0.5404,570)"
   ]
  },
  {
   "cell_type": "code",
   "execution_count": 95,
   "metadata": {
    "collapsed": false
   },
   "outputs": [
    {
     "name": "stdout",
     "output_type": "stream",
     "text": [
      "Positive(0) Negative(1):1\n"
     ]
    }
   ],
   "source": [
    "#filter Gender:\n",
    "PosNeg = ['Positive','Negative']\n",
    "posneg = int(input('Positive(0) Negative(1):'))\n",
    "filter = file_df.ix[:,'Result'] == PosNeg[posneg] \n",
    "file_df_filtered = file_df[filter]"
   ]
  },
  {
   "cell_type": "code",
   "execution_count": 96,
   "metadata": {
    "collapsed": false
   },
   "outputs": [
    {
     "name": "stdout",
     "output_type": "stream",
     "text": [
      "median: 68.0\n",
      "mode: ModeResult(mode=array([66]), count=array([60]))\n"
     ]
    }
   ],
   "source": [
    "age_median_mode(file_df_filtered)"
   ]
  },
  {
   "cell_type": "code",
   "execution_count": 104,
   "metadata": {
    "collapsed": false
   },
   "outputs": [
    {
     "name": "stdout",
     "output_type": "stream",
     "text": [
      "C.I.:0.0000 - 0.0000\n",
      "C.I.:0.0483 - 0.3047\n",
      "C.I.:0.1870 - 0.3640\n",
      "C.I.:0.2986 - 0.3814\n",
      "C.I.:0.6345 - 0.7071\n",
      "C.I.:0.6769 - 0.7983\n",
      "C.I.:0.1378 - 0.6122\n"
     ]
    }
   ],
   "source": [
    "CI_calculator(0,1)\n",
    "CI_calculator(0.1765,34)\n",
    "CI_calculator(0.2755,98)\n",
    "CI_calculator(0.34,503)\n",
    "CI_calculator(0.6708,644)\n",
    "CI_calculator(0.7376,202)\n",
    "CI_calculator(0.375,16)\n",
    "\n"
   ]
  },
  {
   "cell_type": "code",
   "execution_count": 111,
   "metadata": {
    "collapsed": false
   },
   "outputs": [
    {
     "name": "stdout",
     "output_type": "stream",
     "text": [
      "0 1\n",
      "6.0009999999999994 27.999000000000002\n",
      "26.999000000000002 71.001\n",
      "171.02 331.98\n",
      "431.99519999999995 212.00480000000005\n",
      "148.9952 53.00479999999999\n",
      "6.0 10.0\n",
      "1.8380281690140843\n",
      "2.489457831325301\n",
      "9.849056603773585\n",
      "13.588050314465407\n",
      "2.9\n"
     ]
    }
   ],
   "source": [
    "print(0,1)\n",
    "print(34*0.1765,34-34*0.1765)\n",
    "print(0.2755*98,98-0.2755*98)\n",
    "print(0.34*503,503-0.34*503)\n",
    "print(0.6708*644,644-0.6708*644)\n",
    "print(0.7376*202,202-0.7376*202)\n",
    "print(0.375*16,16-0.375*16)\n",
    "\n",
    "\n",
    "ref = [6,29]\n",
    "x = [[27,71],[171,332],[432,212],[149,53],[6,10]]\n",
    "\n",
    "for i in range(len(x)):\n",
    "    print(1/(ref[0]*x[i][1]/(ref[1]*x[i][0])))\n"
   ]
  },
  {
   "cell_type": "code",
   "execution_count": 126,
   "metadata": {
    "collapsed": false
   },
   "outputs": [
    {
     "name": "stdout",
     "output_type": "stream",
     "text": [
      "169.00050000000002 135.99949999999998\n",
      "138.99249999999998 126.00750000000002\n"
     ]
    }
   ],
   "source": [
    "#男女\n",
    "n1 = 305\n",
    "p1 = 0.5541\n",
    "n2 = 265\n",
    "p2 = 0.5245\n",
    "\n",
    "print(n1*p1,n1-n1*p1)\n",
    "print(n2*p2,n2-n2*p2)"
   ]
  },
  {
   "cell_type": "code",
   "execution_count": 127,
   "metadata": {
    "collapsed": false
   },
   "outputs": [
    {
     "data": {
      "text/plain": [
       "0.8876551833943728"
      ]
     },
     "execution_count": 127,
     "metadata": {},
     "output_type": "execute_result"
    }
   ],
   "source": [
    "1/((n1*p1)*(n2-n2*p2)/((n1-n1*p1)*(n2*p2)))"
   ]
  },
  {
   "cell_type": "code",
   "execution_count": 129,
   "metadata": {
    "collapsed": false
   },
   "outputs": [
    {
     "name": "stdout",
     "output_type": "stream",
     "text": [
      "2.0 6.0\n",
      "11.0016 36.998400000000004\n",
      "76.0 124.0\n",
      "153.9964 72.0036\n",
      "60.9998 21.0002\n",
      "4.0001999999999995 1.9998000000000005\n"
     ]
    }
   ],
   "source": [
    "n1,p1 = 16,0.25\n",
    "n2,p2 = 48,0.2292\n",
    "n3,p3 = 200,0.38\n",
    "n4,p4 = 226,0.6814\n",
    "n5,p5 = 82,0.7439\n",
    "n6,p6 = 6,0.6667\n",
    "\n",
    "print(p1*n1,n1-p1*n1)\n",
    "print(p2*n2,n2-p2*n2)\n",
    "print(p3*n3,n3-p3*n3)\n",
    "print(p4*n4,n4-p4*n4)\n",
    "print(p5*n5,n5-p5*n5)\n",
    "print(p6*n6,n6-p6*n6)\n",
    "\n",
    "ref1, ref2 = p1*n1,n1-p1*n1\n"
   ]
  },
  {
   "cell_type": "code",
   "execution_count": 130,
   "metadata": {
    "collapsed": false
   },
   "outputs": [
    {
     "name": "stdout",
     "output_type": "stream",
     "text": [
      "0.8920601971977167\n",
      "1.8387096774193548\n",
      "6.416195856873823\n",
      "8.714174150722375\n",
      "6.000900090008999\n"
     ]
    }
   ],
   "source": [
    "ref = [ref1, ref2]\n",
    "x = [[p2*n2,n2-p2*n2],[p3*n3,n3-p3*n3],[p4*n4,n4-p4*n4],[p5*n5,n5-p5*n5],[p6*n6,n6-p6*n6]]\n",
    "\n",
    "for i in range(len(x)):\n",
    "    print(1/(ref[0]*x[i][1]/(ref[1]*x[i][0])))\n"
   ]
  },
  {
   "cell_type": "code",
   "execution_count": 15,
   "metadata": {
    "collapsed": false
   },
   "outputs": [
    {
     "data": {
      "text/plain": [
       "15.001999999999999"
      ]
     },
     "execution_count": 15,
     "metadata": {},
     "output_type": "execute_result"
    }
   ],
   "source": [
    "15 11 \n",
    "5  9"
   ]
  },
  {
   "cell_type": "code",
   "execution_count": 16,
   "metadata": {
    "collapsed": false
   },
   "outputs": [
    {
     "data": {
      "text/plain": [
       "4.997999999999999"
      ]
     },
     "execution_count": 16,
     "metadata": {},
     "output_type": "execute_result"
    }
   ],
   "source": [
    "0.357*14"
   ]
  },
  {
   "cell_type": "code",
   "execution_count": null,
   "metadata": {
    "collapsed": true
   },
   "outputs": [],
   "source": []
  }
 ],
 "metadata": {
  "kernelspec": {
   "display_name": "Python 3",
   "language": "python",
   "name": "python3"
  },
  "language_info": {
   "codemirror_mode": {
    "name": "ipython",
    "version": 3
   },
   "file_extension": ".py",
   "mimetype": "text/x-python",
   "name": "python",
   "nbconvert_exporter": "python",
   "pygments_lexer": "ipython3",
   "version": "3.6.0"
  }
 },
 "nbformat": 4,
 "nbformat_minor": 2
}
