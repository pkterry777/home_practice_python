{
 "cells": [
  {
   "cell_type": "code",
   "execution_count": 4,
   "metadata": {
    "collapsed": true
   },
   "outputs": [],
   "source": [
    "import docx \n",
    "from docx.enum.text import WD_ALIGN_PARAGRAPH\n",
    "from pylab import *\n",
    " \n",
    "mpl.rcParams['font.sans-serif'] = ['DFKai-sb']\n",
    "import time\n",
    "import os"
   ]
  },
  {
   "cell_type": "code",
   "execution_count": 10,
   "metadata": {
    "collapsed": true
   },
   "outputs": [],
   "source": [
    "def Report(ID,IV,result1,result2):\n",
    "\n",
    "    document = docx.Document()\n",
    "\n",
    "    d1 = document.add_heading('台灣大學公共衛生學院金傳春研究室', 0)\n",
    "    d1.add_run().font.name='Arial'\n",
    "    p = document.add_paragraph('臺北市中正區徐州路17號9樓903室; 電話：(02)33668045')\n",
    "    p.style.font.size = docx.shared.Pt(12)\n",
    "    p.style.font.name = 'Times New Roman'\n",
    "    p.alignment= WD_ALIGN_PARAGRAPH.CENTER\n",
    "    #align到中間\n",
    "    p2 = document.add_paragraph('檢體編號: %s                       身份證號:NA                         病歷號碼:NA '%ID)\n",
    "    p3 = document.add_paragraph('檢體種類:血清 (SERUM)                                                           ')\n",
    "    p4 = document.add_paragraph('檢驗時間:2016/05/14                                                                  頁數: 1/1')\n",
    "    p5 = document.add_paragraph('檢驗單位:台大公共衛生學院金傳春研究室                           ')\n",
    "\n",
    "    table = document.add_table(rows=1, cols=3)\n",
    "    hdr_cells = table.rows[0].cells\n",
    "    hdr_cells[0].text = '檢驗項目'\n",
    "    hdr_cells[1].text = '檢驗值(IV)'\n",
    "    hdr_cells[2].text = '參考結果'\n",
    "\n",
    "    row_cells = table.add_row().cells\n",
    "    row_cells[0].paragraphs[0].add_run('登革熱IgG抗體').bold = False\n",
    "    row_cells[1].paragraphs[0].add_run('%.3f'%IV).bold = False\n",
    "    row_cells[2].paragraphs[0].add_run('%s(%s)'%(result2,result1)).bold = True\n",
    "    table.style = 'MediumList1'\n",
    "\n",
    "\n",
    "    p6 = document.add_paragraph('Index Value (IV)= sample OD /cut-off calibrator (1:101) OD.')\n",
    "    p7 = document.add_paragraph(' ')\n",
    "    p8 = document.add_paragraph(' ')\n",
    "    p9 = document.add_paragraph('報告簽暑人: 陳柏堯    ')\n",
    "    document.add_picture('01.png')\n",
    "    \n",
    "    StrResult = ['陽性','陰性']\n",
    "    StrResult2 = ['代表您過去可能感染過登革熱，並且痊癒有產生登革熱抗體。登革熱大部份感染者為無症狀感染，部分才會有發燒、肌肉痠痛等症狀。','代表您過去未曾感染過登革熱。']\n",
    "    if result2 == '陽性':\n",
    "        i = 0\n",
    "    elif result2 =='陰性':\n",
    "        i=1\n",
    "    document.add_paragraph('------------------------------------------------------------------------------------------------------------')\n",
    "    document.add_paragraph('給敬愛的您：')\n",
    "    document.add_paragraph('由衷感謝您參加本次抽血活動，隨信附上登革熱抗體檢驗報告，感謝您的參加！您的「登革熱抗體」檢查為「%s」，%s'%(StrResult[i],StrResult2[i]))\n",
    "    document.add_paragraph('若對結果有任何問題可來電金傳春教授實驗室：(02)33668045')\n",
    "\n",
    "\n",
    "    a = time.time()\n",
    "    st = time.localtime(a)\n",
    "    st2 = time.localtime(a-87562)\n",
    "\n",
    "    p10 = document.add_paragraph('                                         完成: %s       列印時間:%s'%(time.strftime('%Y-%m-%d %H:%M:%S', st2) ,time.strftime('%Y-%m-%d %H:%M:%S', st)))\n",
    "    document.save('%s.docx'%ID)"
   ]
  },
  {
   "cell_type": "code",
   "execution_count": 5,
   "metadata": {
    "collapsed": true
   },
   "outputs": [],
   "source": [
    "os.chdir('./OUTPUT')"
   ]
  },
  {
   "cell_type": "code",
   "execution_count": 12,
   "metadata": {
    "collapsed": false
   },
   "outputs": [
    {
     "name": "stderr",
     "output_type": "stream",
     "text": [
      "C:\\Users\\CCKing\\Anaconda3\\lib\\site-packages\\docx\\styles\\styles.py:54: UserWarning: style lookup by style_id is deprecated. Use style name as key instead.\n",
      "  warn(msg, UserWarning)\n"
     ]
    }
   ],
   "source": [
    "Report('s1',1.1,'Negative','陰性')"
   ]
  },
  {
   "cell_type": "code",
   "execution_count": null,
   "metadata": {
    "collapsed": true
   },
   "outputs": [],
   "source": []
  }
 ],
 "metadata": {
  "kernelspec": {
   "display_name": "Python 3",
   "language": "python",
   "name": "python3"
  },
  "language_info": {
   "codemirror_mode": {
    "name": "ipython",
    "version": 3
   },
   "file_extension": ".py",
   "mimetype": "text/x-python",
   "name": "python",
   "nbconvert_exporter": "python",
   "pygments_lexer": "ipython3",
   "version": "3.5.2"
  }
 },
 "nbformat": 4,
 "nbformat_minor": 1
}
