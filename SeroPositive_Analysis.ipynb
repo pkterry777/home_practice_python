{
 "cells": [
  {
   "cell_type": "code",
   "execution_count": 56,
   "metadata": {
    "collapsed": false
   },
   "outputs": [
    {
     "name": "stdout",
     "output_type": "stream",
     "text": [
      "     ID Sex   Li Age    Result\n",
      "0  S001   2  寶珠里  73  Negative\n",
      "1  S002   1  寶龍里  88  Positive\n",
      "2  S003   1  寶國里  85  Positive\n",
      "3  S004   1  寶龍里  82  Positive\n",
      "4  S005   1  寶龍里  70  Negative\n",
      "            L奏捷里        L林中里        L林榮里        L林靖里        L正大里        L永康里  \\\n",
      "L永康里  0.03656360  0.44173865  0.43665940  0.06334474  0.02733704  1.00000000   \n",
      "L林靖里  0.92450107  0.34266191  0.34703045  1.00000000  0.83195229  0.06334474   \n",
      "L林中里  0.23624261  1.00000000  0.89298815  0.34266191  0.19311603  0.44173865   \n",
      "L奏捷里  1.00000000  0.23624261  0.23963980  0.92450107  0.98080271  0.03656360   \n",
      "L福祥里  0.00181466  0.06987868  0.06857460  0.00387200  0.00122340  0.36749010   \n",
      "L正大里  0.98080271  0.19311603  0.19605280  0.83195229  1.00000000  0.02733704   \n",
      "L林榮里  0.23963980  0.89298815  1.00000000  0.34703045  0.19605280  0.43665940   \n",
      "L福康里  0.00018898  0.01465982  0.01432070  0.00045588  0.00011992  0.12458048   \n",
      "\n",
      "            L福康里        L福祥里  \n",
      "L永康里  0.12458048  0.36749010  \n",
      "L林靖里  0.00045588  0.00387200  \n",
      "L林中里  0.01465982  0.06987868  \n",
      "L奏捷里  0.00018898  0.00181466  \n",
      "L福祥里  0.62944210  1.00000000  \n",
      "L正大里  0.00011992  0.00122340  \n",
      "L林榮里  0.01432070  0.06857460  \n",
      "L福康里  1.00000000  0.62944210  \n",
      "            S安康里        S寶國里        S寶珠里        S寶興里        S寶龍里        S正興里  \\\n",
      "S寶國里  0.97379136  1.00000000  0.17216350  0.00053439  0.00001996  0.00218483   \n",
      "S鼎強里  0.05554984  0.08278454  0.81830232  0.10651271  0.01474207  0.22771059   \n",
      "S鼎泰里  0.00059215  0.00111779  0.07597453  0.94721736  0.36843108  0.95432451   \n",
      "S寶珠里  0.12217842  0.17216350  1.00000000  0.04743689  0.00505449  0.11507311   \n",
      "S寶龍里  0.00000908  0.00001996  0.00505449  0.49065693  1.00000000  0.27148371   \n",
      "S灣利里  0.00000020  0.00000049  0.00033178  0.13486574  0.50926815  0.05705031   \n",
      "S鼎盛里  0.99403884  0.90171785  0.16442192  0.00048791  0.00001792  0.00201201   \n",
      "S寶興里  0.00027435  0.00053439  0.04743689  1.00000000  0.49065693  0.78947313   \n",
      "S安康里  1.00000000  0.97379136  0.12217842  0.00027435  0.00000908  0.00119291   \n",
      "S灣勝里  0.00027435  0.00053439  0.04743689  1.00000000  0.49065693  0.78947313   \n",
      "S鼎西里  0.06411333  0.09462683  0.86817855  0.09347764  0.01237154  0.20418102   \n",
      "S鼎金里  0.04184453  0.06352620  0.72523366  0.13540292  0.02040958  0.27792059   \n",
      "S鼎中里  0.00468427  0.00804489  0.24790526  0.49017672  0.12827517  0.77917123   \n",
      "S正興里  0.00119291  0.00218483  0.11507311  0.78947313  0.27148371  1.00000000   \n",
      "S鼎力里  0.00710729  0.01194940  0.30916002  0.40716091  0.09710060  0.67489687   \n",
      "\n",
      "            S灣利里        S灣勝里        S鼎中里        S鼎力里        S鼎強里        S鼎泰里  \\\n",
      "S寶國里  0.00000049  0.00053439  0.00804489  0.01194940  0.08278454  0.00111779   \n",
      "S鼎強里  0.00124287  0.10651271  0.43244518  0.51807421  1.00000000  0.15985210   \n",
      "S鼎泰里  0.08836803  0.94721736  0.63088131  0.53561381  0.15985210  1.00000000   \n",
      "S寶珠里  0.00033178  0.04743689  0.24790526  0.30916002  0.81830232  0.07597453   \n",
      "S寶龍里  0.50926815  0.49065693  0.12827517  0.09710060  0.01474207  0.36843108   \n",
      "S灣利里  1.00000000  0.13486574  0.02029816  0.01398454  0.00124287  0.08836803   \n",
      "S鼎盛里  0.00000044  0.00048791  0.00747517  0.01113605  0.07845191  0.00102505   \n",
      "S寶興里  0.13486574  1.00000000  0.49017672  0.40716091  0.10651271  0.94721736   \n",
      "S安康里  0.00000020  0.00027435  0.00468427  0.00710729  0.05554984  0.00059215   \n",
      "S灣勝里  0.13486574  1.00000000  0.49017672  0.40716091  0.10651271  0.94721736   \n",
      "S鼎西里  0.00099902  0.09347764  0.39610150  0.47774146  0.93791752  0.14185013   \n",
      "S鼎金里  0.00186864  0.13540292  0.50701091  0.59975949  0.98419170  0.19898584   \n",
      "S鼎中里  0.02029816  0.49017672  1.00000000  0.99773711  0.43244518  0.63088131   \n",
      "S正興里  0.05705031  0.78947313  0.77917123  0.67489687  0.22771059  0.95432451   \n",
      "S鼎力里  0.01398454  0.40716091  0.99773711  1.00000000  0.51807421  0.53561381   \n",
      "\n",
      "            S鼎盛里        S鼎西里        S鼎金里  \n",
      "S寶國里  0.90171785  0.09462683  0.06352620  \n",
      "S鼎強里  0.07845191  0.93791752  0.98419170  \n",
      "S鼎泰里  0.00102505  0.14185013  0.19898584  \n",
      "S寶珠里  0.16442192  0.86817855  0.72523366  \n",
      "S寶龍里  0.00001792  0.01237154  0.02040958  \n",
      "S灣利里  0.00000044  0.00099902  0.00186864  \n",
      "S鼎盛里  1.00000000  0.08979461  0.06004711  \n",
      "S寶興里  0.00048791  0.09347764  0.13540292  \n",
      "S安康里  0.99403884  0.06411333  0.04184453  \n",
      "S灣勝里  0.00048791  0.09347764  0.13540292  \n",
      "S鼎西里  0.08979461  1.00000000  0.96499834  \n",
      "S鼎金里  0.06004711  0.96499834  1.00000000  \n",
      "S鼎中里  0.00747517  0.39610150  0.50701091  \n",
      "S正興里  0.00201201  0.20418102  0.27792059  \n",
      "S鼎力里  0.01113605  0.47774146  0.59975949  \n"
     ]
    }
   ],
   "source": [
    "import pandas as pd\n",
    "import numpy as np\n",
    "import scipy.stats as stats\n",
    "import os\n",
    "os.chdir('D:\\\\YAO\\\\DATA')\n",
    "cwd = os.getcwd()\n",
    "FileName = os.listdir()\n",
    "url = cwd+'\\\\'+FileName[0]\n",
    "file = open(url,encoding='big5')\n",
    "\n",
    "data_list = []\n",
    "for i in file.readlines():\n",
    "    data = i.strip()\n",
    "    data = data.split(',')\n",
    "    data_list.append(data)\n",
    "file.close()\n",
    "\n",
    "\n",
    "file_df = pd.DataFrame(data_list[1:],columns=data_list[0])\n",
    "print(file_df.head())\n",
    "\n",
    "file_ix = file_df.ix[:,'Li']\n",
    "file_Li_Set = set(file_ix)\n",
    "file_Li_Ls = list(file_Li_Set)\n",
    "\n",
    "\n",
    "#分析里\n",
    "SeroPos_Li_append = list()\n",
    "for i in file_Li_Ls:\n",
    "    filter_Li = i\n",
    "    filters = file_df.ix[:,'Li'] == filter_Li\n",
    "    file_df_filtered = file_df[filters]\n",
    "    #print(file_df_filtered)\n",
    "    file_Result_Ls = list(file_df_filtered.ix[:,'Result'])\n",
    "    \n",
    "    #找出區\n",
    "    ID_Code = list(file_df_filtered.ix[:,'ID'])[0][0]\n",
    "    SeroPos_Li = []\n",
    "    SeroPos_Li = [ID_Code+i,'%.2f'%(file_Result_Ls.count('Positive')*100/len(file_Result_Ls))]\n",
    "    SeroPos_Li_append.append(SeroPos_Li)\n",
    "    \n",
    "    #print(ID_Code,i)\n",
    "    #print('SeroPositive Rate:%.2f'%(file_Result_Ls.count('Positive')*100/len(file_Result_Ls)),\"%\")\n",
    "    #print()\n",
    "#print(SeroPos_Li_append)\n",
    "\n",
    "#分析里(統計檢定)\n",
    "SeroPos_Li_append_df = pd.DataFrame(SeroPos_Li_append)\n",
    "#print(SeroPos_Li_append_df)\n",
    "\n",
    "Dist_Code = list(set(SeroPos_Li_append_df.ix[:,0].str[0]))\n",
    "\n",
    "for k in range(len(Dist_Code)):\n",
    "    filter_Dist = SeroPos_Li_append_df.ix[:,0].str[0] == Dist_Code[k]\n",
    "    SeroPos_Li_append = SeroPos_Li_append_df[filter_Dist]\n",
    "    SeroPos_Li_append = pd.DataFrame(SeroPos_Li_append)\n",
    "    #print(SeroPos_Li_append)\n",
    "    \n",
    "    LiNames = []\n",
    "    Pss = []\n",
    "    for i in list(SeroPos_Li_append.index):\n",
    "        ps = []\n",
    "        for j in list(SeroPos_Li_append.index):\n",
    "            name1 = SeroPos_Li_append.ix[i,0]\n",
    "            name2 = SeroPos_Li_append.ix[j,0]\n",
    "            p1 =  SeroPos_Li_append.ix[i,1]\n",
    "            n1 = 100 - float(SeroPos_Li_append.ix[i,1])\n",
    "            p2 = SeroPos_Li_append.ix[j,1]\n",
    "            n2 = 100 - float(SeroPos_Li_append.ix[j,1])\n",
    "\n",
    "            ChiTwoTable = [[float(p1),float(n1)],[float(p2),float(n2)]]\n",
    "\n",
    "            chi2, p, df, expected =stats.chi2_contingency(ChiTwoTable)\n",
    "            #print('%s & %s p-value:%.6f'%(name1,name2,p))\n",
    "            ps.append('%.8f'%p)\n",
    "        LiNames.append(name1)\n",
    "        Pss.append(ps)\n",
    "    \n",
    "    Dicts = {}\n",
    "    for i in range(len(LiNames)):\n",
    "        dictionary = {LiNames[i]:Pss[i]}\n",
    "        Dicts.update(dictionary)\n",
    "    #print(Dicts)\n",
    "    pvalue_df = pd.DataFrame(Dicts,index=LiNames)\n",
    "    print(pvalue_df)\n",
    "    \n",
    "    os.chdir('D:\\\\YAO\\\\output')\n",
    "    pvalue_df.to_csv('--output--%s區各里之間p-value.csv'%Dist_Code[k], sep=',', encoding='big5')\n",
    "    \n",
    "#分不同區的男女\n",
    "\n"
   ]
  },
  {
   "cell_type": "code",
   "execution_count": null,
   "metadata": {
    "collapsed": false
   },
   "outputs": [],
   "source": []
  },
  {
   "cell_type": "code",
   "execution_count": 43,
   "metadata": {
    "collapsed": false
   },
   "outputs": [
    {
     "name": "stdout",
     "output_type": "stream",
     "text": [
      "D:\\YAO\\DATA\\(output)%s區統整.csv\n"
     ]
    },
    {
     "ename": "IndexError",
     "evalue": "list index out of range",
     "output_type": "error",
     "traceback": [
      "\u001b[0;31m---------------------------------------------------------------------------\u001b[0m",
      "\u001b[0;31mIndexError\u001b[0m                                Traceback (most recent call last)",
      "\u001b[0;32m<ipython-input-43-a27eb4b3e2a3>\u001b[0m in \u001b[0;36m<module>\u001b[0;34m()\u001b[0m\n\u001b[1;32m     18\u001b[0m \u001b[1;33m\u001b[0m\u001b[0m\n\u001b[1;32m     19\u001b[0m \u001b[1;33m\u001b[0m\u001b[0m\n\u001b[0;32m---> 20\u001b[0;31m \u001b[0mfile_df\u001b[0m \u001b[1;33m=\u001b[0m \u001b[0mpd\u001b[0m\u001b[1;33m.\u001b[0m\u001b[0mDataFrame\u001b[0m\u001b[1;33m(\u001b[0m\u001b[0mdata_list\u001b[0m\u001b[1;33m[\u001b[0m\u001b[1;36m1\u001b[0m\u001b[1;33m:\u001b[0m\u001b[1;33m]\u001b[0m\u001b[1;33m,\u001b[0m\u001b[0mcolumns\u001b[0m\u001b[1;33m=\u001b[0m\u001b[0mdata_list\u001b[0m\u001b[1;33m[\u001b[0m\u001b[1;36m0\u001b[0m\u001b[1;33m]\u001b[0m\u001b[1;33m)\u001b[0m\u001b[1;33m\u001b[0m\u001b[0m\n\u001b[0m\u001b[1;32m     21\u001b[0m \u001b[0mprint\u001b[0m\u001b[1;33m(\u001b[0m\u001b[0mfile_df\u001b[0m\u001b[1;33m.\u001b[0m\u001b[0mhead\u001b[0m\u001b[1;33m(\u001b[0m\u001b[1;33m)\u001b[0m\u001b[1;33m)\u001b[0m\u001b[1;33m\u001b[0m\u001b[0m\n",
      "\u001b[0;31mIndexError\u001b[0m: list index out of range"
     ]
    }
   ],
   "source": [
    "import pandas as pd\n",
    "import numpy as np\n",
    "import scipy.stats as stats\n",
    "import os\n",
    "os.chdir('D:\\\\YAO\\\\DATA')\n",
    "cwd = os.getcwd()\n",
    "FileName = os.listdir()\n",
    "url = cwd+'\\\\'+FileName[0]\n",
    "print(url)\n",
    "file = open(url,encoding='big5')\n",
    "\n",
    "data_list = []\n",
    "for i in file.readlines():\n",
    "    data = i.strip()\n",
    "    data = data.split(',')\n",
    "    data_list.append(data)\n",
    "file.close()\n",
    "\n",
    "\n",
    "file_df = pd.DataFrame(data_list[1:],columns=data_list[0])\n",
    "print(file_df.head())"
   ]
  },
  {
   "cell_type": "code",
   "execution_count": 26,
   "metadata": {
    "collapsed": false
   },
   "outputs": [
    {
     "data": {
      "text/plain": [
       "{'a': 1, 'b': 2}"
      ]
     },
     "execution_count": 26,
     "metadata": {},
     "output_type": "execute_result"
    }
   ],
   "source": [
    "a = {'a':1}\n",
    "b = {'b':2}\n",
    "a.update(b)\n",
    "a"
   ]
  },
  {
   "cell_type": "code",
   "execution_count": 50,
   "metadata": {
    "collapsed": true
   },
   "outputs": [],
   "source": [
    "f.close()"
   ]
  },
  {
   "cell_type": "code",
   "execution_count": null,
   "metadata": {
    "collapsed": true
   },
   "outputs": [],
   "source": []
  }
 ],
 "metadata": {
  "kernelspec": {
   "display_name": "Python 3",
   "language": "python",
   "name": "python3"
  },
  "language_info": {
   "codemirror_mode": {
    "name": "ipython",
    "version": 3
   },
   "file_extension": ".py",
   "mimetype": "text/x-python",
   "name": "python",
   "nbconvert_exporter": "python",
   "pygments_lexer": "ipython3",
   "version": "3.5.2"
  }
 },
 "nbformat": 4,
 "nbformat_minor": 1
}
