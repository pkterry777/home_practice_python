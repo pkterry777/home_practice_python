{
 "cells": [
  {
   "cell_type": "code",
   "execution_count": 1,
   "metadata": {
    "collapsed": true
   },
   "outputs": [],
   "source": [
    "#import 模組:\n",
    "\n",
    "\n",
    "import pandas as pd\n",
    "import numpy as np\n",
    "import scipy.stats as stats\n",
    "import os\n",
    "import matplotlib.pyplot as plt\n",
    "\n",
    "#設定字體為標楷體'DFKai-sb':\n",
    "from pylab import *\n",
    " \n",
    "mpl.rcParams['font.sans-serif'] = ['DFKai-sb']"
   ]
  },
  {
   "cell_type": "code",
   "execution_count": 23,
   "metadata": {
    "collapsed": false
   },
   "outputs": [
    {
     "name": "stdout",
     "output_type": "stream",
     "text": [
      "請輸入檔案所在位置(已更改就不用輸入):H:\\實驗室資料\\DATA\\登革熱死亡_出血熱\\高雄\\高雄\n",
      "請輸入檔案名稱(不包括副檔名):高雄出血熱個案_2014\n",
      "是否列印DATAFRAME(y/n)：y\n",
      "csv資料前10項：\n",
      "  居住縣市 居住鄉鎮 居住村里 發病年齡(足歲) 性別 發病日期(西元-yyyymmdd)           確定病名 是否死亡\n",
      "0  高雄市  鳳山區  福誠里       44  男         2014/6/21  登革出血熱/登革休克症候群    否\n",
      "1  高雄市  小港區  正苓里       72  男          2014/7/2  登革出血熱/登革休克症候群    否\n",
      "2  高雄市  前鎮區  明義里       29  女         2014/7/21  登革出血熱/登革休克症候群    否\n",
      "3  高雄市  小港區  合作里       66  女         2014/7/22  登革出血熱/登革休克症候群    否\n",
      "4  高雄市  三民區  安康里       67  男         2014/7/25  登革出血熱/登革休克症候群    否\n",
      "5  高雄市  苓雅區  福隆里       78  男         2014/7/27  登革出血熱/登革休克症候群    否\n",
      "6  高雄市  苓雅區  民主里       77  女          2014/8/1  登革出血熱/登革休克症候群    否\n",
      "7  高雄市  苓雅區  福人里       85  男          2014/8/3  登革出血熱/登革休克症候群    否\n",
      "8  高雄市  新興區  開平里       79  女          2014/8/7  登革出血熱/登革休克症候群    否\n",
      "9  高雄市  三民區  安寧里       73  女          2014/8/8  登革出血熱/登革休克症候群    否\n",
      "----------------\n"
     ]
    }
   ],
   "source": [
    "#讀取資料，建立dataframe\n",
    "file_url = input('請輸入檔案所在位置(已更改就不用輸入):')\n",
    "if len(file_url)>=2:\n",
    "    os.chdir(file_url)\n",
    "else:\n",
    "    xxx=0\n",
    "file_name=input('請輸入檔案名稱(不包括副檔名):')\n",
    "file = open('%s.csv'%file_name)\n",
    "\n",
    "data_list = []\n",
    "for i in file.readlines():\n",
    "    data = i.strip()\n",
    "    data = data.split(',')\n",
    "    data_list.append(data)\n",
    "file.close()\n",
    "\n",
    "\n",
    "file_df = pd.DataFrame(data_list[1:],columns=data_list[0])\n",
    "\n",
    "condiction = input('是否列印DATAFRAME(y/n)：')\n",
    "if condiction == 'y':\n",
    "    print('csv資料前10項：')\n",
    "    print(file_df.head(10))\n",
    "    print('----------------')\n",
    "    "
   ]
  },
  {
   "cell_type": "code",
   "execution_count": 27,
   "metadata": {
    "collapsed": false
   },
   "outputs": [
    {
     "name": "stdout",
     "output_type": "stream",
     "text": [
      "請輸入檔案所在位置(已更改就不用輸入):H:\\實驗室資料\\DATA\n",
      "請輸入檔案名稱(不包括副檔名):103年高雄市各里發生率\n",
      "是否列印DATAFRAME(y/n)：y\n",
      "csv資料前10項：\n",
      "  縣市名稱 鄉鎮市區名稱 村里名稱   人口數           面積         人口密度       103發生率\n",
      "0  高雄市    三民區  力行里  1315   44213.9934  297.4171521  0.016730038\n",
      "1  高雄市    三民區  十全里  1810  185649.9385  97.49531913  0.006077348\n",
      "2  高雄市    三民區  十美里  2192   88980.8464  246.3451505  0.011861314\n",
      "3  高雄市    三民區  千北里  1308   78482.2721  166.6618416  0.009174312\n",
      "4  高雄市    三民區  千秋里  2415  112930.7233  213.8479175  0.016149068\n",
      "5  高雄市    三民區  千歲里  1324   41997.1369  315.2595862  0.015861027\n",
      "6  高雄市    三民區  川東里  1498  368379.5862  40.66457687  0.009345794\n",
      "7  高雄市    三民區  本上里  6053  287243.2323  210.7273321  0.004625805\n",
      "8  高雄市    三民區  本元里  6617  197980.3363  334.2251116  0.019646365\n",
      "9  高雄市    三民區  本文里  2409   90173.8559  267.1506032   0.03943545\n",
      "----------------\n"
     ]
    }
   ],
   "source": [
    "file_url = input('請輸入檔案所在位置(已更改就不用輸入):')\n",
    "if len(file_url)>=2:\n",
    "    os.chdir(file_url)\n",
    "else:\n",
    "    xxx=0\n",
    "file_name=input('請輸入檔案名稱(不包括副檔名):')\n",
    "file = open('%s.csv'%file_name)\n",
    "\n",
    "data_list = []\n",
    "for i in file.readlines():\n",
    "    data = i.strip()\n",
    "    data = data.split(',')\n",
    "    data_list.append(data)\n",
    "file.close()\n",
    "\n",
    "\n",
    "incidence_df = pd.DataFrame(data_list[1:],columns=data_list[0])\n",
    "\n",
    "condiction = input('是否列印DATAFRAME(y/n)：')\n",
    "if condiction == 'y':\n",
    "    print('csv資料前10項：')\n",
    "    print(incidence_df.head(10))\n",
    "    print('----------------')"
   ]
  },
  {
   "cell_type": "code",
   "execution_count": 29,
   "metadata": {
    "collapsed": false
   },
   "outputs": [
    {
     "data": {
      "text/plain": [
       "0       True\n",
       "1      False\n",
       "2      False\n",
       "3      False\n",
       "4      False\n",
       "5      False\n",
       "6      False\n",
       "7      False\n",
       "8      False\n",
       "9      False\n",
       "10     False\n",
       "11     False\n",
       "12     False\n",
       "13     False\n",
       "14     False\n",
       "15     False\n",
       "16     False\n",
       "17     False\n",
       "18     False\n",
       "19     False\n",
       "20     False\n",
       "21     False\n",
       "22     False\n",
       "23     False\n",
       "24     False\n",
       "25     False\n",
       "26     False\n",
       "27     False\n",
       "28     False\n",
       "29     False\n",
       "       ...  \n",
       "262    False\n",
       "263    False\n",
       "264    False\n",
       "265    False\n",
       "266    False\n",
       "267    False\n",
       "268    False\n",
       "269    False\n",
       "270    False\n",
       "271    False\n",
       "272    False\n",
       "273    False\n",
       "274    False\n",
       "275    False\n",
       "276    False\n",
       "277    False\n",
       "278    False\n",
       "279    False\n",
       "280    False\n",
       "281    False\n",
       "282    False\n",
       "283    False\n",
       "284    False\n",
       "285    False\n",
       "286    False\n",
       "287    False\n",
       "288    False\n",
       "289    False\n",
       "290    False\n",
       "291    False\n",
       "Name: 村里名稱, dtype: bool"
      ]
     },
     "execution_count": 29,
     "metadata": {},
     "output_type": "execute_result"
    }
   ],
   "source": [
    "incidence_df.ix[:,1]=='力行里'"
   ]
  },
  {
   "cell_type": "code",
   "execution_count": 24,
   "metadata": {
    "collapsed": false
   },
   "outputs": [],
   "source": [
    "def Filter(col,name):\n",
    "    #col=eval(input(要過濾第幾行：))\n",
    "    #name=input(要取出的名稱：)\n",
    "    return file_df.ix[:,col] == name\n",
    "    "
   ]
  },
  {
   "cell_type": "code",
   "execution_count": 25,
   "metadata": {
    "collapsed": false
   },
   "outputs": [
    {
     "name": "stdout",
     "output_type": "stream",
     "text": [
      "區別,個案數\n",
      "鼓山區,2\n",
      "大寮區,2\n",
      "前金區,2\n",
      "路竹區,1\n",
      "鹽埕區,2\n",
      "橋頭區,1\n",
      "苓雅區,13\n",
      "新興區,9\n",
      "前鎮區,19\n",
      "仁武區,2\n",
      "三民區,50\n",
      "小港區,10\n",
      "鳳山區,17\n",
      "林園區,1\n",
      "左營區,1\n"
     ]
    }
   ],
   "source": [
    "#算全年個案數：\n",
    "dist_v = file_df.ix[:,1]\n",
    "dist = list(set(file_df.ix[:,1]))\n",
    "print(\"區別,個案數\")\n",
    "for i in dist:\n",
    "    print(i,sum(dist_v == i),sep=\",\")"
   ]
  },
  {
   "cell_type": "code",
   "execution_count": 43,
   "metadata": {
    "collapsed": false
   },
   "outputs": [
    {
     "name": "stdout",
     "output_type": "stream",
     "text": [
      "三民區里別,個案數 103年發生率\n",
      "鼎金里,1,0.018033868\n",
      "千秋里,2,0.016149068\n",
      "德行里,1,0.011389522\n",
      "灣復里,1,0.020052519\n",
      "正順里,2,0.017248814\n",
      "寶龍里,1,0.012209302\n",
      "本館里,2,0.015863206\n",
      "灣勝里,1,0.024623803\n",
      "裕民里,1,0.019505852\n",
      "安康里,1,0.005991441\n",
      "寶慶里,1,0.008451554\n",
      "安泰里,1,0.017853207\n",
      "德智里,3,0.020310192\n",
      "鼎中里,3,0.015388628\n",
      "寶興里,1,0.004914005\n",
      "安吉里,1,0.009027778\n",
      "長明里,2,0.012403101\n",
      "安寧里,1,0.009790832\n",
      "本文里,3,0.03943545\n",
      "寶玉里,1,0.009492445\n",
      "灣中里,1,0.013293453\n",
      "寶獅里,1,0.013095238\n",
      "立德里,1,0.013254786\n",
      "寶盛里,1,0.013756614\n",
      "鼎盛里,1,0.00829357\n",
      "鼎力里,2,0.012838148\n",
      "同德里,2,0.026793964\n",
      "本元里,4,0.019646365\n",
      "興德里,2,0.018054162\n",
      "灣華里,1,0.012777404\n",
      "精華里,1,0.00933553\n",
      "鼎強里,1,0.00927392\n",
      "寶泰里,1,0.009345794\n",
      "安發里,1,0.008700381\n",
      "前鎮區里別,個案數 103年發生率\n",
      "瑞祥里,3,0.011026557\n",
      "瑞北里,1,0.008457276\n",
      "復國里,2,0.023968447\n",
      "平等里,2,0.010673783\n",
      "明道里,1,0.029061103\n",
      "平昌里,1,0.024242424\n",
      "忠純里,2,0.013413343\n",
      "明義里,1,0.013818182\n",
      "信德里,1,0.004262877\n",
      "瑞昌里,1,0.020128599\n",
      "盛豐里,1,0.019673123\n",
      "瑞西里,1,0.014355628\n",
      "瑞平里,1,0.010792099\n",
      "瑞文里,1,0.015320334\n",
      "苓雅區里別,個案數 103年發生率\n",
      "福人里,3,0.032136895\n",
      "普天里,1,0.00979095\n",
      "福東里,2,0.01408\n",
      "民主里,1,0.008853575\n",
      "福隆里,1,0.020019691\n",
      "奏捷里,1,0.005928854\n",
      "正道里,1,0.007287112\n",
      "尚義里,1,0.01414856\n",
      "苓昇里,1,0.00862069\n",
      "林南里,1,0.004960836\n",
      "鳳山區里別,個案數 103年發生率\n",
      "新樂里,1,0.00747105\n",
      "南成里,2,0.012021121\n",
      "善美里,1,0.008604207\n",
      "和德里,1,0.00181686\n",
      "新富里,1,0.008466234\n",
      "武慶里,1,0.023264137\n",
      "忠義里,1,0.007757665\n",
      "福誠里,1,0.012455934\n",
      "五福里,1,0.011116993\n",
      "南和里,3,0.00809838\n",
      "保安里,1,0.004282\n",
      "一甲里,1,0.015247776\n",
      "埤頂里,2,0.010690674\n"
     ]
    }
   ],
   "source": [
    "iter_dist = ['三民區','前鎮區','苓雅區','鳳山區']\n",
    "for j in iter_dist:\n",
    "    file_filtered = file_df[Filter(1,j)]\n",
    "    incidence_df_filtered = incidence_df[incidence_df.ix[:,1]==j]\n",
    "    li_v = file_filtered.ix[:,2]\n",
    "    li = list(set(file_filtered.ix[:,2]))\n",
    "    print('%s里別,個案數'%j,'103年發生率')\n",
    "    for i in li:\n",
    "        print(i,sum(li_v == i),sep=\",\",end=',')\n",
    "        incidence_df_filtered2 = incidence_df_filtered[incidence_df_filtered.ix[:,2]==i]\n",
    "        print(list(incidence_df_filtered2.ix[:,6])[0])\n"
   ]
  },
  {
   "cell_type": "code",
   "execution_count": 41,
   "metadata": {
    "collapsed": false
   },
   "outputs": [
    {
     "data": {
      "text/plain": [
       "['0.018033868']"
      ]
     },
     "execution_count": 41,
     "metadata": {},
     "output_type": "execute_result"
    }
   ],
   "source": [
    "list(incidence_df_filtered2.ix[:,6])"
   ]
  },
  {
   "cell_type": "code",
   "execution_count": 30,
   "metadata": {
    "collapsed": false
   },
   "outputs": [
    {
     "name": "stdout",
     "output_type": "stream",
     "text": [
      "請輸入檔案所在位置(已更改就不用輸入):\n",
      "請輸入檔案名稱(不包括副檔名):高雄市四區的資料\n",
      "是否列印DATAFRAME(y/n)：y\n",
      "csv資料前10項：\n",
      "    縣市名稱 鄉鎮市區名稱 村里名稱    鄉鎮市區代碼 村里代碼    人口數           面積         人口密度\n",
      "0    高雄市    三民區  力行里  64000050   84   1315   44213.9934  297.4171521\n",
      "1    高雄市    三民區  十全里  64000050   63   1810  185649.9385  97.49531913\n",
      "2    高雄市    三民區  十美里  64000050   64   2192   88980.8464  246.3451505\n",
      "3    高雄市    三民區  千北里  64000050   87   1308   78482.2721  166.6618416\n",
      "4    高雄市    三民區  千秋里  64000050   88   2415  112930.7233  213.8479175\n",
      "5    高雄市    三民區  千歲里  64000050   85   1324   41997.1369  315.2595862\n",
      "6    高雄市    三民區  川東里  64000050   82   1498  368379.5862  40.66457687\n",
      "7    高雄市    三民區  本上里  64000050   14   6053  287243.2323  210.7273321\n",
      "8    高雄市    三民區  本元里  64000050   12   6617  197980.3363  334.2251116\n",
      "9    高雄市    三民區  本文里  64000050   10   2409   90173.8559  267.1506032\n",
      "10   高雄市    三民區  本安里  64000050   13   5892  244805.8956  240.6804781\n",
      "11   高雄市    三民區  本和里  64000050    9   8210  354802.7842  231.3961549\n",
      "12   高雄市    三民區  本武里  64000050   11   2134   94564.3786  225.6663695\n",
      "13   高雄市    三民區  本揚里  64000050   15   9339  282588.8504  330.4801299\n",
      "14   高雄市    三民區  本館里  64000050    8   9708  338418.0548  286.8641274\n",
      "15   高雄市    三民區  正順里  64000050   39   4638   93774.7603  494.5893741\n",
      "16   高雄市    三民區  正興里  64000050   38  14357  278703.6251   515.135029\n",
      "17   高雄市    三民區  民享里  64000050   59   2406   95890.1478  250.9121172\n",
      "18   高雄市    三民區  立業里  64000050   67   1168    65537.207  178.2193739\n",
      "19   高雄市    三民區  立誠里  64000050   66    886   43123.7013  205.4554626\n",
      "20   高雄市    三民區  立德里  64000050   86   1358   117322.788  115.7490393\n",
      "21   高雄市    三民區  同德里  64000050   52   3247  172810.6608  187.8935006\n",
      "22   高雄市    三民區  安生里  64000050   55   1743  258178.0769  67.51154168\n",
      "23   高雄市    三民區  安吉里  64000050   44   5760  223553.1596   257.656837\n",
      "24   高雄市    三民區  安邦里  64000050   62   4533  303507.2346  149.3539357\n",
      "25   高雄市    三民區  安和里  64000050   47   2992  196954.9265  151.9129302\n",
      "26   高雄市    三民區  安宜里  64000050   60   3753  273412.5378  137.2651024\n",
      "27   高雄市    三民區  安東里  64000050   46   3496  289042.6506  120.9510082\n",
      "28   高雄市    三民區  安泰里  64000050   61   4537  184472.2781  245.9448133\n",
      "29   高雄市    三民區  安康里  64000050   42   3505   51101.1304  685.8948075\n",
      "..   ...    ...  ...       ...  ...    ...          ...          ...\n",
      "262  高雄市    鳳山區  善美里  64000120   75   6276  191898.0519  327.0486562\n",
      "263  高雄市    鳳山區  新甲里  64000120   25   3574  130599.7194  273.6606186\n",
      "264  高雄市    鳳山區  新武里  64000120   66   2676  119999.9329  223.0001247\n",
      "265  高雄市    鳳山區  新泰里  64000120   68   5021   95178.5619   527.534762\n",
      "266  高雄市    鳳山區  新強里  64000120   33   6393  967553.2596   66.0738821\n",
      "267  高雄市    鳳山區  新富里  64000120   36   5079  130264.1454  389.9000745\n",
      "268  高雄市    鳳山區  新樂里  64000120   67   5354  101724.7764  526.3221203\n",
      "269  高雄市    鳳山區  新興里  64000120   21   2664  151999.8154  175.2633707\n",
      "270  高雄市    鳳山區  瑞竹里  64000120   18   6218  296551.9373  209.6765935\n",
      "271  高雄市    鳳山區  瑞興里  64000120   31   5920  211025.0075  280.5354716\n",
      "272  高雄市    鳳山區  誠正里  64000120   52    493  1454247.339   3.39006981\n",
      "273  高雄市    鳳山區  誠信里  64000120   61   2466   58102.0941   424.425322\n",
      "274  高雄市    鳳山區  誠智里  64000120   62   3206  131026.1031  244.6840686\n",
      "275  高雄市    鳳山區  誠義里  64000120   20   4060  820471.3275  49.48375237\n",
      "276  高雄市    鳳山區  誠德里  64000120   50   2725  136276.2085  199.9615362\n",
      "277  高雄市    鳳山區  過埤里  64000120   40  12568  4812099.962  26.11749569\n",
      "278  高雄市    鳳山區  福祥里  64000120   77   3380  159390.9194  212.0572497\n",
      "279  高雄市    鳳山區  福誠里  64000120   49   4255  258988.6937  164.2928863\n",
      "280  高雄市    鳳山區  福興里  64000120   29   7154  278228.2506  257.1270166\n",
      "281  高雄市    鳳山區  鳳東里  64000120   35   6950  454798.0738  152.8150711\n",
      "282  高雄市    鳳山區  鳳崗里  64000120    7   1409   76577.0006  183.9978047\n",
      "283  高雄市    鳳山區  縣口里  64000120    1    528   35974.1319   146.772131\n",
      "284  高雄市    鳳山區  縣衙里  64000120   10   1059   58241.7863  181.8282143\n",
      "285  高雄市    鳳山區  興中里  64000120    4   1042  188524.8788  55.27121973\n",
      "286  高雄市    鳳山區  興仁里  64000120   42   4810  177471.3089  271.0297247\n",
      "287  高雄市    鳳山區  龍成里  64000120   73   3288  124055.4286  265.0428149\n",
      "288  高雄市    鳳山區  鎮北里  64000120    9   6741  927390.1389  72.68785506\n",
      "289  高雄市    鳳山區  鎮西里  64000120   12   6117  256303.8425  238.6620482\n",
      "290  高雄市    鳳山區  鎮東里  64000120   13   2627  138790.7267  189.2777754\n",
      "291  高雄市    鳳山區  鎮南里  64000120   16   5521  216192.8578  255.3738387\n",
      "\n",
      "[292 rows x 8 columns]\n",
      "----------------\n"
     ]
    }
   ],
   "source": [
    "#各里發生率\n",
    "#讀取里資料，建立dataframe\n",
    "file_url = input('請輸入檔案所在位置(已更改就不用輸入):')\n",
    "if len(file_url)>=2:\n",
    "    os.chdir(file_url)\n",
    "else:\n",
    "    xxx=0\n",
    "file_name=input('請輸入檔案名稱(不包括副檔名):')\n",
    "file = open('%s.csv'%file_name)\n",
    "\n",
    "data_list = []\n",
    "for i in file.readlines():\n",
    "    data = i.strip()\n",
    "    data = data.split(',')\n",
    "    data_list.append(data)\n",
    "file.close()\n",
    "\n",
    "\n",
    "li_den = pd.DataFrame(data_list[1:],columns=data_list[0])\n",
    "\n",
    "condiction = input('是否列印DATAFRAME(y/n)：')\n",
    "if condiction == 'y':\n",
    "    print('csv資料前10項：')\n",
    "    print(li_den)\n",
    "    print('----------------')\n",
    "    "
   ]
  },
  {
   "cell_type": "code",
   "execution_count": 22,
   "metadata": {
    "collapsed": false
   },
   "outputs": [
    {
     "ename": "NameError",
     "evalue": "name 'li_den' is not defined",
     "output_type": "error",
     "traceback": [
      "\u001b[0;31m---------------------------------------------------------------------------\u001b[0m",
      "\u001b[0;31mNameError\u001b[0m                                 Traceback (most recent call last)",
      "\u001b[0;32m<ipython-input-22-cf3b809f2272>\u001b[0m in \u001b[0;36m<module>\u001b[0;34m()\u001b[0m\n\u001b[0;32m----> 1\u001b[0;31m \u001b[0mli_den\u001b[0m\u001b[1;33m.\u001b[0m\u001b[0msort\u001b[0m\u001b[1;33m(\u001b[0m\u001b[1;33m[\u001b[0m\u001b[1;34m'鄉鎮市區名稱'\u001b[0m\u001b[1;33m]\u001b[0m\u001b[1;33m,\u001b[0m \u001b[0mascending\u001b[0m\u001b[1;33m=\u001b[0m\u001b[1;33m[\u001b[0m\u001b[1;36m0\u001b[0m\u001b[1;33m]\u001b[0m\u001b[1;33m)\u001b[0m\u001b[1;33m.\u001b[0m\u001b[0mto_csv\u001b[0m\u001b[1;33m(\u001b[0m\u001b[1;34m'test3.csv'\u001b[0m\u001b[1;33m)\u001b[0m\u001b[1;33m\u001b[0m\u001b[0m\n\u001b[0m",
      "\u001b[0;31mNameError\u001b[0m: name 'li_den' is not defined"
     ]
    }
   ],
   "source": [
    "li_den.sort(['鄉鎮市區名稱'], ascending=[0])"
   ]
  },
  {
   "cell_type": "code",
   "execution_count": 2,
   "metadata": {
    "collapsed": false
   },
   "outputs": [
    {
     "name": "stdout",
     "output_type": "stream",
     "text": [
      "請輸入檔案所在位置(已更改就不用輸入):D:\\YAO\\DATA\\YearlyDengue\n",
      "請輸入檔案名稱(不包括副檔名):103登革熱確診個案一覽\n",
      "是否列印DATAFRAME(y/n)：y\n",
      "csv資料前10項：\n",
      "          編號 發病週別 性別  年齡  區別  里別\n",
      "0          1    3  男  54  鳳山  老爺\n",
      "1          2   21  男  46  前鎮  草衙\n",
      "2          3   21  女  37  小港  港后\n",
      "3          4   22  男  53  前鎮  明孝\n",
      "4          5   21  男  35  前鎮  明孝\n",
      "5          6   21  女  60  前鎮  草衙\n",
      "6          7   22  女  39  林園  廣應\n",
      "7          8   22  女  33  旗津  中興\n",
      "8          9   23  男  36  前鎮  明孝\n",
      "9         10   22  男  40  前鎮  草衙\n",
      "10        11   21  男  21  前鎮  明孝\n",
      "11        12   22  男  49  前鎮  明孝\n",
      "12        13   20  男  53  前鎮  明孝\n",
      "13        14   20  男  55  前鎮  明孝\n",
      "14        15   23  男  37  鳳山  新武\n",
      "15        16   23  男  61  前鎮  德昌\n",
      "16        17   24  女  24  鳳山  龍成\n",
      "17        18   24  女  38  小港  港后\n",
      "18        19   24  女  57  小港  小港\n",
      "19        20   23  女  68  小港  港后\n",
      "20        21   24  女  69  前鎮  德昌\n",
      "21        22   24  女  79  前鎮  德昌\n",
      "22        23   24  女  62  前鎮  德昌\n",
      "23        24   24  男  68  前鎮  德昌\n",
      "24        25   24  女  31  前鎮  德昌\n",
      "25        26   23  男  74  前鎮  德昌\n",
      "26        27   24  女  64  小港  港后\n",
      "27        28   24  女  67  小港  港后\n",
      "28        29   24  女  49  前鎮  草衙\n",
      "29        30   24  男  21  林園  港埔\n",
      "...      ...  ... ..  ..  ..  ..\n",
      "14969  14970   52  女  55  三民  寶國\n",
      "14970  14971   53  男  21  仁武  灣內\n",
      "14971  14972   53  男  19  三民  鼎金\n",
      "14972  14973   46  女  56  三民  鼎中\n",
      "14973  14974   52  男  62  三民  寶德\n",
      "14974  14975   52  女  59  鳳山  文德\n",
      "14975  14976   53  男  47  鼓山  樹德\n",
      "14976  14977   53  男  35  左營  崇實\n",
      "14977  14978   53  女  50  新興  德望\n",
      "14978  14979   53  男  35  三民  灣成\n",
      "14979  14980   53  女  47  楠梓  金田\n",
      "14980  14981   52  女  26  三民  寶龍\n",
      "14981  14982   53  男  60  鳳山  海光\n",
      "14982  14983   52  男  51  三民  港東\n",
      "14983  14984   52  男  23  苓雅  苓東\n",
      "14984  14985   52  男  52  苓雅  衛武\n",
      "14985  14986   53  男  23  苓雅  正義\n",
      "14986  14987   52  男  42  鳳山  瑞興\n",
      "14987  14988   53  女  73  岡山  後紅\n",
      "14988  14989   53  男  17  楠梓  清豐\n",
      "14989  14990   53  男  30  楠梓  惠楠\n",
      "14990  14991   53  女  60  鼓山  華豐\n",
      "14991  14992   53  女   8  大寮  後庄\n",
      "14992  14993   53  女  35  旗津  上竹\n",
      "14993  14994   53  男  45  三民  寶德\n",
      "14994  14995   53  男  45  前鎮  明正\n",
      "14995  14996   53  女  59  前鎮  忠誠\n",
      "14996  14997   53  男  39  左營  果惠\n",
      "14997  14998   53  女  37  大寮  過溪\n",
      "14998  14999   53  女  65  前鎮  竹西\n",
      "\n",
      "[14999 rows x 6 columns]\n",
      "----------------\n"
     ]
    }
   ],
   "source": [
    "#各里發生率\n",
    "#讀取發生資料，建立dataframe\n",
    "file_url = input('請輸入檔案所在位置(已更改就不用輸入):')\n",
    "if len(file_url)>=2:\n",
    "    os.chdir(file_url)\n",
    "else:\n",
    "    xxx=0\n",
    "file_name=input('請輸入檔案名稱(不包括副檔名):')\n",
    "file = open('%s.csv'%file_name)\n",
    "\n",
    "data_list = []\n",
    "for i in file.readlines():\n",
    "    data = i.strip()\n",
    "    data = data.split(',')\n",
    "    data_list.append(data)\n",
    "file.close()\n",
    "\n",
    "\n",
    "data = pd.DataFrame(data_list[1:],columns=data_list[0])\n",
    "\n",
    "condiction = input('是否列印DATAFRAME(y/n)：')\n",
    "if condiction == 'y':\n",
    "    print('csv資料前10項：')\n",
    "    print(data)\n",
    "    print('----------------')"
   ]
  },
  {
   "cell_type": "code",
   "execution_count": 14,
   "metadata": {
    "collapsed": false
   },
   "outputs": [],
   "source": [
    "iter_dist = ['三民','前鎮','苓雅','鳳山']\n",
    "data_dict = dict()\n",
    "區別 = []\n",
    "里別 = []\n",
    "個案數 = []\n",
    "for i in iter_dist:\n",
    "    data_dist = data[data.ix[:,4]==i]\n",
    "    li = list(set(data_dist.ix[:,5]))\n",
    "    for j in li:\n",
    "        summation = sum(data_dist.ix[:,5]==j)\n",
    "        區別.append(i)\n",
    "        里別.append(j)\n",
    "        個案數.append(summation)\n",
    "data_dict['區別'] = 區別\n",
    "data_dict['里別'] = 里別\n",
    "data_dict['個案數'] = 個案數\n"
   ]
  },
  {
   "cell_type": "code",
   "execution_count": 17,
   "metadata": {
    "collapsed": false
   },
   "outputs": [],
   "source": [
    "data_df = pd.DataFrame(data_dict)\n",
    "data_df.sort(['里別'], ascending=[0])"
   ]
  },
  {
   "cell_type": "code",
   "execution_count": 20,
   "metadata": {
    "collapsed": false
   },
   "outputs": [
    {
     "ename": "TypeError",
     "evalue": "writable() takes no arguments (1 given)",
     "output_type": "error",
     "traceback": [
      "\u001b[0;31m---------------------------------------------------------------------------\u001b[0m",
      "\u001b[0;31mTypeError\u001b[0m                                 Traceback (most recent call last)",
      "\u001b[0;32m<ipython-input-20-fcc595c47247>\u001b[0m in \u001b[0;36m<module>\u001b[0;34m()\u001b[0m\n\u001b[1;32m      1\u001b[0m \u001b[0mfile\u001b[0m \u001b[1;33m=\u001b[0m \u001b[0mopen\u001b[0m\u001b[1;33m(\u001b[0m\u001b[1;34m'test.csv'\u001b[0m\u001b[1;33m,\u001b[0m\u001b[1;34m'w'\u001b[0m\u001b[1;33m,\u001b[0m\u001b[0mencoding\u001b[0m\u001b[1;33m=\u001b[0m\u001b[1;34m'big5'\u001b[0m\u001b[1;33m)\u001b[0m\u001b[1;33m\u001b[0m\u001b[0m\n\u001b[0;32m----> 2\u001b[0;31m \u001b[0mfile\u001b[0m\u001b[1;33m.\u001b[0m\u001b[0mwritable\u001b[0m\u001b[1;33m(\u001b[0m\u001b[0mpd\u001b[0m\u001b[1;33m.\u001b[0m\u001b[0mDataFrame\u001b[0m\u001b[1;33m(\u001b[0m\u001b[0mdata_dict\u001b[0m\u001b[1;33m)\u001b[0m\u001b[1;33m)\u001b[0m\u001b[1;33m\u001b[0m\u001b[0m\n\u001b[0m\u001b[1;32m      3\u001b[0m \u001b[0mfile\u001b[0m\u001b[1;33m.\u001b[0m\u001b[0mclose\u001b[0m\u001b[1;33m(\u001b[0m\u001b[1;33m)\u001b[0m\u001b[1;33m\u001b[0m\u001b[0m\n\u001b[1;32m      4\u001b[0m \u001b[0mpd\u001b[0m\u001b[1;33m.\u001b[0m\u001b[0mDataFrame\u001b[0m\u001b[1;33m(\u001b[0m\u001b[0mdata_dict\u001b[0m\u001b[1;33m)\u001b[0m\u001b[1;33m\u001b[0m\u001b[0m\n",
      "\u001b[0;31mTypeError\u001b[0m: writable() takes no arguments (1 given)"
     ]
    }
   ],
   "source": [
    "pd.DataFrame(data_dict)"
   ]
  },
  {
   "cell_type": "code",
   "execution_count": 21,
   "metadata": {
    "collapsed": true
   },
   "outputs": [],
   "source": [
    "data_df.to_csv('test2.csv')\n"
   ]
  },
  {
   "cell_type": "code",
   "execution_count": null,
   "metadata": {
    "collapsed": true
   },
   "outputs": [],
   "source": []
  }
 ],
 "metadata": {
  "kernelspec": {
   "display_name": "Python 3",
   "language": "python",
   "name": "python3"
  },
  "language_info": {
   "codemirror_mode": {
    "name": "ipython",
    "version": 3
   },
   "file_extension": ".py",
   "mimetype": "text/x-python",
   "name": "python",
   "nbconvert_exporter": "python",
   "pygments_lexer": "ipython3",
   "version": "3.6.0"
  }
 },
 "nbformat": 4,
 "nbformat_minor": 2
}
