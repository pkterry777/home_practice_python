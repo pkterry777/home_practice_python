{
 "cells": [
  {
   "cell_type": "code",
   "execution_count": 2,
   "metadata": {
    "collapsed": false
   },
   "outputs": [],
   "source": [
    "import types\n"
   ]
  },
  {
   "cell_type": "code",
   "execution_count": 58,
   "metadata": {
    "collapsed": false
   },
   "outputs": [],
   "source": [
    "class A:\n",
    "    \n",
    "    def __init__(self,ID,Age,Dist,Result):\n",
    "        self.ID = ID\n",
    "        self.age = Age\n",
    "        self.dist = Dist\n",
    "        self.result = Result\n",
    "    "
   ]
  },
  {
   "cell_type": "code",
   "execution_count": 16,
   "metadata": {
    "collapsed": true
   },
   "outputs": [],
   "source": [
    "ID = ['A','B','C','D']\n",
    "Age = [20,30,40,15]\n",
    "Dist = ['L','L','S','S']\n",
    "Result = ['P','N','N','N']"
   ]
  },
  {
   "cell_type": "code",
   "execution_count": 19,
   "metadata": {
    "collapsed": false
   },
   "outputs": [
    {
     "data": {
      "text/plain": [
       "[<__main__.A at 0x527bbe0>,\n",
       " <__main__.A at 0x527b0f0>,\n",
       " <__main__.A at 0x527b128>,\n",
       " <__main__.A at 0x527b160>]"
      ]
     },
     "execution_count": 19,
     "metadata": {},
     "output_type": "execute_result"
    }
   ],
   "source": [
    "classls = []\n",
    "for i in range(len(ID)):\n",
    "    classls.append(A(ID[i],Age[i],Dist[i],Result[i]))\n",
    "classls"
   ]
  },
  {
   "cell_type": "code",
   "execution_count": 83,
   "metadata": {
    "collapsed": false
   },
   "outputs": [],
   "source": [
    "#過濾一個:\n",
    "def filter_count(Class_Ls,Age=[0,200],Dist=0,Result=0):\n",
    "    answers = []\n",
    "    for i in Class_Ls:\n",
    "    \n",
    "        if Age[0]<=i.age<=Age[1]:\n",
    "            age_x = 1\n",
    "        else:\n",
    "            age_x = 0\n",
    "        \n",
    "        if i.dist == Dist:\n",
    "            dist_x = 1\n",
    "        elif i.dist != Dist:\n",
    "            dist_x = 0\n",
    "        if Dist == 0:\n",
    "            dist_x = 1\n",
    "        \n",
    "        if i.result == Result:\n",
    "            result_x = 1\n",
    "        elif i.result != Result:\n",
    "            result_x = 0\n",
    "        if Result == 0:\n",
    "            result_x = 1  \n",
    "        \n",
    "        ans = age_x * dist_x * result_x \n",
    "        answers.append(ans)\n",
    "    print(sum(answers))"
   ]
  },
  {
   "cell_type": "code",
   "execution_count": 90,
   "metadata": {
    "collapsed": false
   },
   "outputs": [
    {
     "name": "stdout",
     "output_type": "stream",
     "text": [
      "1\n"
     ]
    }
   ],
   "source": [
    "filter_count(classls,Age=[14,35],Dist=\"S\",Result=\"N\")"
   ]
  },
  {
   "cell_type": "code",
   "execution_count": 93,
   "metadata": {
    "collapsed": false
   },
   "outputs": [
    {
     "data": {
      "text/plain": [
       "'Bokeh教學\\nhttp://blog.infographics.tw/2016/04/interactive-visualization-with-bokeh-and-python/\\n'"
      ]
     },
     "execution_count": 93,
     "metadata": {},
     "output_type": "execute_result"
    }
   ],
   "source": [
    "'''Bokeh教學\n",
    "http://blog.infographics.tw/2016/04/interactive-visualization-with-bokeh-and-python/\n",
    "'''\n"
   ]
  },
  {
   "cell_type": "code",
   "execution_count": 94,
   "metadata": {
    "collapsed": true
   },
   "outputs": [],
   "source": [
    "from bokeh.plotting import figure, output_file, show\n",
    "output_file(\"out.html\")\n",
    "p = figure()\n",
    "p.line([1,2,3,4,5],[5,4,3,2,1])\n",
    "show(p)"
   ]
  },
  {
   "cell_type": "code",
   "execution_count": 80,
   "metadata": {
    "collapsed": false
   },
   "outputs": [
    {
     "name": "stdout",
     "output_type": "stream",
     "text": [
      "請輸入檔案路徑\n",
      "檔案名稱：\n",
      "是否列印DATAFRAME(y/n)：y\n",
      "csv資料：\n",
      "         ID 居住縣市 居住鄉鎮 居住村里 發病年齡(足歲) 性別     職業 發病日期(西元-yyyymmdd) 是否死亡\n",
      "0  1.03E+12  高雄市  鳳山區  老爺里       52  男    製造業         2014/1/15    否\n",
      "1  1.03E+12  高雄市  林園區  潭頭里       44  男    營造業         2014/1/26    否\n",
      "2  1.03E+12  高雄市  鳳山區  文華里       69  男     其它         2014/1/29    否\n",
      "3  1.03E+12  高雄市  三民區  灣子里       28  男  教育服務業          2014/2/5    否\n",
      "4  1.03E+12  高雄市  三民區  安生里       21  男     學生          2014/2/7    否\n",
      "----------------\n"
     ]
    }
   ],
   "source": [
    "#讀取資料，建立dataframe\n",
    "\n",
    "import pandas as pd\n",
    "import numpy as np\n",
    "import scipy.stats as stats\n",
    "import os\n",
    "import matplotlib.pyplot as plt\n",
    "\n",
    "url = input('請輸入檔案路徑')\n",
    "file_name = input('檔案名稱：')\n",
    "url_file_name = url +'\\\\'+file_name\n",
    "file = open('D:\\\\YAO\\\\DATA\\\\KH_Dengue_Case\\\\高雄\\\\高雄－登革熱2014(103年).csv',encoding='big5')\n",
    "data_list = []\n",
    "for i in file.readlines():\n",
    "    data = i.strip()\n",
    "    data = data.split(',')\n",
    "    data_list.append(data)\n",
    "file.close()\n",
    "\n",
    "file_df = pd.DataFrame(data_list[1:],columns=data_list[0])\n",
    "\n",
    "condiction = input('是否列印DATAFRAME(y/n)：')\n",
    "if condiction == 'y':\n",
    "    print('csv資料：')\n",
    "    print(file_df.head())\n",
    "    print('----------------')"
   ]
  },
  {
   "cell_type": "code",
   "execution_count": 76,
   "metadata": {
    "collapsed": true
   },
   "outputs": [],
   "source": [
    "class A:\n",
    "    \n",
    "    def __init__(self,City,Dist,Li,Age,Gender,Die):\n",
    "        self.city = City\n",
    "        self.dist = Dist\n",
    "        self.li = Li\n",
    "        self.age = Age\n",
    "        self.gender = Gender\n",
    "        self.die = Die\n",
    "    "
   ]
  },
  {
   "cell_type": "code",
   "execution_count": 81,
   "metadata": {
    "collapsed": false
   },
   "outputs": [],
   "source": [
    "input01 = list(file_df.ix[:,1])\n",
    "input02 = list(file_df.ix[:,2])\n",
    "input03 = list(file_df.ix[:,3])\n",
    "input04 = list(file_df.ix[:,4])\n",
    "input05 = list(file_df.ix[:,5])\n",
    "input08 = list(file_df.ix[:,8])\n",
    "\n",
    "\n",
    "classls = []\n",
    "for i in range(len(input01)):\n",
    "    classls.append(A(input01[i],input02[i],input03[i],input04[i],input05[i],input08[i]))\n",
    "\n"
   ]
  },
  {
   "cell_type": "code",
   "execution_count": 82,
   "metadata": {
    "collapsed": true
   },
   "outputs": [],
   "source": [
    "def filter_count(Class_Ls,City=0,Dist=0,Li=0,Age=[0,200],Gender=0,Die=0):\n",
    "    answers = []\n",
    "    for i in Class_Ls:\n",
    "        \n",
    "        if i.city == City:\n",
    "            city_x = 1\n",
    "        elif i.city != City:\n",
    "            city_x = 0\n",
    "        if City == 0:\n",
    "            city_x = 1\n",
    "        \n",
    "        if i.dist == Dist:\n",
    "            dist_x = 1\n",
    "        elif i.dist != Dist:\n",
    "            dist_x = 0\n",
    "        if Dist == 0:\n",
    "            dist_x = 1\n",
    "            \n",
    "        if i.li == Li:\n",
    "            li_x = 1\n",
    "        elif i.li != Li:\n",
    "            li_x = 0\n",
    "        if Li == 0:\n",
    "            li_x = 1\n",
    "            \n",
    "        if Age[0]<=int(i.age)<=Age[1]:\n",
    "            age_x = 1\n",
    "        else:\n",
    "            age_x = 0\n",
    "\n",
    "        if i.gender == Gender:\n",
    "            gender_x = 1\n",
    "        elif i.gender != Gender:\n",
    "            gender_x = 0\n",
    "        if Gender == 0:\n",
    "            gender_x = 1\n",
    "            \n",
    "        if i.die == Die:\n",
    "            die_x = 1\n",
    "        elif i.die != Die:\n",
    "            die_x = 0\n",
    "        if Die == 0:\n",
    "            die_x = 1  \n",
    "        \n",
    "        ans = city_x * dist_x * li_x * age_x *gender_x * die_x \n",
    "        answers.append(ans)\n",
    "    return sum(answers)"
   ]
  },
  {
   "cell_type": "code",
   "execution_count": 83,
   "metadata": {
    "collapsed": false
   },
   "outputs": [
    {
     "name": "stdout",
     "output_type": "stream",
     "text": [
      "1歲:0.0000 (0/15013)\n",
      "2歲:0.0000 (0/15013)\n",
      "3歲:0.0000 (0/15013)\n",
      "4歲:0.0000 (0/15013)\n",
      "5歲:0.0000 (0/15013)\n",
      "6歲:0.0000 (0/15013)\n",
      "7歲:0.0000 (0/15013)\n",
      "8歲:0.0000 (0/15013)\n",
      "9歲:0.0000 (0/15013)\n",
      "10歲:0.0000 (0/15013)\n",
      "11歲:0.0000 (0/15013)\n",
      "12歲:0.0000 (0/15013)\n",
      "13歲:0.0000 (0/15013)\n",
      "14歲:0.0000 (0/15013)\n",
      "15歲:0.0000 (0/15013)\n",
      "16歲:0.0000 (0/15013)\n",
      "17歲:0.0000 (0/15013)\n",
      "18歲:0.0000 (0/15013)\n",
      "19歲:0.0000 (0/15013)\n",
      "20歲:0.0000 (0/15013)\n",
      "21歲:0.0000 (0/15013)\n",
      "22歲:0.0000 (0/15013)\n",
      "23歲:0.0000 (0/15013)\n",
      "24歲:0.0000 (0/15013)\n",
      "25歲:0.0000 (0/15013)\n",
      "26歲:0.0000 (0/15013)\n",
      "27歲:0.0000 (0/15013)\n",
      "28歲:0.0000 (0/15013)\n",
      "29歲:0.0000 (0/15013)\n",
      "30歲:0.0000 (0/15013)\n",
      "31歲:0.0000 (0/15013)\n",
      "32歲:0.0000 (0/15013)\n",
      "33歲:0.0000 (0/15013)\n",
      "34歲:0.0000 (0/15013)\n",
      "35歲:0.0000 (0/15013)\n",
      "36歲:0.0000 (0/15013)\n",
      "37歲:0.0000 (0/15013)\n",
      "38歲:0.0000 (0/15013)\n",
      "39歲:0.0000 (0/15013)\n",
      "40歲:0.0000 (0/15013)\n",
      "41歲:0.0000 (0/15013)\n",
      "42歲:0.0000 (0/15013)\n",
      "43歲:0.0000 (0/15013)\n",
      "44歲:0.0000 (0/15013)\n",
      "45歲:0.0000 (0/15013)\n",
      "46歲:0.0000 (0/15013)\n",
      "47歲:0.0000 (0/15013)\n",
      "48歲:0.0067 (1/15013)\n",
      "49歲:0.0000 (0/15013)\n",
      "50歲:0.0000 (0/15013)\n",
      "51歲:0.0000 (0/15013)\n",
      "52歲:0.0000 (0/15013)\n",
      "53歲:0.0000 (0/15013)\n",
      "54歲:0.0067 (1/15013)\n",
      "55歲:0.0000 (0/15013)\n",
      "56歲:0.0000 (0/15013)\n",
      "57歲:0.0000 (0/15013)\n",
      "58歲:0.0000 (0/15013)\n",
      "59歲:0.0067 (1/15013)\n",
      "60歲:0.0067 (1/15013)\n",
      "61歲:0.0000 (0/15013)\n",
      "62歲:0.0000 (0/15013)\n",
      "63歲:0.0000 (0/15013)\n",
      "64歲:0.0067 (1/15013)\n",
      "65歲:0.0000 (0/15013)\n",
      "66歲:0.0000 (0/15013)\n",
      "67歲:0.0200 (3/15013)\n",
      "68歲:0.0067 (1/15013)\n",
      "69歲:0.0266 (4/15013)\n",
      "70歲:0.0067 (1/15013)\n",
      "71歲:0.0067 (1/15013)\n",
      "72歲:0.0067 (1/15013)\n",
      "73歲:0.0000 (0/15013)\n",
      "74歲:0.0133 (2/15013)\n",
      "75歲:0.0067 (1/15013)\n",
      "76歲:0.0133 (2/15013)\n",
      "77歲:0.0000 (0/15013)\n",
      "78歲:0.0067 (1/15013)\n",
      "79歲:0.0133 (2/15013)\n",
      "80歲:0.0000 (0/15013)\n",
      "81歲:0.0133 (2/15013)\n",
      "82歲:0.0000 (0/15013)\n",
      "83歲:0.0000 (0/15013)\n",
      "84歲:0.0000 (0/15013)\n",
      "85歲:0.0067 (1/15013)\n",
      "86歲:0.0000 (0/15013)\n",
      "87歲:0.0000 (0/15013)\n",
      "88歲:0.0000 (0/15013)\n",
      "89歲:0.0000 (0/15013)\n",
      "90歲:0.0000 (0/15013)\n",
      "91歲:0.0000 (0/15013)\n",
      "92歲:0.0000 (0/15013)\n",
      "93歲:0.0000 (0/15013)\n",
      "94歲:0.0000 (0/15013)\n",
      "95歲:0.0000 (0/15013)\n",
      "96歲:0.0000 (0/15013)\n",
      "97歲:0.0000 (0/15013)\n",
      "98歲:0.0000 (0/15013)\n",
      "99歲:0.0000 (0/15013)\n",
      "100歲:0.0000 (0/15013)\n"
     ]
    }
   ],
   "source": [
    "age = list(range(1,101))\n",
    "\n",
    "\n",
    "for i in age:\n",
    "    print('%d歲:%.4f (%d/%d)'%(i,filter_count(classls,Die='是',Age=[i,i])*100/filter_count(classls),filter_count(classls,Die='是',Age=[i,i]),filter_count(classls)))"
   ]
  },
  {
   "cell_type": "code",
   "execution_count": 69,
   "metadata": {
    "collapsed": false
   },
   "outputs": [
    {
     "name": "stdout",
     "output_type": "stream",
     "text": [
      "小港區 : 931 / 19385 人 (4.8027%)\n",
      "岡山區 : 286 / 19385 人 (1.4754%)\n",
      "甲仙區 : 4 / 19385 人 (0.0206%)\n",
      "新興區 : 474 / 19385 人 (2.4452%)\n",
      "前金區 : 311 / 19385 人 (1.6043%)\n",
      "六龜區 : 12 / 19385 人 (0.0619%)\n",
      "旗山區 : 122 / 19385 人 (0.6294%)\n",
      "苓雅區 : 2233 / 19385 人 (11.5192%)\n",
      "茂林區 : 6 / 19385 人 (0.0310%)\n",
      "鼓山區 : 1376 / 19385 人 (7.0983%)\n",
      "大社區 : 223 / 19385 人 (1.1504%)\n",
      "彌陀區 : 12 / 19385 人 (0.0619%)\n",
      "燕巢區 : 79 / 19385 人 (0.4075%)\n",
      "田寮區 : 4 / 19385 人 (0.0206%)\n",
      "大樹區 : 40 / 19385 人 (0.2063%)\n",
      "仁武區 : 254 / 19385 人 (1.3103%)\n",
      "杉林區 : 3 / 19385 人 (0.0155%)\n",
      "路竹區 : 40 / 19385 人 (0.2063%)\n",
      "旗津區 : 186 / 19385 人 (0.9595%)\n",
      "鳳山區 : 2513 / 19385 人 (12.9636%)\n",
      "左營區 : 1204 / 19385 人 (6.2110%)\n",
      "阿蓮區 : 59 / 19385 人 (0.3044%)\n",
      "湖內區 : 56 / 19385 人 (0.2889%)\n",
      "鳥松區 : 126 / 19385 人 (0.6500%)\n",
      "橋頭區 : 47 / 19385 人 (0.2425%)\n",
      "永安區 : 7 / 19385 人 (0.0361%)\n",
      "那瑪區 : 1 / 19385 人 (0.0052%)\n",
      "大寮區 : 284 / 19385 人 (1.4651%)\n",
      "內門區 : 15 / 19385 人 (0.0774%)\n",
      "茄萣區 : 227 / 19385 人 (1.1710%)\n",
      "美濃區 : 21 / 19385 人 (0.1083%)\n",
      "楠梓區 : 586 / 19385 人 (3.0230%)\n",
      "梓官區 : 43 / 19385 人 (0.2218%)\n",
      "林園區 : 79 / 19385 人 (0.4075%)\n",
      "三民區 : 4544 / 19385 人 (23.4408%)\n",
      "前鎮區 : 2723 / 19385 人 (14.0469%)\n",
      "鹽埕區 : 254 / 19385 人 (1.3103%)\n"
     ]
    }
   ],
   "source": [
    "Distls = list(set(file_df.ix[:,'居住鄉鎮']))\n",
    "\n",
    "for i in Distls:\n",
    "    DistNumber = filter_count(classls,Dist=i)\n",
    "    Total = filter_count(classls)\n",
    "    print('%s : %d / %d 人 (%.4f%%)'%(i,DistNumber,Total,DistNumber*100/Total))"
   ]
  },
  {
   "cell_type": "code",
   "execution_count": 70,
   "metadata": {
    "collapsed": false
   },
   "outputs": [
    {
     "data": {
      "text/plain": [
       "154"
      ]
     },
     "execution_count": 70,
     "metadata": {},
     "output_type": "execute_result"
    }
   ],
   "source": [
    "#死亡人數\n",
    "filter_count(classls,Die='是')"
   ]
  },
  {
   "cell_type": "code",
   "execution_count": 86,
   "metadata": {
    "collapsed": false
   },
   "outputs": [
    {
     "data": {
      "text/plain": [
       "0.3333333333333333"
      ]
     },
     "execution_count": 86,
     "metadata": {},
     "output_type": "execute_result"
    }
   ],
   "source": [
    "9/27\n"
   ]
  },
  {
   "cell_type": "code",
   "execution_count": null,
   "metadata": {
    "collapsed": true
   },
   "outputs": [],
   "source": []
  }
 ],
 "metadata": {
  "kernelspec": {
   "display_name": "Python 3",
   "language": "python",
   "name": "python3"
  },
  "language_info": {
   "codemirror_mode": {
    "name": "ipython",
    "version": 3
   },
   "file_extension": ".py",
   "mimetype": "text/x-python",
   "name": "python",
   "nbconvert_exporter": "python",
   "pygments_lexer": "ipython3",
   "version": "3.6.0"
  }
 },
 "nbformat": 4,
 "nbformat_minor": 2
}
