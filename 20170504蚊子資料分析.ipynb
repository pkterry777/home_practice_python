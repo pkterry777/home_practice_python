{
 "cells": [
  {
   "cell_type": "code",
   "execution_count": 108,
   "metadata": {
    "collapsed": true
   },
   "outputs": [],
   "source": [
    "import pandas as pd\n",
    "import numpy as np\n",
    "import os\n",
    "import matplotlib.pyplot as plt\n",
    "\n",
    "#設定字體為標楷體'DFKai-sb':\n",
    "from pylab import *\n",
    "mpl.rcParams['font.sans-serif'] = ['DFKai-sb']"
   ]
  },
  {
   "cell_type": "code",
   "execution_count": 110,
   "metadata": {
    "collapsed": false
   },
   "outputs": [
    {
     "data": {
      "text/html": [
       "<div>\n",
       "<table border=\"1\" class=\"dataframe\">\n",
       "  <thead>\n",
       "    <tr style=\"text-align: right;\">\n",
       "      <th></th>\n",
       "      <th>Date</th>\n",
       "      <th>County</th>\n",
       "      <th>Town</th>\n",
       "      <th>Village</th>\n",
       "      <th>VillageID</th>\n",
       "      <th>VillageLon</th>\n",
       "      <th>VillageLat</th>\n",
       "      <th>AreaType</th>\n",
       "      <th>HouseHold</th>\n",
       "      <th>InspectType</th>\n",
       "      <th>...</th>\n",
       "      <th>HIAeg</th>\n",
       "      <th>HILv</th>\n",
       "      <th>HILvAeg</th>\n",
       "      <th>CI</th>\n",
       "      <th>CILv</th>\n",
       "      <th>LI</th>\n",
       "      <th>LILv</th>\n",
       "      <th>Pupa</th>\n",
       "      <th>AI</th>\n",
       "      <th>Con100HH</th>\n",
       "    </tr>\n",
       "  </thead>\n",
       "  <tbody>\n",
       "    <tr>\n",
       "      <th>0</th>\n",
       "      <td>2014/1/1</td>\n",
       "      <td>高雄市</td>\n",
       "      <td>前鎮區</td>\n",
       "      <td>明孝里</td>\n",
       "      <td>6400900-002</td>\n",
       "      <td>120.3176975</td>\n",
       "      <td>22.57032824</td>\n",
       "      <td>住宅</td>\n",
       "      <td>77</td>\n",
       "      <td>監測</td>\n",
       "      <td>...</td>\n",
       "      <td>7.792</td>\n",
       "      <td>3</td>\n",
       "      <td>3</td>\n",
       "      <td>10.714</td>\n",
       "      <td>4</td>\n",
       "      <td>48.051</td>\n",
       "      <td>4</td>\n",
       "      <td>0</td>\n",
       "      <td>0</td>\n",
       "      <td>7.79</td>\n",
       "    </tr>\n",
       "    <tr>\n",
       "      <th>1</th>\n",
       "      <td>2014/1/1</td>\n",
       "      <td>高雄市</td>\n",
       "      <td>前鎮區</td>\n",
       "      <td>明孝里</td>\n",
       "      <td>6400900-002</td>\n",
       "      <td>120.3176975</td>\n",
       "      <td>22.57032824</td>\n",
       "      <td>住宅</td>\n",
       "      <td>50</td>\n",
       "      <td>衛生所</td>\n",
       "      <td>...</td>\n",
       "      <td>4</td>\n",
       "      <td>2</td>\n",
       "      <td>2</td>\n",
       "      <td>7.692</td>\n",
       "      <td>3</td>\n",
       "      <td>24</td>\n",
       "      <td>3</td>\n",
       "      <td>0</td>\n",
       "      <td>0</td>\n",
       "      <td>4</td>\n",
       "    </tr>\n",
       "    <tr>\n",
       "      <th>2</th>\n",
       "      <td>2014/1/1</td>\n",
       "      <td>高雄市</td>\n",
       "      <td>前鎮區</td>\n",
       "      <td>草衙里</td>\n",
       "      <td>6400900-001</td>\n",
       "      <td>120.3234559</td>\n",
       "      <td>22.57316846</td>\n",
       "      <td>住宅</td>\n",
       "      <td>123</td>\n",
       "      <td>監測</td>\n",
       "      <td>...</td>\n",
       "      <td>9.756</td>\n",
       "      <td>3</td>\n",
       "      <td>3</td>\n",
       "      <td>21.839</td>\n",
       "      <td>6</td>\n",
       "      <td>139.837</td>\n",
       "      <td>5</td>\n",
       "      <td>0</td>\n",
       "      <td>0.0162</td>\n",
       "      <td>15.44</td>\n",
       "    </tr>\n",
       "    <tr>\n",
       "      <th>3</th>\n",
       "      <td>2014/1/1</td>\n",
       "      <td>高雄市</td>\n",
       "      <td>前鎮區</td>\n",
       "      <td>草衙里</td>\n",
       "      <td>6400900-001</td>\n",
       "      <td>120.3234559</td>\n",
       "      <td>22.57316846</td>\n",
       "      <td>住宅</td>\n",
       "      <td>100</td>\n",
       "      <td>衛生所</td>\n",
       "      <td>...</td>\n",
       "      <td>5</td>\n",
       "      <td>2</td>\n",
       "      <td>2</td>\n",
       "      <td>13.953</td>\n",
       "      <td>4</td>\n",
       "      <td>61</td>\n",
       "      <td>4</td>\n",
       "      <td>0</td>\n",
       "      <td>0</td>\n",
       "      <td>6</td>\n",
       "    </tr>\n",
       "    <tr>\n",
       "      <th>4</th>\n",
       "      <td>2014/1/1</td>\n",
       "      <td>高雄市</td>\n",
       "      <td>三民區</td>\n",
       "      <td>寶業里</td>\n",
       "      <td>6400500-025</td>\n",
       "      <td>120.3452536</td>\n",
       "      <td>22.63991944</td>\n",
       "      <td>住宅</td>\n",
       "      <td>50</td>\n",
       "      <td>衛生局</td>\n",
       "      <td>...</td>\n",
       "      <td>0</td>\n",
       "      <td>0</td>\n",
       "      <td>0</td>\n",
       "      <td>0</td>\n",
       "      <td>0</td>\n",
       "      <td>0</td>\n",
       "      <td>0</td>\n",
       "      <td>0</td>\n",
       "      <td>0</td>\n",
       "      <td>0</td>\n",
       "    </tr>\n",
       "  </tbody>\n",
       "</table>\n",
       "<p>5 rows × 41 columns</p>\n",
       "</div>"
      ],
      "text/plain": [
       "       Date County Town Village    VillageID   VillageLon   VillageLat  \\\n",
       "0  2014/1/1    高雄市  前鎮區     明孝里  6400900-002  120.3176975  22.57032824   \n",
       "1  2014/1/1    高雄市  前鎮區     明孝里  6400900-002  120.3176975  22.57032824   \n",
       "2  2014/1/1    高雄市  前鎮區     草衙里  6400900-001  120.3234559  22.57316846   \n",
       "3  2014/1/1    高雄市  前鎮區     草衙里  6400900-001  120.3234559  22.57316846   \n",
       "4  2014/1/1    高雄市  三民區     寶業里  6400500-025  120.3452536  22.63991944   \n",
       "\n",
       "  AreaType HouseHold InspectType   ...     HIAeg HILv HILvAeg      CI CILv  \\\n",
       "0       住宅        77          監測   ...     7.792    3       3  10.714    4   \n",
       "1       住宅        50         衛生所   ...         4    2       2   7.692    3   \n",
       "2       住宅       123          監測   ...     9.756    3       3  21.839    6   \n",
       "3       住宅       100         衛生所   ...         5    2       2  13.953    4   \n",
       "4       住宅        50         衛生局   ...         0    0       0       0    0   \n",
       "\n",
       "        LI LILv Pupa      AI Con100HH  \n",
       "0   48.051    4    0       0     7.79  \n",
       "1       24    3    0       0        4  \n",
       "2  139.837    5    0  0.0162    15.44  \n",
       "3       61    4    0       0        6  \n",
       "4        0    0    0       0        0  \n",
       "\n",
       "[5 rows x 41 columns]"
      ]
     },
     "execution_count": 110,
     "metadata": {},
     "output_type": "execute_result"
    }
   ],
   "source": [
    "f1 = open('H:\\\\LabData\\\\DATA\\\\蚊子資料(需要更新)\\\\2014年蚊子.csv','r')\n",
    "data_list = []\n",
    "for i in f1.readlines():\n",
    "    data = i.strip()\n",
    "    data = data.split(',')\n",
    "    data_list.append(data)\n",
    "f1.close()\n",
    "MosData = pd.DataFrame(data_list[1:],columns=data_list[0])\n",
    "MosData.head()\n",
    "#蚊子資料是10-40行"
   ]
  },
  {
   "cell_type": "code",
   "execution_count": 111,
   "metadata": {
    "collapsed": false
   },
   "outputs": [
    {
     "data": {
      "text/html": [
       "<div>\n",
       "<table border=\"1\" class=\"dataframe\">\n",
       "  <thead>\n",
       "    <tr style=\"text-align: right;\">\n",
       "      <th></th>\n",
       "      <th>縣市名稱</th>\n",
       "      <th>鄉鎮市區名稱</th>\n",
       "      <th>村里名稱</th>\n",
       "      <th>鄉鎮市區代碼</th>\n",
       "      <th>村里代碼</th>\n",
       "      <th>人口數</th>\n",
       "      <th>面積</th>\n",
       "      <th>人口密度</th>\n",
       "    </tr>\n",
       "  </thead>\n",
       "  <tbody>\n",
       "    <tr>\n",
       "      <th>0</th>\n",
       "      <td>金門縣</td>\n",
       "      <td>金湖鎮</td>\n",
       "      <td>新湖里</td>\n",
       "      <td>09020030</td>\n",
       "      <td>006</td>\n",
       "      <td>7143</td>\n",
       "      <td>0</td>\n",
       "      <td>0</td>\n",
       "    </tr>\n",
       "    <tr>\n",
       "      <th>1</th>\n",
       "      <td>金門縣</td>\n",
       "      <td>金湖鎮</td>\n",
       "      <td>溪湖里</td>\n",
       "      <td>09020030</td>\n",
       "      <td>007</td>\n",
       "      <td>1450</td>\n",
       "      <td>0</td>\n",
       "      <td>0</td>\n",
       "    </tr>\n",
       "    <tr>\n",
       "      <th>2</th>\n",
       "      <td>金門縣</td>\n",
       "      <td>金湖鎮</td>\n",
       "      <td>蓮庵里</td>\n",
       "      <td>09020030</td>\n",
       "      <td>008</td>\n",
       "      <td>1565</td>\n",
       "      <td>0</td>\n",
       "      <td>0</td>\n",
       "    </tr>\n",
       "    <tr>\n",
       "      <th>3</th>\n",
       "      <td>金門縣</td>\n",
       "      <td>金湖鎮</td>\n",
       "      <td>瓊林里</td>\n",
       "      <td>09020030</td>\n",
       "      <td>005</td>\n",
       "      <td>3139</td>\n",
       "      <td>0</td>\n",
       "      <td>0</td>\n",
       "    </tr>\n",
       "    <tr>\n",
       "      <th>4</th>\n",
       "      <td>金門縣</td>\n",
       "      <td>金寧鄉</td>\n",
       "      <td>古寧村</td>\n",
       "      <td>09020040</td>\n",
       "      <td>001</td>\n",
       "      <td>3108</td>\n",
       "      <td>0</td>\n",
       "      <td>0</td>\n",
       "    </tr>\n",
       "  </tbody>\n",
       "</table>\n",
       "</div>"
      ],
      "text/plain": [
       "  縣市名稱 鄉鎮市區名稱 村里名稱    鄉鎮市區代碼 村里代碼   人口數 面積 人口密度\n",
       "0  金門縣    金湖鎮  新湖里  09020030  006  7143  0    0\n",
       "1  金門縣    金湖鎮  溪湖里  09020030  007  1450  0    0\n",
       "2  金門縣    金湖鎮  蓮庵里  09020030  008  1565  0    0\n",
       "3  金門縣    金湖鎮  瓊林里  09020030  005  3139  0    0\n",
       "4  金門縣    金寧鄉  古寧村  09020040  001  3108  0    0"
      ]
     },
     "execution_count": 111,
     "metadata": {},
     "output_type": "execute_result"
    }
   ],
   "source": [
    "f1 = open('H:\\\\LabData\\\\DATA\\\\PopulationData\\\\各里人口密度.csv','r')\n",
    "data_list = []\n",
    "for i in f1.readlines():\n",
    "    data = i.strip()\n",
    "    data = data.split(',')\n",
    "    data_list.append(data)\n",
    "f1.close()\n",
    "popdata = pd.DataFrame(data_list[1:],columns=data_list[0])\n",
    "popdata.head()"
   ]
  },
  {
   "cell_type": "code",
   "execution_count": 20,
   "metadata": {
    "collapsed": true
   },
   "outputs": [],
   "source": [
    "def SelectPopName(popdata,city,dist):\n",
    "    PopDataSelected = popdata.loc[(popdata.ix[:,0]==city)&(popdata.ix[:,1]==dist)]\n",
    "    LiName = PopDataSelected['村里名稱']\n",
    "    return LiName"
   ]
  },
  {
   "cell_type": "code",
   "execution_count": 51,
   "metadata": {
    "collapsed": false
   },
   "outputs": [
    {
     "data": {
      "text/plain": [
       "['力行里', '十全里', '十美里', '千北里', '千秋里', '千歲里', '川東里', '本上里', '本元里', '本文里', '本安里', '本和里', '本武里', '本揚里', '本館里', '正順里', '正興里', '民享里', '立業里', '立誠里', '立德里', '同德里', '安生里', '安吉里', '安邦里', '安和里', '安宜里', '安東里', '安泰里', '安康里', '安發里', '安寧里', '長明里', '建東里', '博惠里', '博愛里', '港西里', '港東里', '港新里', '裕民里', '達仁里', '達明里', '達勇里', '達德里', '鼎力里', '鼎中里', '鼎西里', '鼎金里', '鼎泰里', '鼎強里', '鼎盛里', '精華里', '鳳北里', '鳳南里', '德仁里', '德北里', '德行里', '德西里', '德東里', '德智里', '興德里', '豐裕里', '寶中里', '寶民里', '寶玉里', '寶安里', '寶泰里', '寶珠里', '寶國里', '寶盛里', '寶華里', '寶業里', '寶獅里', '寶德里', '寶慶里', '寶興里', '寶龍里', '灣子里', '灣中里', '灣成里', '灣利里', '灣勝里', '灣復里', '灣華里', '灣愛里', '灣興里']"
      ]
     },
     "execution_count": 51,
     "metadata": {},
     "output_type": "execute_result"
    }
   ],
   "source": [
    "LiNames = list(SelectPopName(popdata,'高雄市','三民區'))\n",
    "LiNames"
   ]
  },
  {
   "cell_type": "code",
   "execution_count": 76,
   "metadata": {
    "collapsed": false
   },
   "outputs": [],
   "source": [
    "Date = ['/1/','/2/','/3/','/4/','/5/','/6/','/7/','/8/','/9/','/10','/11','/12']\n",
    "Datedict = {'/1/':1,'/2/':2,'/3/':3,'/4/':4,'/5/':5,'/6/':6,'/7/':7,'/8/':8,'/9/':9,'/10':10,'/11':11,'/12':12}"
   ]
  },
  {
   "cell_type": "code",
   "execution_count": 112,
   "metadata": {
    "collapsed": false
   },
   "outputs": [],
   "source": [
    "\n",
    "def Count(month,dist,li,index):\n",
    "    lis = list(MosData.loc[(MosData.ix[:,0].str[4:7]==month)&(MosData.ix[:,2]==dist)&(MosData.ix[:,3]==li)].ix[:,index])\n",
    "    for i in range(len(lis)):\n",
    "        if lis[i] =='':\n",
    "            lis[i]=0\n",
    "    lis = list(map(float,lis))\n",
    "    return sum(lis)/len(lis)"
   ]
  },
  {
   "cell_type": "code",
   "execution_count": 104,
   "metadata": {
    "collapsed": false
   },
   "outputs": [
    {
     "name": "stderr",
     "output_type": "stream",
     "text": [
      "C:\\Users\\jean\\Anaconda3\\lib\\site-packages\\ipykernel\\__main__.py:8: RuntimeWarning: invalid value encountered in double_scalars\n"
     ]
    }
   ],
   "source": [
    "f1 = open('H:\\\\LabData\\\\DATA\\\\蚊子資料(需要更新)\\\\三民區蚊子資料月平均.csv','w')\n",
    "\n",
    "f1.write('月份,區,里,')\n",
    "for i in list(MosData.columns[10:41]):\n",
    "    f1.write(i)\n",
    "    f1.write(',')\n",
    "f1.write('\\n')\n",
    "for date in Date:\n",
    "    for Li in LiNames:\n",
    "        C=[]\n",
    "        for index in range(10,41):\n",
    "            c = Count(date,'三民區',Li,index)\n",
    "            C.append(c)\n",
    "        f1.write(str(Datedict[date])+','+Li+',')\n",
    "        for i in C:\n",
    "            f1.write(str(i))\n",
    "            f1.write(',')\n",
    "        f1.write('\\n')\n",
    "f1.close()"
   ]
  },
  {
   "cell_type": "code",
   "execution_count": 60,
   "metadata": {
    "collapsed": true
   },
   "outputs": [],
   "source": [
    "a =['1','2','3']"
   ]
  },
  {
   "cell_type": "code",
   "execution_count": 73,
   "metadata": {
    "collapsed": false
   },
   "outputs": [
    {
     "data": {
      "text/plain": [
       "['PosHH', 'PosHHAeg', 'ConIn', 'ConOut', 'ConAll', 'PosConIn', 'PosConOut', 'PosConAll', 'FAegIn', 'FAegOut', 'FAlbIn', 'FAlbOut', 'LarvaAeg', 'LarvaAlb', 'LarvaNEC', 'PI', 'BI', 'BILv', 'AIAeg', 'AIAlb', 'HI', 'HIAeg', 'HILv', 'HILvAeg', 'CI', 'CILv', 'LI', 'LILv', 'Pupa', 'AI', 'Con100HH']"
      ]
     },
     "execution_count": 73,
     "metadata": {},
     "output_type": "execute_result"
    }
   ],
   "source": [
    "安發里"
   ]
  },
  {
   "cell_type": "code",
   "execution_count": 88,
   "metadata": {
    "collapsed": false
   },
   "outputs": [
    {
     "data": {
      "text/html": [
       "<div>\n",
       "<table border=\"1\" class=\"dataframe\">\n",
       "  <thead>\n",
       "    <tr style=\"text-align: right;\">\n",
       "      <th></th>\n",
       "      <th>Date</th>\n",
       "      <th>County</th>\n",
       "      <th>Town</th>\n",
       "      <th>Village</th>\n",
       "      <th>VillageID</th>\n",
       "      <th>VillageLon</th>\n",
       "      <th>VillageLat</th>\n",
       "      <th>AreaType</th>\n",
       "      <th>HouseHold</th>\n",
       "      <th>InspectType</th>\n",
       "      <th>...</th>\n",
       "      <th>HIAeg</th>\n",
       "      <th>HILv</th>\n",
       "      <th>HILvAeg</th>\n",
       "      <th>CI</th>\n",
       "      <th>CILv</th>\n",
       "      <th>LI</th>\n",
       "      <th>LILv</th>\n",
       "      <th>Pupa</th>\n",
       "      <th>AI</th>\n",
       "      <th>Con100HH</th>\n",
       "    </tr>\n",
       "  </thead>\n",
       "  <tbody>\n",
       "    <tr>\n",
       "      <th>71</th>\n",
       "      <td>2014/1/13</td>\n",
       "      <td>高雄市</td>\n",
       "      <td>三民區</td>\n",
       "      <td>安發里</td>\n",
       "      <td>6400500-045</td>\n",
       "      <td>120.3212599</td>\n",
       "      <td>22.64088751</td>\n",
       "      <td>住宅</td>\n",
       "      <td>50</td>\n",
       "      <td>監測</td>\n",
       "      <td>...</td>\n",
       "      <td>6</td>\n",
       "      <td>2</td>\n",
       "      <td>2</td>\n",
       "      <td>15</td>\n",
       "      <td>5</td>\n",
       "      <td>22</td>\n",
       "      <td>3</td>\n",
       "      <td>0</td>\n",
       "      <td>0</td>\n",
       "      <td>6</td>\n",
       "    </tr>\n",
       "  </tbody>\n",
       "</table>\n",
       "<p>1 rows × 41 columns</p>\n",
       "</div>"
      ],
      "text/plain": [
       "         Date County Town Village    VillageID   VillageLon   VillageLat  \\\n",
       "71  2014/1/13    高雄市  三民區     安發里  6400500-045  120.3212599  22.64088751   \n",
       "\n",
       "   AreaType HouseHold InspectType   ...    HIAeg HILv HILvAeg  CI CILv  LI  \\\n",
       "71       住宅        50          監測   ...        6    2       2  15    5  22   \n",
       "\n",
       "   LILv Pupa AI Con100HH  \n",
       "71    3    0  0        6  \n",
       "\n",
       "[1 rows x 41 columns]"
      ]
     },
     "execution_count": 88,
     "metadata": {},
     "output_type": "execute_result"
    }
   ],
   "source": [
    "MosData.loc[(MosData.ix[:,0].str[4:7]=='/1/')&(MosData.ix[:,2]=='三民區')&(MosData.ix[:,3]=='安發里')]"
   ]
  },
  {
   "cell_type": "code",
   "execution_count": 103,
   "metadata": {
    "collapsed": false
   },
   "outputs": [],
   "source": [
    "f1.close()"
   ]
  },
  {
   "cell_type": "raw",
   "metadata": {},
   "source": []
  },
  {
   "cell_type": "code",
   "execution_count": 113,
   "metadata": {
    "collapsed": false
   },
   "outputs": [
    {
     "name": "stderr",
     "output_type": "stream",
     "text": [
      "C:\\Users\\jean\\Anaconda3\\lib\\site-packages\\ipykernel\\__main__.py:8: RuntimeWarning: invalid value encountered in double_scalars\n"
     ]
    }
   ],
   "source": [
    "X = ['苓雅區','鳳山區','前鎮區']\n",
    "for DistName in X:\n",
    "\n",
    "    LiNames = list(SelectPopName(popdata,'高雄市',DistName))\n",
    "    LiNames\n",
    "    Date = ['/1/','/2/','/3/','/4/','/5/','/6/','/7/','/8/','/9/','/10','/11','/12']\n",
    "    Datedict = {'/1/':1,'/2/':2,'/3/':3,'/4/':4,'/5/':5,'/6/':6,'/7/':7,'/8/':8,'/9/':9,'/10':10,'/11':11,'/12':12}\n",
    "\n",
    "    f1 = open('H:\\\\LabData\\\\DATA\\\\蚊子資料(需要更新)\\\\%s蚊子資料月平均.csv'%DistName,'w')\n",
    "\n",
    "    f1.write('月份,區,里,')\n",
    "    for i in list(MosData.columns[10:41]):\n",
    "        f1.write(i)\n",
    "        f1.write(',')\n",
    "    f1.write('\\n')\n",
    "    for date in Date:\n",
    "        for Li in LiNames:\n",
    "            C=[]\n",
    "            for index in range(10,41):\n",
    "                c = Count(date,DistName,Li,index)\n",
    "                C.append(c)\n",
    "            f1.write(str(Datedict[date])+','+Li+',')\n",
    "            for i in C:\n",
    "                f1.write(str(i))\n",
    "                f1.write(',')\n",
    "            f1.write('\\n')\n",
    "    f1.close()"
   ]
  },
  {
   "cell_type": "code",
   "execution_count": null,
   "metadata": {
    "collapsed": true
   },
   "outputs": [],
   "source": []
  }
 ],
 "metadata": {
  "kernelspec": {
   "display_name": "Python 3",
   "language": "python",
   "name": "python3"
  },
  "language_info": {
   "codemirror_mode": {
    "name": "ipython",
    "version": 3
   },
   "file_extension": ".py",
   "mimetype": "text/x-python",
   "name": "python",
   "nbconvert_exporter": "python",
   "pygments_lexer": "ipython3",
   "version": "3.6.0"
  }
 },
 "nbformat": 4,
 "nbformat_minor": 2
}
